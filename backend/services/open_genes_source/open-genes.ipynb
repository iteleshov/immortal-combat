{
 "cells": [
  {
   "cell_type": "code",
   "execution_count": 8,
   "id": "d1fd7529-5806-4665-9218-00b3456af1c5",
   "metadata": {},
   "outputs": [],
   "source": [
    "from smolagents import ToolCollection, ToolCallingAgent, OpenAIServerModel\n",
    "from mcp import StdioServerParameters\n",
    "# from pydantic import BaseModel, Field\n",
    "import os\n",
    "# from typing import Optional, List, Literal"
   ]
  },
  {
   "cell_type": "markdown",
   "id": "592ac5b1-47a2-4954-b2c1-6b9bda47935e",
   "metadata": {},
   "source": [
    "### Configuration"
   ]
  },
  {
   "cell_type": "code",
   "execution_count": 9,
   "id": "1afdc382-e870-4046-8f7b-68a0b5ec6a73",
   "metadata": {},
   "outputs": [],
   "source": [
    "os.environ['NEBIUS_API_KEY'] = open('secret.txt', 'r').read().strip()"
   ]
  },
  {
   "cell_type": "code",
   "execution_count": 10,
   "id": "01e847bd-284a-4a58-9093-9423b6425e80",
   "metadata": {},
   "outputs": [],
   "source": [
    "server = StdioServerParameters(\n",
    "    command=\"uvx\",\n",
    "    args=[\"opengenes-mcp\", \"stdio\"]\n",
    ")"
   ]
  },
  {
   "cell_type": "code",
   "execution_count": 11,
   "id": "c4a58b0b-8b06-4244-9b82-3a1ab2f0f180",
   "metadata": {},
   "outputs": [],
   "source": [
    "MODEL = \"Qwen/Qwen3-235B-A22B-Instruct-2507\"\n",
    "\n",
    "model = OpenAIServerModel(\n",
    "    model_id=MODEL,\n",
    "    api_key=os.environ[\"NEBIUS_API_KEY\"],\n",
    "    api_base=\"https://api.studio.nebius.com/v1/\",\n",
    "    temperature=0,\n",
    ")"
   ]
  },
  {
   "cell_type": "markdown",
   "id": "ae40ed52-e23d-4a46-b461-7145903d76cb",
   "metadata": {},
   "source": [
    "### Checks"
   ]
  },
  {
   "cell_type": "code",
   "execution_count": 16,
   "id": "5e02825f-3864-415f-9a39-bcfb135267ad",
   "metadata": {},
   "outputs": [
    {
     "name": "stdout",
     "output_type": "stream",
     "text": [
      "['opengenes_get_schema_info', 'opengenes_example_queries', 'opengenes_db_query']\n"
     ]
    }
   ],
   "source": [
    "with ToolCollection.from_mcp(\n",
    "        server_parameters=server,\n",
    "        trust_remote_code=True,\n",
    "        structured_output=True\n",
    "    ) as tools:\n",
    "        # Проверить, что тулы действительно подхватились:\n",
    "        print([t.name for t in tools.tools])"
   ]
  },
  {
   "cell_type": "code",
   "execution_count": 115,
   "id": "b027748c-3bee-4f3b-b876-7156f70f8e56",
   "metadata": {},
   "outputs": [],
   "source": [
    "def check_tool(tool):\n",
    "    with ToolCollection.from_mcp(server, trust_remote_code=True, structured_output=False) as tc:\n",
    "        # print([t.name for t in tc.tools])  # должны быть: opengenes_db_query, opengenes_get_schema_info, opengenes_example_queries\n",
    "        ex = [t for t in tc.tools if t.name==tool][0]\n",
    "        out = ex() \n",
    "        print(out)"
   ]
  },
  {
   "cell_type": "code",
   "execution_count": 116,
   "id": "d2cbb04d-40bc-43dd-94d5-5a88e0f4701a",
   "metadata": {
    "scrolled": true
   },
   "outputs": [
    {
     "name": "stdout",
     "output_type": "stream",
     "text": [
      "[{\"category\":\"Lifespan Effects - Ordered by Magnitude\",\"description\":\"Genes that increase lifespan, ordered by greatest extension first\",\"query\":\"SELECT HGNC, model_organism, effect_on_lifespan, lifespan_percent_change_mean FROM lifespan_change WHERE effect_on_lifespan = 'increases lifespan' AND lifespan_percent_change_mean IS NOT NULL ORDER BY lifespan_percent_change_mean DESC\",\"key_concept\":\"Always order lifespan results by magnitude for relevance. Use LIMIT only when user specifically asks for 'top N' or similar\"},{\"category\":\"Lifespan Effects - Ordered by Magnitude\",\"description\":\"Genes that decrease lifespan, ordered by greatest reduction first\",\"query\":\"SELECT HGNC, model_organism, effect_on_lifespan, lifespan_percent_change_mean FROM lifespan_change WHERE effect_on_lifespan = 'decreases lifespan' AND lifespan_percent_change_mean IS NOT NULL ORDER BY lifespan_percent_change_mean ASC\",\"key_concept\":\"Use ASC ordering for lifespan reductions to show largest decreases first. Use LIMIT only when user specifically asks for 'top N' or similar\"},{\"category\":\"Lifespan Effects - Mean vs Maximum\",\"description\":\"Show both mean and maximum lifespan changes when user asks about lifespan effects\",\"query\":\"SELECT HGNC, model_organism, effect_on_lifespan, lifespan_percent_change_mean, lifespan_percent_change_max, significance_mean, significance_max FROM lifespan_change WHERE effect_on_lifespan = 'increases lifespan' AND (lifespan_percent_change_mean IS NOT NULL OR lifespan_percent_change_max IS NOT NULL) ORDER BY COALESCE(lifespan_percent_change_mean, lifespan_percent_change_max) DESC\",\"key_concept\":\"IMPORTANT: When user asks about lifespan effects without specifying mean vs max, show both metrics. Researchers may be interested in either average effects or maximum potential. Use LIMIT only when user specifically asks for 'top N' or similar\"},{\"category\":\"Lifespan Effects - Mean vs Maximum\",\"description\":\"Compare mean vs maximum lifespan changes for the same interventions\",\"query\":\"SELECT HGNC, model_organism, lifespan_percent_change_mean, lifespan_percent_change_max, (lifespan_percent_change_max - lifespan_percent_change_mean) as max_vs_mean_diff FROM lifespan_change WHERE lifespan_percent_change_mean IS NOT NULL AND lifespan_percent_change_max IS NOT NULL AND effect_on_lifespan = 'increases lifespan' ORDER BY max_vs_mean_diff DESC\",\"key_concept\":\"Show the difference between maximum and mean effects to highlight variability in responses. Use LIMIT only when user specifically asks for 'top N' or similar\"},{\"category\":\"Multi-Value Fields - LIKE Queries\",\"description\":\"Find genes associated with stem cell exhaustion hallmark\",\"query\":\"SELECT HGNC, \\\"hallmarks of aging\\\" FROM gene_hallmarks WHERE \\\"hallmarks of aging\\\" LIKE '%stem cell exhaustion%'\",\"key_concept\":\"CRITICAL: Always use LIKE with wildcards for multi-value fields\"},{\"category\":\"Multi-Value Fields - LIKE Queries\",\"description\":\"Find interventions that improve cardiovascular system\",\"query\":\"SELECT HGNC, intervention_improves, effect_on_lifespan, lifespan_percent_change_mean FROM lifespan_change WHERE intervention_improves LIKE '%cardiovascular system%' ORDER BY lifespan_percent_change_mean DESC\",\"key_concept\":\"Use LIKE queries for intervention_improves and intervention_deteriorates columns\"},{\"category\":\"Multi-Value Fields - LIKE Queries\",\"description\":\"Find genes affecting mitochondrial function\",\"query\":\"SELECT HGNC, \\\"hallmarks of aging\\\" FROM gene_hallmarks WHERE \\\"hallmarks of aging\\\" LIKE '%mitochondrial%'\",\"key_concept\":\"Multi-value hallmarks field requires LIKE pattern matching\"},{\"category\":\"Cross-Table Analysis\",\"description\":\"Genes with both experimental lifespan effects and population longevity associations\",\"query\":\"SELECT DISTINCT lc.HGNC, lc.effect_on_lifespan, lc.model_organism, la.ethnicity, la.\\\"study type\\\" FROM lifespan_change lc INNER JOIN longevity_associations la ON lc.HGNC = la.HGNC WHERE lc.effect_on_lifespan = 'increases lifespan'\",\"key_concept\":\"Join tables using HGNC to combine experimental and population data\"},{\"category\":\"Cross-Table Analysis - CRITICAL PATTERN\",\"description\":\"COMPREHENSIVE AGING EVIDENCE: For questions asking about 'evidence of gene X and aging', ALWAYS query ALL 4 tables\",\"query\":\"SELECT criteria FROM gene_criteria WHERE HGNC = 'PTEN'\",\"key_concept\":\"CRITICAL: For comprehensive aging evidence questions (like 'What evidence of the link between X and aging'), you MUST query ALL 4 tables: 1) gene_criteria 2) gene_hallmarks 3) lifespan_change 4) longevity_associations. The longevity_associations table contains crucial human population study data that must be included.\"},{\"category\":\"Cross-Table Analysis - HUMAN POPULATION DATA\",\"description\":\"ALWAYS include human longevity associations when asked about aging evidence\",\"query\":\"SELECT \\\"polymorphism id\\\", \\\"nucleotide substitution\\\", \\\"amino acid substitution\\\", ethnicity, \\\"study type\\\" FROM longevity_associations WHERE HGNC = 'PTEN'\",\"key_concept\":\"ESSENTIAL: When user asks for aging evidence of a gene, human population studies from longevity_associations table are a key component. Include polymorphism details, ethnicity, and study type.\"},{\"category\":\"Cross-Table Analysis\",\"description\":\"Genes with lifespan effects and their aging criteria\",\"query\":\"SELECT lc.HGNC, lc.effect_on_lifespan, lc.lifespan_percent_change_mean, gc.criteria FROM lifespan_change lc INNER JOIN gene_criteria gc ON lc.HGNC = gc.HGNC WHERE lc.lifespan_percent_change_mean > 20 ORDER BY lc.lifespan_percent_change_mean DESC\",\"key_concept\":\"Combine lifespan data with criteria to understand gene classifications\"},{\"category\":\"Model Organism Studies\",\"description\":\"Compare gene effects across mammals vs non-mammals\",\"query\":\"SELECT HGNC, model_organism, effect_on_lifespan, lifespan_percent_change_mean FROM lifespan_change WHERE HGNC IN (SELECT HGNC FROM lifespan_change WHERE model_organism IN ('mouse', 'rat', 'rabbit', 'hamster')) AND HGNC IN (SELECT HGNC FROM lifespan_change WHERE model_organism IN ('roundworm Caenorhabditis elegans', 'fly Drosophila melanogaster', 'yeasts')) ORDER BY HGNC, model_organism\",\"key_concept\":\"Use subqueries to find genes studied in multiple organism types\"},{\"category\":\"Model Organism Studies\",\"description\":\"Mouse studies with significant lifespan changes (both mean and max)\",\"query\":\"SELECT HGNC, effect_on_lifespan, lifespan_percent_change_mean, lifespan_percent_change_max, significance_mean, significance_max FROM lifespan_change WHERE model_organism = 'mouse' AND (significance_mean = 1 OR significance_max = 1) AND (lifespan_percent_change_mean IS NOT NULL OR lifespan_percent_change_max IS NOT NULL) ORDER BY COALESCE(ABS(lifespan_percent_change_mean), ABS(lifespan_percent_change_max)) DESC\",\"key_concept\":\"Filter by significance and show both mean and max when available, order by absolute change magnitude\"},{\"category\":\"Intervention Methods\",\"description\":\"Compare knockout vs overexpression effects on both mean and maximum lifespan\",\"query\":\"SELECT intervention_method, effect_on_lifespan, COUNT(*) as count, AVG(lifespan_percent_change_mean) as avg_mean_change, AVG(lifespan_percent_change_max) as avg_max_change FROM lifespan_change WHERE intervention_method IN ('gene knockout', 'additional copies of a gene in the genome') AND (lifespan_percent_change_mean IS NOT NULL OR lifespan_percent_change_max IS NOT NULL) GROUP BY intervention_method, effect_on_lifespan ORDER BY intervention_method, avg_mean_change DESC\",\"key_concept\":\"Group by intervention method and show both mean and maximum lifespan metrics to compare approaches comprehensively\"},{\"category\":\"Population Genetics\",\"description\":\"Longevity associations by ethnicity and study type\",\"query\":\"SELECT ethnicity, \\\"study type\\\", COUNT(*) as association_count FROM longevity_associations WHERE ethnicity != 'n/a' GROUP BY ethnicity, \\\"study type\\\" ORDER BY association_count DESC\",\"key_concept\":\"Analyze population genetics patterns across ethnicities. No LIMIT needed for aggregate statistics\"},{\"category\":\"Population Genetics\",\"description\":\"ALL polymorphisms for specific genes (no LIMIT when user asks about gene polymorphisms)\",\"query\":\"SELECT HGNC, \\\"polymorphism type\\\", \\\"polymorphism id\\\", \\\"nucleotide substitution\\\", ethnicity, \\\"study type\\\" FROM longevity_associations WHERE HGNC = 'FOXO3'\",\"key_concept\":\"When user asks about polymorphisms in a gene, show ALL entries without LIMIT to provide complete information\"},{\"category\":\"Population Genetics - When to use LIMIT\",\"description\":\"Top 5 genes with most longevity associations (LIMIT appropriate here)\",\"query\":\"SELECT HGNC, COUNT(*) as association_count FROM longevity_associations GROUP BY HGNC ORDER BY association_count DESC LIMIT 5\",\"key_concept\":\"Use LIMIT only when user specifically asks for 'top N' results or similar superlative language\"},{\"category\":\"Summary Statistics\",\"description\":\"Top genes by number of experiments across all organisms (use LIMIT only when user asks for 'top N')\",\"query\":\"SELECT HGNC, COUNT(*) as experiment_count, COUNT(DISTINCT model_organism) as organism_count FROM lifespan_change WHERE HGNC IS NOT NULL GROUP BY HGNC ORDER BY experiment_count DESC LIMIT 10\",\"key_concept\":\"Count experiments and organisms per gene for research breadth. Use LIMIT only when user specifically asks for 'top N' genes, otherwise show all results\"},{\"category\":\"Summary Statistics\",\"description\":\"Distribution of lifespan effects by organism (including both mean and max metrics)\",\"query\":\"SELECT model_organism, effect_on_lifespan, COUNT(*) as count, AVG(lifespan_percent_change_mean) as avg_mean_change, AVG(lifespan_percent_change_max) as avg_max_change, COUNT(CASE WHEN lifespan_percent_change_mean IS NOT NULL THEN 1 END) as mean_data_points, COUNT(CASE WHEN lifespan_percent_change_max IS NOT NULL THEN 1 END) as max_data_points FROM lifespan_change GROUP BY model_organism, effect_on_lifespan ORDER BY model_organism, count DESC\",\"key_concept\":\"Analyze effect distributions across model organisms with both metrics and data availability counts\"},{\"category\":\"Advanced Patterns\",\"description\":\"Genes with multiple aging hallmarks (complex multi-value query)\",\"query\":\"SELECT HGNC, \\\"hallmarks of aging\\\", (LENGTH(\\\"hallmarks of aging\\\") - LENGTH(REPLACE(\\\"hallmarks of aging\\\", ',', '')) + 1) as hallmark_count FROM gene_hallmarks WHERE hallmark_count > 3 ORDER BY hallmark_count DESC\",\"key_concept\":\"Count comma-separated values in multi-value fields\"},{\"category\":\"Advanced Patterns\",\"description\":\"Genes affecting both lifespan and specific biological processes\",\"query\":\"SELECT lc.HGNC, lc.effect_on_lifespan, lc.lifespan_percent_change_mean, lc.intervention_improves FROM lifespan_change lc WHERE lc.intervention_improves LIKE '%cardiovascular system%' AND lc.intervention_improves LIKE '%cognitive function%' ORDER BY lc.lifespan_percent_change_mean DESC\",\"key_concept\":\"Use multiple LIKE conditions to find genes affecting multiple systems\"}]\n"
     ]
    }
   ],
   "source": [
    "check_tool(\"opengenes_example_queries\")"
   ]
  },
  {
   "cell_type": "code",
   "execution_count": 117,
   "id": "ead40c5a-c746-4087-9b51-f836b0428dca",
   "metadata": {
    "scrolled": true
   },
   "outputs": [
    {
     "name": "stdout",
     "output_type": "stream",
     "text": [
      "{\"database_overview\":{\"description\":\"OpenGenes database contains aging and lifespan research data with 4 main tables linked by HGNC gene symbols\",\"total_tables\":4,\"primary_key\":\"HGNC (gene symbol) - links all tables together\"},\"critical_query_guidelines\":{\"multi_value_fields\":{\"description\":\"Some columns contain comma-separated values. ALWAYS use LIKE queries with wildcards for these fields.\",\"fields\":[\"gene_hallmarks.'hallmarks of aging' - contains multiple aging hallmarks per gene\",\"lifespan_change.intervention_deteriorates - multiple biological processes that deteriorate\",\"lifespan_change.intervention_improves - multiple biological processes that improve\"],\"example_syntax\":\"WHERE \\\"hallmarks of aging\\\" LIKE '%stem cell exhaustion%'\"},\"lifespan_metrics\":{\"description\":\"Database contains both mean and maximum lifespan change metrics. When user asks about lifespan effects without specifying, show both.\",\"mean_vs_max\":\"lifespan_percent_change_mean shows average effect, lifespan_percent_change_max shows maximum observed effect\",\"when_to_show_both\":\"If user asks about 'lifespan effects' or 'lifespan changes' without specifying mean vs max, include both metrics\",\"ordering_both\":\"Use COALESCE(lifespan_percent_change_mean, lifespan_percent_change_max) for ordering when showing both\",\"significance\":\"Both mean and max have corresponding significance columns (significance_mean, significance_max)\"},\"result_ordering\":{\"lifespan_extension\":\"ORDER BY lifespan_percent_change_mean DESC (highest increase first)\",\"lifespan_reduction\":\"ORDER BY lifespan_percent_change_mean ASC (largest decrease first)\",\"importance\":\"Always order lifespan results by magnitude of effect for relevance\",\"both_metrics\":\"When showing both mean and max, use COALESCE for ordering or show comparison\"},\"comprehensive_aging_evidence\":{\"description\":\"For questions about aging evidence, link to aging, or longevity associations for a gene, query ALL 4 tables for complete evidence\",\"required_tables\":\"1) gene_criteria (aging-related criteria), 2) gene_hallmarks (aging pathways), 3) lifespan_change (experimental effects), 4) longevity_associations (human population studies)\",\"example_patterns\":\"Evidence of X and aging, Link between X and aging, X gene aging associations, What evidence links X to aging\",\"critical_note\":\"Do NOT omit longevity_associations table - it contains crucial human population genetics data\"},\"gene_queries\":\"Use HGNC column for gene symbols (TP53, FOXO3, etc.)\",\"safety\":\"Only SELECT queries allowed - no INSERT, UPDATE, DELETE, or DDL operations\"},\"tables\":{\"lifespan_change\":{\"description\":{\"purpose\":\"Experimental data on how gene modifications affect lifespan in various model organisms\",\"key_columns\":\"HGNC, model_organism, effect_on_lifespan, intervention methods, lifespan measurements\",\"use_cases\":\"Questions about gene effects on lifespan, experimental conditions, organism studies\",\"special_notes\":\"Contains multi-value fields for intervention effects. Use LIKE queries for intervention_deteriorates and intervention_improves columns.\"},\"columns\":[{\"name\":\"HGNC\",\"type\":\"TEXT\",\"nullable\":true,\"primary_key\":false,\"description\":\"Gene symbol (standard gene names like TP53, FOXO3)\"},{\"name\":\"model_organism\",\"type\":\"TEXT\",\"nullable\":true,\"primary_key\":false,\"description\":\"Organism used for experiment (mouse, C. elegans, fly, etc.)\"},{\"name\":\"sex\",\"type\":\"TEXT\",\"nullable\":true,\"primary_key\":false,\"description\":\"Sex of organism used (male, female, all, hermaphrodites, etc.)\"},{\"name\":\"line\",\"type\":\"TEXT\",\"nullable\":true,\"primary_key\":false,\"description\":\"\"},{\"name\":\"effect_on_lifespan\",\"type\":\"TEXT\",\"nullable\":true,\"primary_key\":false,\"description\":\"Direction of lifespan change (increases/decreases/no change)\"},{\"name\":\"control_cohort_size\",\"type\":\"REAL\",\"nullable\":true,\"primary_key\":false,\"description\":\"\"},{\"name\":\"experiment_cohort_size\",\"type\":\"REAL\",\"nullable\":true,\"primary_key\":false,\"description\":\"\"},{\"name\":\"quantity_of_animals_in_cage_or_container\",\"type\":\"REAL\",\"nullable\":true,\"primary_key\":false,\"description\":\"\"},{\"name\":\"containment_t_celsius_from\",\"type\":\"REAL\",\"nullable\":true,\"primary_key\":false,\"description\":\"\"},{\"name\":\"containment_t_celsius_to\",\"type\":\"TEXT\",\"nullable\":true,\"primary_key\":false,\"description\":\"\"},{\"name\":\"diet\",\"type\":\"TEXT\",\"nullable\":true,\"primary_key\":false,\"description\":\"\"},{\"name\":\"target_gene_expression_change\",\"type\":\"REAL\",\"nullable\":true,\"primary_key\":false,\"description\":\"\"},{\"name\":\"control_lifespan_min\",\"type\":\"REAL\",\"nullable\":true,\"primary_key\":false,\"description\":\"\"},{\"name\":\"control_lifespan_mean\",\"type\":\"REAL\",\"nullable\":true,\"primary_key\":false,\"description\":\"Mean lifespan of control group\"},{\"name\":\"control_lifespan_median\",\"type\":\"REAL\",\"nullable\":true,\"primary_key\":false,\"description\":\"\"},{\"name\":\"control_lifespan_max\",\"type\":\"REAL\",\"nullable\":true,\"primary_key\":false,\"description\":\"\"},{\"name\":\"experiment_lifespan_min\",\"type\":\"REAL\",\"nullable\":true,\"primary_key\":false,\"description\":\"\"},{\"name\":\"experiment_lifespan_mean\",\"type\":\"REAL\",\"nullable\":true,\"primary_key\":false,\"description\":\"Mean lifespan of experimental group\"},{\"name\":\"experiment_lifespan_median\",\"type\":\"REAL\",\"nullable\":true,\"primary_key\":false,\"description\":\"\"},{\"name\":\"experiment_lifespan_max\",\"type\":\"REAL\",\"nullable\":true,\"primary_key\":false,\"description\":\"\"},{\"name\":\"lifespan_time_unit\",\"type\":\"TEXT\",\"nullable\":true,\"primary_key\":false,\"description\":\"\"},{\"name\":\"lifespan_percent_change_min\",\"type\":\"REAL\",\"nullable\":true,\"primary_key\":false,\"description\":\"\"},{\"name\":\"significance_min\",\"type\":\"INTEGER\",\"nullable\":true,\"primary_key\":false,\"description\":\"\"},{\"name\":\"lifespan_percent_change_mean\",\"type\":\"REAL\",\"nullable\":true,\"primary_key\":false,\"description\":\"Mean percent change in lifespan (average effect across cohort - use for ordering results)\"},{\"name\":\"significance_mean\",\"type\":\"INTEGER\",\"nullable\":true,\"primary_key\":false,\"description\":\"Statistical significance of mean lifespan change (1=significant, 0=not significant)\"},{\"name\":\"lifespan_percent_change_median\",\"type\":\"REAL\",\"nullable\":true,\"primary_key\":false,\"description\":\"Median percent change in lifespan\"},{\"name\":\"significance_median\",\"type\":\"INTEGER\",\"nullable\":true,\"primary_key\":false,\"description\":\"\"},{\"name\":\"lifespan_percent_change_max\",\"type\":\"REAL\",\"nullable\":true,\"primary_key\":false,\"description\":\"Maximum percent change in lifespan (best individual response - show both mean and max when user asks about lifespan effects)\"},{\"name\":\"significance_max\",\"type\":\"INTEGER\",\"nullable\":true,\"primary_key\":false,\"description\":\"Statistical significance of maximum lifespan change (1=significant, 0=not significant)\"},{\"name\":\"intervention_deteriorates\",\"type\":\"TEXT\",\"nullable\":true,\"primary_key\":false,\"description\":\"MULTI-VALUE: Biological processes that deteriorated (use LIKE queries)\"},{\"name\":\"intervention_improves\",\"type\":\"TEXT\",\"nullable\":true,\"primary_key\":false,\"description\":\"MULTI-VALUE: Biological processes that improved (use LIKE queries)\"},{\"name\":\"main_effect_on_lifespan\",\"type\":\"TEXT\",\"nullable\":true,\"primary_key\":false,\"description\":\"Type of gene activity change (gain/loss/switch of function)\"},{\"name\":\"intervention_way\",\"type\":\"TEXT\",\"nullable\":true,\"primary_key\":false,\"description\":\"\"},{\"name\":\"intervention_method\",\"type\":\"TEXT\",\"nullable\":true,\"primary_key\":false,\"description\":\"Method used to modify gene (knockout, overexpression, etc.)\"},{\"name\":\"genotype\",\"type\":\"TEXT\",\"nullable\":true,\"primary_key\":false,\"description\":\"\"},{\"name\":\"tissue\",\"type\":\"TEXT\",\"nullable\":true,\"primary_key\":false,\"description\":\"\"},{\"name\":\"tissue_specific_promoter\",\"type\":\"TEXT\",\"nullable\":true,\"primary_key\":false,\"description\":\"\"},{\"name\":\"induction_by_drug_withdrawal\",\"type\":\"INTEGER\",\"nullable\":true,\"primary_key\":false,\"description\":\"\"},{\"name\":\"drug\",\"type\":\"TEXT\",\"nullable\":true,\"primary_key\":false,\"description\":\"\"},{\"name\":\"treatment_start\",\"type\":\"TEXT\",\"nullable\":true,\"primary_key\":false,\"description\":\"\"},{\"name\":\"treatment_end\",\"type\":\"TEXT\",\"nullable\":true,\"primary_key\":false,\"description\":\"\"},{\"name\":\"doi\",\"type\":\"TEXT\",\"nullable\":true,\"primary_key\":false,\"description\":\"\"},{\"name\":\"pmid\",\"type\":\"REAL\",\"nullable\":true,\"primary_key\":false,\"description\":\"\"}]},\"gene_criteria\":{\"description\":{\"purpose\":\"Aging-related criteria that genes meet (12 different categories)\",\"key_columns\":\"HGNC, criteria\",\"use_cases\":\"Questions about why genes are considered aging-related\",\"special_notes\":\"Links genes to specific aging research criteria classifications\"},\"columns\":[{\"name\":\"HGNC\",\"type\":\"TEXT\",\"nullable\":true,\"primary_key\":false,\"description\":\"Gene symbol (standard gene names like TP53, FOXO3)\"},{\"name\":\"criteria\",\"type\":\"TEXT\",\"nullable\":true,\"primary_key\":false,\"description\":\"Aging-related criteria the gene meets (12 different categories)\"}]},\"gene_hallmarks\":{\"description\":{\"purpose\":\"Links genes to hallmarks of aging\",\"key_columns\":\"HGNC, hallmarks of aging (multi-value field)\",\"use_cases\":\"Questions about which aging hallmarks genes are involved in\",\"special_notes\":\"CRITICAL: 'hallmarks of aging' column contains comma-separated values. Always use LIKE queries with wildcards.\"},\"columns\":[{\"name\":\"HGNC\",\"type\":\"TEXT\",\"nullable\":true,\"primary_key\":false,\"description\":\"Gene symbol (standard gene names like TP53, FOXO3)\"},{\"name\":\"hallmarks of aging\",\"type\":\"TEXT\",\"nullable\":true,\"primary_key\":false,\"description\":\"MULTI-VALUE: Comma-separated aging hallmarks (ALWAYS use LIKE queries with wildcards)\"}]},\"longevity_associations\":{\"description\":{\"purpose\":\"Population genetics data on gene variants associated with longevity\",\"key_columns\":\"HGNC, polymorphism data, ethnicity, study type\",\"use_cases\":\"Questions about genetic variants associated with longevity in human populations\",\"special_notes\":\"Contains SNPs, indels, and other genetic variations from population studies\"},\"columns\":[{\"name\":\"HGNC\",\"type\":\"TEXT\",\"nullable\":true,\"primary_key\":false,\"description\":\"Gene symbol (standard gene names like TP53, FOXO3)\"},{\"name\":\"polymorphism type\",\"type\":\"TEXT\",\"nullable\":true,\"primary_key\":false,\"description\":\"Type of genetic variant (SNP, In/Del, VNTR, etc.)\"},{\"name\":\"polymorphism id\",\"type\":\"TEXT\",\"nullable\":true,\"primary_key\":false,\"description\":\"Identifier for the genetic variant (e.g., rs numbers for SNPs)\"},{\"name\":\"nucleotide substitution\",\"type\":\"TEXT\",\"nullable\":true,\"primary_key\":false,\"description\":\"DNA sequence change for the variant\"},{\"name\":\"amino acid substitution\",\"type\":\"TEXT\",\"nullable\":true,\"primary_key\":false,\"description\":\"Protein sequence change caused by the variant\"},{\"name\":\"polymorphism — other\",\"type\":\"TEXT\",\"nullable\":true,\"primary_key\":false,\"description\":\"Additional polymorphism details\"},{\"name\":\"ethnicity\",\"type\":\"TEXT\",\"nullable\":true,\"primary_key\":false,\"description\":\"Ethnicity of study participants\"},{\"name\":\"study type\",\"type\":\"TEXT\",\"nullable\":true,\"primary_key\":false,\"description\":\"Type of population study (GWAS, candidate genes, meta-analysis, etc.)\"},{\"name\":\"sex\",\"type\":\"TEXT\",\"nullable\":true,\"primary_key\":false,\"description\":\"Sex of study participants\"},{\"name\":\"doi\",\"type\":\"TEXT\",\"nullable\":true,\"primary_key\":false,\"description\":\"DOI of the research publication\"},{\"name\":\"pmid\",\"type\":\"TEXT\",\"nullable\":true,\"primary_key\":false,\"description\":\"PubMed ID of the research publication\"}]}},\"enumerations\":{\"lifespan_change\":{\"model_organism\":[\"mouse\",\"roundworm Caenorhabditis elegans\",\"fly Drosophila melanogaster\",\"rabbit\",\"rat\",\"acyrthosiphon pisum\",\"yeasts\",\"fish Nothobranchius furzeri\",\"fungus Podospora anserina\",\"hamster\",\"zebrafish\",\"fish Nothobranchius guentheri\"],\"sex\":[\"male\",\"female\",\"all\",\"hermaphrodites\",\"not specified\",\"None\"],\"effect_on_lifespan\":[\"increases lifespan\",\"no change\",\"decreases lifespan\",\"increases lifespan in animals with decreased lifespans\",\"decreases survival under stress conditions\",\"improves survival under stress conditions\",\"decreases life span in animals with increased lifespans\",\"no change under stress conditions\"],\"main_effect_on_lifespan\":[\"loss of function\",\"switch of function\",\"gain of function\"],\"intervention_way\":[\"changes in genome level\",\"combined (inducible mutation)\",\"interventions by selective drug/RNAi\"],\"intervention_method\":[\"gene knockout\",\"gene modification to affect product activity/stability\",\"gene modification\",\"additional copies of a gene in the genome\",\"addition to the genome of a dominant-negative gene variant that reduces the activity of an endogenous protein\",\"treatment with vector with additional gene copies\",\"gene modification to reduce protein activity/stability\",\"interfering RNA transgene\",\"RNA interferention\",\"gene modification to increase protein activity/stability\",\"introduction into the genome of a construct under the control of a gene promoter, which causes death or a decrease in the viability of cells expressing the gene\",\"knockout of gene isoform\",\"tissue-specific gene knockout\",\"reduced expression of one of the isoforms in transgenic animals\",\"gene modification to reduce gene expression\",\"treatment with gene product inducer\",\"None\",\"tissue-specific gene overexpression\",\"additional copies of a gene in transgenic animals\",\"treatment with a gene product inhibitor\",\"treatment with protein\",\"gene modification to increase gene expression\",\"removal of cells expressing the gene\",\"splicing modification\"],\"diet\":[\"standard chow\",\"None\",\"Purina Lab Diet 5001, ad libitum\",\"Purina Lab Diet 5001, from birth to 12 weeks ad. lib., then 40% from ad. lib.\",\"Teklad LM485 Diet, ad libitum\",\"Teklad 2018S Diet, ad libitum\",\"E. coli OP50, NGM\",\"96W chow ad.lib.\",\"calorie-restricted diet\",\"2% yeast, 10% sucrose, 5% cornmeal\",\"2% yeasts, 10% sucrose, 5% cornmeal\",\"high-calorie food, 15% dextrose, 15% yeast, 2% agar\",\"low-calorie food, 5% dextrose, 5% yeast, 2% agar\",\"ad libitum\",\"agar, corn meal, yeast and molasses\",\"E. coli HT115 L4440, NGM\"],\"tissue\":[\"None\",\"muscle\",\"neurons\",\"fat body\",\"dopaminergic neurons\",\"glia\",\"brain\",\"corpora cardiaca\",\"insulin-producing cells\",\"central nervous system\",\"intestine\",\"liver\",\"heart\",\"myeloid cells\",\"intestinal stem cells and enteroblasts\",\"adipose tissue\",\"melanocytes,Trp2 expressing neurons\",\"cardiomyocytes\",\"hepatocytes\",\"heart,skeletal muscles\",\"heart,brain,skeletal muscles\",\"skin\",\"eye\",\"connective tissue\",\"cholinergic neurons\",\"kidney,brain\",\"kidney,heart,brain\",\"neurolemma\",\"hypodermis\",\"mediobasal hypothalamus\",\"motor neurons\",\"median neurosecretory cells\",\"hypocretin expressing neurons in the hypothalamus\",\"body wall muscles\",\"pharynx\",\"digestive tract\",\"abdominal fat and the digestive tract\",\"skeletal muscles\",\"white adipose tissue\"],\"drug\":[\"None\",\"tamoxifen\",\"mifepristone RU486\",\"AAV9-mTERT\",\"MCMV-TERT\",\"interfering RNA expressing bacteries\",\"auxin\",\"heat shock\",\"heat pulse\",\"Ex8[Pcdc-48.1::cdc-48.1]\",\"tetracycline\",\"EUK-008\",\"EUK-134\",\"interfering RNA expressing bacteries 1:1000\",\"interfering RNA expressing bacteries 1:50\",\"interfering RNA expressing bacteries 1:10\",\"DL-beta-hydroxybutyrate\",\"DL-beta-hydroxybutyrate + sodium butirate\",\"lentiviruses, expressing DN-IkB-a\",\"rapamycin\",\"AP20187\",\"quinic acid\",\"Cdc42 activity-specific inhibitor\",\"Rosizlitazone\",\"lentiviruses expressing constitutively active IKK-betta\",\"Ex008[SKN-1 S393A::GFP]\",\"captopril\",\"Recombinant mouse serum albumin rMSA\",\"doxycycline\",\"Ethanol\",\"interferring RNA\",\"MCMV-FST\"]},\"gene_criteria\":{\"criteria\":[\"Age-related changes in gene expression, methylation or protein activity\",\"Age-related changes in gene expression, methylation or protein activity in humans\",\"Association of genetic variants and gene expression levels with longevity\",\"Regulation of genes associated with aging\",\"Changes in gene activity extend non-mammalian lifespan\",\"Changes in gene activity protect against age-related impairment\",\"Age-related changes in gene expression, methylation or protein activity in non-mammals\",\"Changes in gene activity extend mammalian lifespan\",\"Changes in gene activity reduce mammalian lifespan\",\"Changes in gene activity enhance age-related deterioration\",\"Changes in gene activity reduce non-mammalian lifespan\",\"Association of the gene with accelerated aging in humans\"]},\"gene_hallmarks\":{\"hallmarks_of_aging_note\":\"This is a multi-value field containing comma-separated values. Always use LIKE queries with wildcards.\",\"available_hallmarks\":[\"nuclear DNA instability\",\"telomere attrition\",\"alterations in histone modifications\",\"chromatin remodeling\",\"transcriptional alterations\",\"alterations in DNA methylation\",\"degradation of proteolytic systems\",\"TOR pathway dysregulation\",\"INS/IGF-1 pathway dysregulation\",\"AMPK pathway dysregulation\",\"SIRT pathway dysregulation\",\"impairment of the mitochondrial integrity and biogenesis\",\"mitochondrial DNA instability\",\"accumulation of reactive oxygen species\",\"senescent cells accumulation\",\"stem cell exhaustion\",\"sterile inflammation\",\"intercellular communication impairment\",\"changes in the extracellular matrix structure\",\"impairment of proteins folding and stability\",\"nuclear architecture impairment\",\"disabled macroautophagy\"]},\"longevity_associations\":{\"polymorphism_type\":[\"SNP\",\"In/Del\",\"n/a\",\"haplotype\",\"VNTR\",\"PCR-RFLP\"],\"ethnicity\":[\"Caucasian, American\",\"European\",\"Greek\",\"Ashkenazi Jewish\",\"Polish\",\"Chinese\",\"Caucasian\",\"Italian\",\"Japanese\",\"Danish\",\"Spanish\",\"German\",\"European, East Asian, African American\",\"n/a\",\"Chinese, Han\",\"Italian, Southern\",\"German, American\",\"Caucasian, African-American\",\"East Asian, Europeans, Caucasian American\",\"Japanese American\",\"Italian, Calabrian\",\"Korean\",\"Belarusian\",\"mixed\",\"Caucasian, Ashkenazi Jewish\",\"Dutch\",\"Amish\",\"French\",\"Ashkenazi Jewish, Amish, Caucasian\",\"Japanese, Okinawan\",\"North-eastern Italian\",\"Tatars\",\"American, Caucasians; Italian, Southern; French; Ashkenazi Jewish\",\"Chinese, Bama Yao, Guangxi Province\",\"Swiss\",\"German, Danes, French\",\"American, Caucasian\",\"Italian, Central\",\"Finnish\"],\"study type\":[\"GWAS\",\"iGWAS\",\"candidate genes study\",\"gene-based association approach\",\"family study\",\"single-variant association approach\",\"meta-analysis of GWAS, replication of previous findings\",\"meta-analysis of GWAS\",\"GWAS, discovery + replication\",\"GWAS, replication\",\"meta-analysis of GWAS, replication\",\"n/a\",\"meta-analysis of candidate gene studies\",\"immunochip, discovery + replication\",\"immunochip\"],\"sex\":[\"all\",\"male\",\"not specified\",\"female\"]},\"biological_processes_for_intervention_effects\":{\"note\":\"These tags are used in intervention_deteriorates and intervention_improves columns (multi-value fields)\",\"processes\":[\"cardiovascular system\",\"nervous system\",\"immune function\",\"muscle, bone, skin, liver\",\"renal function, reproductive function\",\"cognitive function, eyesight, hair/coat\",\"body composition\",\"glucose metabolism, lipid metabolism, cholesterol metabolism\",\"insulin sensitivity\",\"oxidation/antioxidant function, mitochondrial function\",\"DNA metabolism, carcinogenesis, apoptosis\",\"senescence, inflammation, stress responce\",\"autophagy, proliferation, locomotor function\",\"tissue regeneration, stem and progenitor cells\",\"blood, proteostasis, angiogenesis, metabolism\",\"endocrine system, intercellular matrix\",\"building and protection of telomeres\",\"cytoskeleton organization, nucleus structure\",\"skin and the intestine epithelial barriers function\",\"calcium homeostasis, proteolysis\"]}},\"biological_processes_tags\":[\"cardiovascular system\",\"nervous system\",\"immune function\",\"muscle, bone, skin, liver\",\"renal function, reproductive function\",\"cognitive function, eyesight, hair/coat\",\"body composition\",\"glucose metabolism, lipid metabolism, cholesterol metabolism\",\"insulin sensitivity\",\"oxidation/antioxidant function, mitochondrial function\",\"DNA metabolism, carcinogenesis, apoptosis\",\"senescence, inflammation, stress responce\",\"autophagy, proliferation, locomotor function\",\"tissue regeneration, stem and progenitor cells\",\"blood, proteostasis, angiogenesis, metabolism\",\"endocrine system, intercellular matrix\",\"building and protection of telomeres\",\"cytoskeleton organization, nucleus structure\",\"skin and the intestine epithelial barriers function\",\"calcium homeostasis, proteolysis\"],\"aging_hallmarks_tags\":[\"nuclear DNA instability\",\"telomere attrition\",\"alterations in histone modifications\",\"chromatin remodeling\",\"transcriptional alterations\",\"alterations in DNA methylation\",\"degradation of proteolytic systems\",\"TOR pathway dysregulation\",\"INS/IGF-1 pathway dysregulation\",\"AMPK pathway dysregulation\",\"SIRT pathway dysregulation\",\"impairment of the mitochondrial integrity and biogenesis\",\"mitochondrial DNA instability\",\"accumulation of reactive oxygen species\",\"senescent cells accumulation\",\"stem cell exhaustion\",\"sterile inflammation\",\"intercellular communication impairment\",\"changes in the extracellular matrix structure\",\"impairment of proteins folding and stability\",\"nuclear architecture impairment\",\"disabled macroautophagy\"]}\n"
     ]
    }
   ],
   "source": [
    "check_tool(\"opengenes_get_schema_info\")"
   ]
  },
  {
   "cell_type": "markdown",
   "id": "50accd53-17c5-45fc-ac18-4e6882e8d5b5",
   "metadata": {},
   "source": [
    "### Prompts"
   ]
  },
  {
   "cell_type": "code",
   "execution_count": 12,
   "id": "2472908e-f6ca-476a-b624-6b12abce5e22",
   "metadata": {},
   "outputs": [],
   "source": [
    "SYSTEM_PROMPT = open('opengenes_system_prompt.txt', 'r').read()"
   ]
  },
  {
   "cell_type": "code",
   "execution_count": 25,
   "id": "95174cf5-142d-44bc-aa79-9b650a40a626",
   "metadata": {},
   "outputs": [],
   "source": [
    "GENE = \"NRF2\"\n",
    "\n",
    "USER_PROMPT = f\"\"\"\n",
    "What are:\n",
    "- Longevity/lifespan/healthspan association\n",
    "- Modification effects\n",
    "- Known genetic interventions\n",
    "- Disease involvement\n",
    "for the gene: {GENE} across different species?\n",
    "If there are any known synonyms for the Gene use them to .\n",
    "If some information is not available in the base for this name of the gene try to find synonyms and find and fetch data for them.\n",
    "If this attampt alse fails return \"Info not available\".\n",
    "\"\"\""
   ]
  },
  {
   "cell_type": "markdown",
   "id": "3e5f3afc-83eb-4283-95a5-129c09295700",
   "metadata": {},
   "source": [
    "### Run"
   ]
  },
  {
   "cell_type": "code",
   "execution_count": 24,
   "id": "aed9d34b-18b7-4173-88f8-d146863485a0",
   "metadata": {
    "scrolled": true
   },
   "outputs": [
    {
     "data": {
      "text/html": [
       "<pre style=\"white-space:pre;overflow-x:auto;line-height:normal;font-family:Menlo,'DejaVu Sans Mono',consolas,'Courier New',monospace\"><span style=\"color: #d4b702; text-decoration-color: #d4b702\">╭──────────────────────────────────────────────────── </span><span style=\"color: #d4b702; text-decoration-color: #d4b702; font-weight: bold\">New run</span><span style=\"color: #d4b702; text-decoration-color: #d4b702\"> ────────────────────────────────────────────────────╮</span>\n",
       "<span style=\"color: #d4b702; text-decoration-color: #d4b702\">│</span>                                                                                                                 <span style=\"color: #d4b702; text-decoration-color: #d4b702\">│</span>\n",
       "<span style=\"color: #d4b702; text-decoration-color: #d4b702\">│</span> <span style=\"font-weight: bold\">What are:</span>                                                                                                       <span style=\"color: #d4b702; text-decoration-color: #d4b702\">│</span>\n",
       "<span style=\"color: #d4b702; text-decoration-color: #d4b702\">│</span> <span style=\"font-weight: bold\">- Longevity/lifespan/healthspan association</span>                                                                     <span style=\"color: #d4b702; text-decoration-color: #d4b702\">│</span>\n",
       "<span style=\"color: #d4b702; text-decoration-color: #d4b702\">│</span> <span style=\"font-weight: bold\">- Modification effects</span>                                                                                          <span style=\"color: #d4b702; text-decoration-color: #d4b702\">│</span>\n",
       "<span style=\"color: #d4b702; text-decoration-color: #d4b702\">│</span> <span style=\"font-weight: bold\">- Known genetic interventions</span>                                                                                   <span style=\"color: #d4b702; text-decoration-color: #d4b702\">│</span>\n",
       "<span style=\"color: #d4b702; text-decoration-color: #d4b702\">│</span> <span style=\"font-weight: bold\">- Evolution</span>                                                                                                     <span style=\"color: #d4b702; text-decoration-color: #d4b702\">│</span>\n",
       "<span style=\"color: #d4b702; text-decoration-color: #d4b702\">│</span> <span style=\"font-weight: bold\">- Disease involvement</span>                                                                                           <span style=\"color: #d4b702; text-decoration-color: #d4b702\">│</span>\n",
       "<span style=\"color: #d4b702; text-decoration-color: #d4b702\">│</span> <span style=\"font-weight: bold\">for the gene: NRF2 across different species?</span>                                                                    <span style=\"color: #d4b702; text-decoration-color: #d4b702\">│</span>\n",
       "<span style=\"color: #d4b702; text-decoration-color: #d4b702\">│</span> <span style=\"font-weight: bold\">If there are any known synonyms for the Gene use them to .</span>                                                      <span style=\"color: #d4b702; text-decoration-color: #d4b702\">│</span>\n",
       "<span style=\"color: #d4b702; text-decoration-color: #d4b702\">│</span> <span style=\"font-weight: bold\">If some information is not available in the base for this name of the gene try to find synonyms and find and </span>   <span style=\"color: #d4b702; text-decoration-color: #d4b702\">│</span>\n",
       "<span style=\"color: #d4b702; text-decoration-color: #d4b702\">│</span> <span style=\"font-weight: bold\">fetch data for them.</span>                                                                                            <span style=\"color: #d4b702; text-decoration-color: #d4b702\">│</span>\n",
       "<span style=\"color: #d4b702; text-decoration-color: #d4b702\">│</span> <span style=\"font-weight: bold\">If this attampt alse fails return \"Info not available\".</span>                                                         <span style=\"color: #d4b702; text-decoration-color: #d4b702\">│</span>\n",
       "<span style=\"color: #d4b702; text-decoration-color: #d4b702\">│</span>                                                                                                                 <span style=\"color: #d4b702; text-decoration-color: #d4b702\">│</span>\n",
       "<span style=\"color: #d4b702; text-decoration-color: #d4b702\">╰─ OpenAIServerModel - Qwen/Qwen3-235B-A22B-Instruct-2507 ────────────────────────────────────────────────────────╯</span>\n",
       "</pre>\n"
      ],
      "text/plain": [
       "\u001B[38;2;212;183;2m╭─\u001B[0m\u001B[38;2;212;183;2m───────────────────────────────────────────────────\u001B[0m\u001B[38;2;212;183;2m \u001B[0m\u001B[1;38;2;212;183;2mNew run\u001B[0m\u001B[38;2;212;183;2m \u001B[0m\u001B[38;2;212;183;2m───────────────────────────────────────────────────\u001B[0m\u001B[38;2;212;183;2m─╮\u001B[0m\n",
       "\u001B[38;2;212;183;2m│\u001B[0m                                                                                                                 \u001B[38;2;212;183;2m│\u001B[0m\n",
       "\u001B[38;2;212;183;2m│\u001B[0m \u001B[1mWhat are:\u001B[0m                                                                                                       \u001B[38;2;212;183;2m│\u001B[0m\n",
       "\u001B[38;2;212;183;2m│\u001B[0m \u001B[1m- Longevity/lifespan/healthspan association\u001B[0m                                                                     \u001B[38;2;212;183;2m│\u001B[0m\n",
       "\u001B[38;2;212;183;2m│\u001B[0m \u001B[1m- Modification effects\u001B[0m                                                                                          \u001B[38;2;212;183;2m│\u001B[0m\n",
       "\u001B[38;2;212;183;2m│\u001B[0m \u001B[1m- Known genetic interventions\u001B[0m                                                                                   \u001B[38;2;212;183;2m│\u001B[0m\n",
       "\u001B[38;2;212;183;2m│\u001B[0m \u001B[1m- Evolution\u001B[0m                                                                                                     \u001B[38;2;212;183;2m│\u001B[0m\n",
       "\u001B[38;2;212;183;2m│\u001B[0m \u001B[1m- Disease involvement\u001B[0m                                                                                           \u001B[38;2;212;183;2m│\u001B[0m\n",
       "\u001B[38;2;212;183;2m│\u001B[0m \u001B[1mfor the gene: NRF2 across different species?\u001B[0m                                                                    \u001B[38;2;212;183;2m│\u001B[0m\n",
       "\u001B[38;2;212;183;2m│\u001B[0m \u001B[1mIf there are any known synonyms for the Gene use them to .\u001B[0m                                                      \u001B[38;2;212;183;2m│\u001B[0m\n",
       "\u001B[38;2;212;183;2m│\u001B[0m \u001B[1mIf some information is not available in the base for this name of the gene try to find synonyms and find and \u001B[0m   \u001B[38;2;212;183;2m│\u001B[0m\n",
       "\u001B[38;2;212;183;2m│\u001B[0m \u001B[1mfetch data for them.\u001B[0m                                                                                            \u001B[38;2;212;183;2m│\u001B[0m\n",
       "\u001B[38;2;212;183;2m│\u001B[0m \u001B[1mIf this attampt alse fails return \"Info not available\".\u001B[0m                                                         \u001B[38;2;212;183;2m│\u001B[0m\n",
       "\u001B[38;2;212;183;2m│\u001B[0m                                                                                                                 \u001B[38;2;212;183;2m│\u001B[0m\n",
       "\u001B[38;2;212;183;2m╰─\u001B[0m\u001B[38;2;212;183;2m OpenAIServerModel - Qwen/Qwen3-235B-A22B-Instruct-2507 \u001B[0m\u001B[38;2;212;183;2m───────────────────────────────────────────────────────\u001B[0m\u001B[38;2;212;183;2m─╯\u001B[0m\n"
      ]
     },
     "metadata": {},
     "output_type": "display_data"
    },
    {
     "data": {
      "text/html": [
       "<pre style=\"white-space:pre;overflow-x:auto;line-height:normal;font-family:Menlo,'DejaVu Sans Mono',consolas,'Courier New',monospace\"><span style=\"color: #d4b702; text-decoration-color: #d4b702\">━━━━━━━━━━━━━━━━━━━━━━━━━━━━━━━━━━━━━━━━━━━━━━━━━━━━━ </span><span style=\"font-weight: bold\">Step 1</span><span style=\"color: #d4b702; text-decoration-color: #d4b702\"> ━━━━━━━━━━━━━━━━━━━━━━━━━━━━━━━━━━━━━━━━━━━━━━━━━━━━━━</span>\n",
       "</pre>\n"
      ],
      "text/plain": [
       "\u001B[38;2;212;183;2m━━━━━━━━━━━━━━━━━━━━━━━━━━━━━━━━━━━━━━━━━━━━━━━━━━━━━ \u001B[0m\u001B[1mStep 1\u001B[0m\u001B[38;2;212;183;2m ━━━━━━━━━━━━━━━━━━━━━━━━━━━━━━━━━━━━━━━━━━━━━━━━━━━━━━\u001B[0m\n"
      ]
     },
     "metadata": {},
     "output_type": "display_data"
    },
    {
     "data": {
      "text/html": [
       "<pre style=\"white-space:pre;overflow-x:auto;line-height:normal;font-family:Menlo,'DejaVu Sans Mono',consolas,'Courier New',monospace\">╭─────────────────────────────────────────────────────────────────────────────────────────────────────────────────╮\n",
       "│ Calling tool: 'opengenes_get_schema_info' with arguments: {}                                                    │\n",
       "╰─────────────────────────────────────────────────────────────────────────────────────────────────────────────────╯\n",
       "</pre>\n"
      ],
      "text/plain": [
       "╭─────────────────────────────────────────────────────────────────────────────────────────────────────────────────╮\n",
       "│ Calling tool: 'opengenes_get_schema_info' with arguments: {}                                                    │\n",
       "╰─────────────────────────────────────────────────────────────────────────────────────────────────────────────────╯\n"
      ]
     },
     "metadata": {},
     "output_type": "display_data"
    },
    {
     "data": {
      "text/html": [
       "<pre style=\"white-space:pre;overflow-x:auto;line-height:normal;font-family:Menlo,'DejaVu Sans Mono',consolas,'Courier New',monospace\">╭─────────────────────────────────────────────────────────────────────────────────────────────────────────────────╮\n",
       "│ Calling tool: 'opengenes_example_queries' with arguments: {}                                                    │\n",
       "╰─────────────────────────────────────────────────────────────────────────────────────────────────────────────────╯\n",
       "</pre>\n"
      ],
      "text/plain": [
       "╭─────────────────────────────────────────────────────────────────────────────────────────────────────────────────╮\n",
       "│ Calling tool: 'opengenes_example_queries' with arguments: {}                                                    │\n",
       "╰─────────────────────────────────────────────────────────────────────────────────────────────────────────────────╯\n"
      ]
     },
     "metadata": {},
     "output_type": "display_data"
    },
    {
     "data": {
      "text/html": [
       "<pre style=\"white-space:pre;overflow-x:auto;line-height:normal;font-family:Menlo,'DejaVu Sans Mono',consolas,'Courier New',monospace\">Observations: |{\"category\":\"Lifespan Effects - Ordered by Magnitude\",\"description\":\"Genes that increase lifespan, \n",
       "ordered by greatest extension first\",\"query\":\"SELECT HGNC, model_organism, effect_on_lifespan, \n",
       "lifespan_percent_change_mean FROM lifespan_change WHERE effect_on_lifespan = 'increases lifespan' AND \n",
       "lifespan_percent_change_mean IS NOT NULL ORDER BY lifespan_percent_change_mean DESC\",\"key_concept\":\"Always order \n",
       "lifespan results by magnitude for relevance. Use LIMIT only when user specifically asks for 'top N' or \n",
       "similar\"},{\"category\":\"Lifespan Effects - Ordered by Magnitude\",\"description\":\"Genes that decrease lifespan, \n",
       "ordered by greatest reduction first\",\"query\":\"SELECT HGNC, model_organism, effect_on_lifespan, \n",
       "lifespan_percent_change_mean FROM lifespan_change WHERE effect_on_lifespan = 'decreases lifespan' AND \n",
       "lifespan_percent_change_mean IS NOT NULL ORDER BY lifespan_percent_change_mean ASC\",\"key_concept\":\"Use ASC ordering\n",
       "for lifespan reductions to show largest decreases first. Use LIMIT only when user specifically asks for 'top N' or \n",
       "similar\"},{\"category\":\"Lifespan Effects - Mean vs Maximum\",\"description\":\"Show both mean and maximum lifespan \n",
       "changes when user asks about lifespan effects\",\"query\":\"SELECT HGNC, model_organism, effect_on_lifespan, \n",
       "lifespan_percent_change_mean, lifespan_percent_change_max, significance_mean, significance_max FROM lifespan_change\n",
       "WHERE effect_on_lifespan = 'increases lifespan' AND (lifespan_percent_change_mean IS NOT NULL OR \n",
       "lifespan_percent_change_max IS NOT NULL) ORDER BY COALESCE(lifespan_percent_change_mean, \n",
       "lifespan_percent_change_max) DESC\",\"key_concept\":\"IMPORTANT: When user asks about lifespan effects without \n",
       "specifying mean vs max, show both metrics. Researchers may be interested in either average effects or maximum \n",
       "potential. Use LIMIT only when user specifically asks for 'top N' or similar\"},{\"category\":\"Lifespan Effects - Mean\n",
       "vs Maximum\",\"description\":\"Compare mean vs maximum lifespan changes for the same interventions\",\"query\":\"SELECT \n",
       "HGNC, model_organism, lifespan_percent_change_mean, lifespan_percent_change_max, (lifespan_percent_change_max - \n",
       "lifespan_percent_change_mean) as max_vs_mean_diff FROM lifespan_change WHERE lifespan_percent_change_mean IS NOT \n",
       "NULL AND lifespan_percent_change_max IS NOT NULL AND effect_on_lifespan = 'increases lifespan' ORDER BY \n",
       "max_vs_mean_diff DESC\",\"key_concept\":\"Show the difference between maximum and mean effects to highlight variability\n",
       "in responses. Use LIMIT only when user specifically asks for 'top N' or similar\"},{\"category\":\"Multi-Value Fields -\n",
       "LIKE Queries\",\"description\":\"Find genes associated with stem cell exhaustion hallmark\",\"query\":\"SELECT HGNC, \n",
       "\\\"hallmarks of aging\\\" FROM gene_hallmarks WHERE \\\"hallmarks of aging\\\" LIKE '%stem cell \n",
       "exhaustion%'\",\"key_concept\":\"CRITICAL: Always use LIKE with wildcards for multi-value \n",
       "fields\"},{\"category\":\"Multi-Value Fields - LIKE Queries\",\"description\":\"Find interventions that improve \n",
       "cardiovascular system\",\"query\":\"SELECT HGNC, intervention_improves, effect_on_lifespan, \n",
       "lifespan_percent_change_mean FROM lifespan_change WHERE intervention_improves LIKE '%cardiovascular system%' ORDER \n",
       "BY lifespan_percent_change_mean DESC\",\"key_concept\":\"Use LIKE queries for intervention_improves and \n",
       "intervention_deteriorates columns\"},{\"category\":\"Multi-Value Fields - LIKE Queries\",\"description\":\"Find genes \n",
       "affecting mitochondrial function\",\"query\":\"SELECT HGNC, \\\"hallmarks of aging\\\" FROM gene_hallmarks WHERE \n",
       "\\\"hallmarks of aging\\\" LIKE '%mitochondrial%'\",\"key_concept\":\"Multi-value hallmarks field requires LIKE pattern \n",
       "matching\"},{\"category\":\"Cross-Table Analysis\",\"description\":\"Genes with both experimental lifespan effects and \n",
       "population longevity associations\",\"query\":\"SELECT DISTINCT lc.HGNC, lc.effect_on_lifespan, lc.model_organism, \n",
       "la.ethnicity, la.\\\"study type\\\" FROM lifespan_change lc INNER JOIN longevity_associations la ON lc.HGNC = la.HGNC \n",
       "WHERE lc.effect_on_lifespan = 'increases lifespan'\",\"key_concept\":\"Join tables using HGNC to combine experimental \n",
       "and population data\"},{\"category\":\"Cross-Table Analysis - CRITICAL PATTERN\",\"description\":\"COMPREHENSIVE AGING \n",
       "EVIDENCE: For questions asking about 'evidence of gene X and aging', ALWAYS query ALL 4 tables\",\"query\":\"SELECT \n",
       "criteria FROM gene_criteria WHERE HGNC = 'PTEN'\",\"key_concept\":\"CRITICAL: For comprehensive aging evidence \n",
       "questions (like 'What evidence of the link between X and aging'), you MUST query ALL 4 tables: 1) gene_criteria 2) \n",
       "gene_hallmarks 3) lifespan_change 4) longevity_associations. The longevity_associations table contains crucial \n",
       "human population study data that must be included.\"},{\"category\":\"Cross-Table Analysis - HUMAN POPULATION \n",
       "DATA\",\"description\":\"ALWAYS include human longevity associations when asked about aging evidence\",\"query\":\"SELECT \n",
       "\\\"polymorphism id\\\", \\\"nucleotide substitution\\\", \\\"amino acid substitution\\\", ethnicity, \\\"study type\\\" FROM \n",
       "longevity_associations WHERE HGNC = 'PTEN'\",\"key_concept\":\"ESSENTIAL: When user asks for aging evidence of a gene, \n",
       "human population studies from longevity_associations table are a key component. Include polymorphism details, \n",
       "ethnicity, and study type.\"},{\"category\":\"Cross-Table Analysis\",\"description\":\"Genes with lifespan effects and \n",
       "their aging criteria\",\"query\":\"SELECT lc.HGNC, lc.effect_on_lifespan, lc.lifespan_percent_change_mean, gc.criteria \n",
       "FROM lifespan_change lc INNER JOIN gene_criteria gc ON lc.HGNC = gc.HGNC WHERE lc.lifespan_percent_change_mean &gt; 20\n",
       "ORDER BY lc.lifespan_percent_change_mean DESC\",\"key_concept\":\"Combine lifespan data with criteria to understand \n",
       "gene classifications\"},{\"category\":\"Model Organism Studies\",\"description\":\"Compare gene effects across mammals vs \n",
       "non-mammals\",\"query\":\"SELECT HGNC, model_organism, effect_on_lifespan, lifespan_percent_change_mean FROM \n",
       "lifespan_change WHERE HGNC IN (SELECT HGNC FROM lifespan_change WHERE model_organism IN ('mouse', 'rat', 'rabbit', \n",
       "'hamster')) AND HGNC IN (SELECT HGNC FROM lifespan_change WHERE model_organism IN ('roundworm Caenorhabditis \n",
       "elegans', 'fly Drosophila melanogaster', 'yeasts')) ORDER BY HGNC, model_organism\",\"key_concept\":\"Use subqueries to\n",
       "find genes studied in multiple organism types\"},{\"category\":\"Model Organism Studies\",\"description\":\"Mouse studies \n",
       "with significant lifespan changes (both mean and max)\",\"query\":\"SELECT HGNC, effect_on_lifespan, \n",
       "lifespan_percent_change_mean, lifespan_percent_change_max, significance_mean, significance_max FROM lifespan_change\n",
       "WHERE model_organism = 'mouse' AND (significance_mean = 1 OR significance_max = 1) AND \n",
       "(lifespan_percent_change_mean IS NOT NULL OR lifespan_percent_change_max IS NOT NULL) ORDER BY \n",
       "COALESCE(ABS(lifespan_percent_change_mean), ABS(lifespan_percent_change_max)) DESC\",\"key_concept\":\"Filter by \n",
       "significance and show both mean and max when available, order by absolute change \n",
       "magnitude\"},{\"category\":\"Intervention Methods\",\"description\":\"Compare knockout vs overexpression effects on both \n",
       "mean and maximum lifespan\",\"query\":\"SELECT intervention_method, effect_on_lifespan, COUNT(*) as count, \n",
       "AVG(lifespan_percent_change_mean) as avg_mean_change, AVG(lifespan_percent_change_max) as avg_max_change FROM \n",
       "lifespan_change WHERE intervention_method IN ('gene knockout', 'additional copies of a gene in the genome') AND \n",
       "(lifespan_percent_change_mean IS NOT NULL OR lifespan_percent_change_max IS NOT NULL) GROUP BY intervention_method,\n",
       "effect_on_lifespan ORDER BY intervention_method, avg_mean_change DESC\",\"key_concept\":\"Group by intervention method \n",
       "and show both mean and maximum lifespan metrics to compare approaches comprehensively\"},{\"category\":\"Population \n",
       "Genetics\",\"description\":\"Longevity associations by ethnicity and study type\",\"query\":\"SELECT ethnicity, \\\"study \n",
       "type\\\", COUNT(*) as association_count FROM longevity_associations WHERE ethnicity != 'n/a' GROUP BY ethnicity, \n",
       "\\\"study type\\\" ORDER BY association_count DESC\",\"key_concept\":\"Analyze population genetics patterns across \n",
       "ethnicities. No LIMIT needed for aggregate statistics\"},{\"category\":\"Population Genetics\",\"description\":\"ALL \n",
       "polymorphisms for specific genes (no LIMIT when user asks about gene polymorphisms)\",\"query\":\"SELECT HGNC, \n",
       "\\\"polymorphism type\\\", \\\"polymorphism id\\\", \\\"nucleotide substitution\\\", ethnicity, \\\"study type\\\" FROM \n",
       "longevity_associations WHERE HGNC = 'FOXO3'\",\"key_concept\":\"When user asks about polymorphisms in a gene, show ALL \n",
       "entries without LIMIT to provide complete information\"},{\"category\":\"Population Genetics - When to use \n",
       "LIMIT\",\"description\":\"Top 5 genes with most longevity associations (LIMIT appropriate here)\",\"query\":\"SELECT HGNC, \n",
       "COUNT(*) as association_count FROM longevity_associations GROUP BY HGNC ORDER BY association_count DESC LIMIT \n",
       "5\",\"key_concept\":\"Use LIMIT only when user specifically asks for 'top N' results or similar superlative \n",
       "language\"},{\"category\":\"Summary Statistics\",\"description\":\"Top genes by number of experiments across all organisms \n",
       "(use LIMIT only when user asks for 'top N')\",\"query\":\"SELECT HGNC, COUNT(*) as experiment_count, COUNT(DISTINCT \n",
       "model_organism) as organism_count FROM lifespan_change WHERE HGNC IS NOT NULL GROUP BY HGNC ORDER BY \n",
       "experiment_count DESC LIMIT 10\",\"key_concept\":\"Count experiments and organisms per gene for research breadth. Use \n",
       "LIMIT only when user specifically asks for 'top N' genes, otherwise show all results\"},{\"category\":\"Summary \n",
       "Statistics\",\"description\":\"Distribution of lifespan effects by organism (including both mean and max \n",
       "metrics)\",\"query\":\"SELECT model_organism, effect_on_lifespan, COUNT(*) as count, AVG(lifespan_percent_change_mean) \n",
       "as avg_mean_change, AVG(lifespan_percent_change_max) as avg_max_change, COUNT(CASE WHEN \n",
       "lifespan_percent_change_mean IS NOT NULL THEN 1 END) as mean_data_points, COUNT(CASE WHEN \n",
       "lifespan_percent_change_max IS NOT NULL THEN 1 END) as max_data_points FROM lifespan_change GROUP BY \n",
       "model_organism, effect_on_lifespan ORDER BY model_organism, count DESC\",\"key_concept\":\"Analyze effect distributions\n",
       "across model organisms with both metrics and data availability counts\"},{\"category\":\"Advanced \n",
       "Patterns\",\"description\":\"Genes with multiple aging hallmarks (complex multi-value query)\",\"query\":\"SELECT HGNC, \n",
       "\\\"hallmarks of aging\\\", (LENGTH(\\\"hallmarks of aging\\\") - LENGTH(REPLACE(\\\"hallmarks of aging\\\", ',', '')) + 1) as \n",
       "hallmark_count FROM gene_hallmarks WHERE hallmark_count &gt; 3 ORDER BY hallmark_count DESC\",\"key_concept\":\"Count \n",
       "comma-separated values in multi-value fields\"},{\"category\":\"Advanced Patterns\",\"description\":\"Genes affecting both \n",
       "lifespan and specific biological processes\",\"query\":\"SELECT lc.HGNC, lc.effect_on_lifespan, \n",
       "lc.lifespan_percent_change_mean, lc.intervention_improves FROM lifespan_change lc WHERE lc.intervention_improves \n",
       "LIKE '%cardiovascular system%' AND lc.intervention_improves LIKE '%cognitive function%' ORDER BY \n",
       "lc.lifespan_percent_change_mean DESC\",\"key_concept\":\"Use multiple LIKE conditions to find genes affecting multiple \n",
       "systems\"}]\n",
       "</pre>\n"
      ],
      "text/plain": [
       "Observations: |{\"category\":\"Lifespan Effects - Ordered by Magnitude\",\"description\":\"Genes that increase lifespan, \n",
       "ordered by greatest extension first\",\"query\":\"SELECT HGNC, model_organism, effect_on_lifespan, \n",
       "lifespan_percent_change_mean FROM lifespan_change WHERE effect_on_lifespan = 'increases lifespan' AND \n",
       "lifespan_percent_change_mean IS NOT NULL ORDER BY lifespan_percent_change_mean DESC\",\"key_concept\":\"Always order \n",
       "lifespan results by magnitude for relevance. Use LIMIT only when user specifically asks for 'top N' or \n",
       "similar\"},{\"category\":\"Lifespan Effects - Ordered by Magnitude\",\"description\":\"Genes that decrease lifespan, \n",
       "ordered by greatest reduction first\",\"query\":\"SELECT HGNC, model_organism, effect_on_lifespan, \n",
       "lifespan_percent_change_mean FROM lifespan_change WHERE effect_on_lifespan = 'decreases lifespan' AND \n",
       "lifespan_percent_change_mean IS NOT NULL ORDER BY lifespan_percent_change_mean ASC\",\"key_concept\":\"Use ASC ordering\n",
       "for lifespan reductions to show largest decreases first. Use LIMIT only when user specifically asks for 'top N' or \n",
       "similar\"},{\"category\":\"Lifespan Effects - Mean vs Maximum\",\"description\":\"Show both mean and maximum lifespan \n",
       "changes when user asks about lifespan effects\",\"query\":\"SELECT HGNC, model_organism, effect_on_lifespan, \n",
       "lifespan_percent_change_mean, lifespan_percent_change_max, significance_mean, significance_max FROM lifespan_change\n",
       "WHERE effect_on_lifespan = 'increases lifespan' AND (lifespan_percent_change_mean IS NOT NULL OR \n",
       "lifespan_percent_change_max IS NOT NULL) ORDER BY COALESCE(lifespan_percent_change_mean, \n",
       "lifespan_percent_change_max) DESC\",\"key_concept\":\"IMPORTANT: When user asks about lifespan effects without \n",
       "specifying mean vs max, show both metrics. Researchers may be interested in either average effects or maximum \n",
       "potential. Use LIMIT only when user specifically asks for 'top N' or similar\"},{\"category\":\"Lifespan Effects - Mean\n",
       "vs Maximum\",\"description\":\"Compare mean vs maximum lifespan changes for the same interventions\",\"query\":\"SELECT \n",
       "HGNC, model_organism, lifespan_percent_change_mean, lifespan_percent_change_max, (lifespan_percent_change_max - \n",
       "lifespan_percent_change_mean) as max_vs_mean_diff FROM lifespan_change WHERE lifespan_percent_change_mean IS NOT \n",
       "NULL AND lifespan_percent_change_max IS NOT NULL AND effect_on_lifespan = 'increases lifespan' ORDER BY \n",
       "max_vs_mean_diff DESC\",\"key_concept\":\"Show the difference between maximum and mean effects to highlight variability\n",
       "in responses. Use LIMIT only when user specifically asks for 'top N' or similar\"},{\"category\":\"Multi-Value Fields -\n",
       "LIKE Queries\",\"description\":\"Find genes associated with stem cell exhaustion hallmark\",\"query\":\"SELECT HGNC, \n",
       "\\\"hallmarks of aging\\\" FROM gene_hallmarks WHERE \\\"hallmarks of aging\\\" LIKE '%stem cell \n",
       "exhaustion%'\",\"key_concept\":\"CRITICAL: Always use LIKE with wildcards for multi-value \n",
       "fields\"},{\"category\":\"Multi-Value Fields - LIKE Queries\",\"description\":\"Find interventions that improve \n",
       "cardiovascular system\",\"query\":\"SELECT HGNC, intervention_improves, effect_on_lifespan, \n",
       "lifespan_percent_change_mean FROM lifespan_change WHERE intervention_improves LIKE '%cardiovascular system%' ORDER \n",
       "BY lifespan_percent_change_mean DESC\",\"key_concept\":\"Use LIKE queries for intervention_improves and \n",
       "intervention_deteriorates columns\"},{\"category\":\"Multi-Value Fields - LIKE Queries\",\"description\":\"Find genes \n",
       "affecting mitochondrial function\",\"query\":\"SELECT HGNC, \\\"hallmarks of aging\\\" FROM gene_hallmarks WHERE \n",
       "\\\"hallmarks of aging\\\" LIKE '%mitochondrial%'\",\"key_concept\":\"Multi-value hallmarks field requires LIKE pattern \n",
       "matching\"},{\"category\":\"Cross-Table Analysis\",\"description\":\"Genes with both experimental lifespan effects and \n",
       "population longevity associations\",\"query\":\"SELECT DISTINCT lc.HGNC, lc.effect_on_lifespan, lc.model_organism, \n",
       "la.ethnicity, la.\\\"study type\\\" FROM lifespan_change lc INNER JOIN longevity_associations la ON lc.HGNC = la.HGNC \n",
       "WHERE lc.effect_on_lifespan = 'increases lifespan'\",\"key_concept\":\"Join tables using HGNC to combine experimental \n",
       "and population data\"},{\"category\":\"Cross-Table Analysis - CRITICAL PATTERN\",\"description\":\"COMPREHENSIVE AGING \n",
       "EVIDENCE: For questions asking about 'evidence of gene X and aging', ALWAYS query ALL 4 tables\",\"query\":\"SELECT \n",
       "criteria FROM gene_criteria WHERE HGNC = 'PTEN'\",\"key_concept\":\"CRITICAL: For comprehensive aging evidence \n",
       "questions (like 'What evidence of the link between X and aging'), you MUST query ALL 4 tables: 1) gene_criteria 2) \n",
       "gene_hallmarks 3) lifespan_change 4) longevity_associations. The longevity_associations table contains crucial \n",
       "human population study data that must be included.\"},{\"category\":\"Cross-Table Analysis - HUMAN POPULATION \n",
       "DATA\",\"description\":\"ALWAYS include human longevity associations when asked about aging evidence\",\"query\":\"SELECT \n",
       "\\\"polymorphism id\\\", \\\"nucleotide substitution\\\", \\\"amino acid substitution\\\", ethnicity, \\\"study type\\\" FROM \n",
       "longevity_associations WHERE HGNC = 'PTEN'\",\"key_concept\":\"ESSENTIAL: When user asks for aging evidence of a gene, \n",
       "human population studies from longevity_associations table are a key component. Include polymorphism details, \n",
       "ethnicity, and study type.\"},{\"category\":\"Cross-Table Analysis\",\"description\":\"Genes with lifespan effects and \n",
       "their aging criteria\",\"query\":\"SELECT lc.HGNC, lc.effect_on_lifespan, lc.lifespan_percent_change_mean, gc.criteria \n",
       "FROM lifespan_change lc INNER JOIN gene_criteria gc ON lc.HGNC = gc.HGNC WHERE lc.lifespan_percent_change_mean > 20\n",
       "ORDER BY lc.lifespan_percent_change_mean DESC\",\"key_concept\":\"Combine lifespan data with criteria to understand \n",
       "gene classifications\"},{\"category\":\"Model Organism Studies\",\"description\":\"Compare gene effects across mammals vs \n",
       "non-mammals\",\"query\":\"SELECT HGNC, model_organism, effect_on_lifespan, lifespan_percent_change_mean FROM \n",
       "lifespan_change WHERE HGNC IN (SELECT HGNC FROM lifespan_change WHERE model_organism IN ('mouse', 'rat', 'rabbit', \n",
       "'hamster')) AND HGNC IN (SELECT HGNC FROM lifespan_change WHERE model_organism IN ('roundworm Caenorhabditis \n",
       "elegans', 'fly Drosophila melanogaster', 'yeasts')) ORDER BY HGNC, model_organism\",\"key_concept\":\"Use subqueries to\n",
       "find genes studied in multiple organism types\"},{\"category\":\"Model Organism Studies\",\"description\":\"Mouse studies \n",
       "with significant lifespan changes (both mean and max)\",\"query\":\"SELECT HGNC, effect_on_lifespan, \n",
       "lifespan_percent_change_mean, lifespan_percent_change_max, significance_mean, significance_max FROM lifespan_change\n",
       "WHERE model_organism = 'mouse' AND (significance_mean = 1 OR significance_max = 1) AND \n",
       "(lifespan_percent_change_mean IS NOT NULL OR lifespan_percent_change_max IS NOT NULL) ORDER BY \n",
       "COALESCE(ABS(lifespan_percent_change_mean), ABS(lifespan_percent_change_max)) DESC\",\"key_concept\":\"Filter by \n",
       "significance and show both mean and max when available, order by absolute change \n",
       "magnitude\"},{\"category\":\"Intervention Methods\",\"description\":\"Compare knockout vs overexpression effects on both \n",
       "mean and maximum lifespan\",\"query\":\"SELECT intervention_method, effect_on_lifespan, COUNT(*) as count, \n",
       "AVG(lifespan_percent_change_mean) as avg_mean_change, AVG(lifespan_percent_change_max) as avg_max_change FROM \n",
       "lifespan_change WHERE intervention_method IN ('gene knockout', 'additional copies of a gene in the genome') AND \n",
       "(lifespan_percent_change_mean IS NOT NULL OR lifespan_percent_change_max IS NOT NULL) GROUP BY intervention_method,\n",
       "effect_on_lifespan ORDER BY intervention_method, avg_mean_change DESC\",\"key_concept\":\"Group by intervention method \n",
       "and show both mean and maximum lifespan metrics to compare approaches comprehensively\"},{\"category\":\"Population \n",
       "Genetics\",\"description\":\"Longevity associations by ethnicity and study type\",\"query\":\"SELECT ethnicity, \\\"study \n",
       "type\\\", COUNT(*) as association_count FROM longevity_associations WHERE ethnicity != 'n/a' GROUP BY ethnicity, \n",
       "\\\"study type\\\" ORDER BY association_count DESC\",\"key_concept\":\"Analyze population genetics patterns across \n",
       "ethnicities. No LIMIT needed for aggregate statistics\"},{\"category\":\"Population Genetics\",\"description\":\"ALL \n",
       "polymorphisms for specific genes (no LIMIT when user asks about gene polymorphisms)\",\"query\":\"SELECT HGNC, \n",
       "\\\"polymorphism type\\\", \\\"polymorphism id\\\", \\\"nucleotide substitution\\\", ethnicity, \\\"study type\\\" FROM \n",
       "longevity_associations WHERE HGNC = 'FOXO3'\",\"key_concept\":\"When user asks about polymorphisms in a gene, show ALL \n",
       "entries without LIMIT to provide complete information\"},{\"category\":\"Population Genetics - When to use \n",
       "LIMIT\",\"description\":\"Top 5 genes with most longevity associations (LIMIT appropriate here)\",\"query\":\"SELECT HGNC, \n",
       "COUNT(*) as association_count FROM longevity_associations GROUP BY HGNC ORDER BY association_count DESC LIMIT \n",
       "5\",\"key_concept\":\"Use LIMIT only when user specifically asks for 'top N' results or similar superlative \n",
       "language\"},{\"category\":\"Summary Statistics\",\"description\":\"Top genes by number of experiments across all organisms \n",
       "(use LIMIT only when user asks for 'top N')\",\"query\":\"SELECT HGNC, COUNT(*) as experiment_count, COUNT(DISTINCT \n",
       "model_organism) as organism_count FROM lifespan_change WHERE HGNC IS NOT NULL GROUP BY HGNC ORDER BY \n",
       "experiment_count DESC LIMIT 10\",\"key_concept\":\"Count experiments and organisms per gene for research breadth. Use \n",
       "LIMIT only when user specifically asks for 'top N' genes, otherwise show all results\"},{\"category\":\"Summary \n",
       "Statistics\",\"description\":\"Distribution of lifespan effects by organism (including both mean and max \n",
       "metrics)\",\"query\":\"SELECT model_organism, effect_on_lifespan, COUNT(*) as count, AVG(lifespan_percent_change_mean) \n",
       "as avg_mean_change, AVG(lifespan_percent_change_max) as avg_max_change, COUNT(CASE WHEN \n",
       "lifespan_percent_change_mean IS NOT NULL THEN 1 END) as mean_data_points, COUNT(CASE WHEN \n",
       "lifespan_percent_change_max IS NOT NULL THEN 1 END) as max_data_points FROM lifespan_change GROUP BY \n",
       "model_organism, effect_on_lifespan ORDER BY model_organism, count DESC\",\"key_concept\":\"Analyze effect distributions\n",
       "across model organisms with both metrics and data availability counts\"},{\"category\":\"Advanced \n",
       "Patterns\",\"description\":\"Genes with multiple aging hallmarks (complex multi-value query)\",\"query\":\"SELECT HGNC, \n",
       "\\\"hallmarks of aging\\\", (LENGTH(\\\"hallmarks of aging\\\") - LENGTH(REPLACE(\\\"hallmarks of aging\\\", ',', '')) + 1) as \n",
       "hallmark_count FROM gene_hallmarks WHERE hallmark_count > 3 ORDER BY hallmark_count DESC\",\"key_concept\":\"Count \n",
       "comma-separated values in multi-value fields\"},{\"category\":\"Advanced Patterns\",\"description\":\"Genes affecting both \n",
       "lifespan and specific biological processes\",\"query\":\"SELECT lc.HGNC, lc.effect_on_lifespan, \n",
       "lc.lifespan_percent_change_mean, lc.intervention_improves FROM lifespan_change lc WHERE lc.intervention_improves \n",
       "LIKE '%cardiovascular system%' AND lc.intervention_improves LIKE '%cognitive function%' ORDER BY \n",
       "lc.lifespan_percent_change_mean DESC\",\"key_concept\":\"Use multiple LIKE conditions to find genes affecting multiple \n",
       "systems\"}]\n"
      ]
     },
     "metadata": {},
     "output_type": "display_data"
    },
    {
     "data": {
      "text/html": [
       "<pre style=\"white-space:pre;overflow-x:auto;line-height:normal;font-family:Menlo,'DejaVu Sans Mono',consolas,'Courier New',monospace\">Observations: {\"database_overview\":{\"description\":\"OpenGenes database contains aging and lifespan research data \n",
       "with 4 main tables linked by HGNC gene symbols\",\"total_tables\":4,\"primary_key\":\"HGNC (gene symbol) - links all \n",
       "tables together\"},\"critical_query_guidelines\":{\"multi_value_fields\":{\"description\":\"Some columns contain \n",
       "comma-separated values. ALWAYS use LIKE queries with wildcards for these \n",
       "fields.\",\"fields\":|\"gene_hallmarks.'hallmarks of aging' - contains multiple aging hallmarks per \n",
       "gene\",\"lifespan_change.intervention_deteriorates - multiple biological processes that \n",
       "deteriorate\",\"lifespan_change.intervention_improves - multiple biological processes that \n",
       "improve\"],\"example_syntax\":\"WHERE \\\"hallmarks of aging\\\" LIKE '%stem cell \n",
       "exhaustion%'\"},\"lifespan_metrics\":{\"description\":\"Database contains both mean and maximum lifespan change metrics. \n",
       "When user asks about lifespan effects without specifying, show both.\",\"mean_vs_max\":\"lifespan_percent_change_mean \n",
       "shows average effect, lifespan_percent_change_max shows maximum observed effect\",\"when_to_show_both\":\"If user asks \n",
       "about 'lifespan effects' or 'lifespan changes' without specifying mean vs max, include both \n",
       "metrics\",\"ordering_both\":\"Use COALESCE(lifespan_percent_change_mean, lifespan_percent_change_max) for ordering when\n",
       "showing both\",\"significance\":\"Both mean and max have corresponding significance columns (significance_mean, \n",
       "significance_max)\"},\"result_ordering\":{\"lifespan_extension\":\"ORDER BY lifespan_percent_change_mean DESC (highest \n",
       "increase first)\",\"lifespan_reduction\":\"ORDER BY lifespan_percent_change_mean ASC (largest decrease \n",
       "first)\",\"importance\":\"Always order lifespan results by magnitude of effect for relevance\",\"both_metrics\":\"When \n",
       "showing both mean and max, use COALESCE for ordering or show \n",
       "comparison\"},\"comprehensive_aging_evidence\":{\"description\":\"For questions about aging evidence, link to aging, or \n",
       "longevity associations for a gene, query ALL 4 tables for complete evidence\",\"required_tables\":\"1) gene_criteria \n",
       "(aging-related criteria), 2) gene_hallmarks (aging pathways), 3) lifespan_change (experimental effects), 4) \n",
       "longevity_associations (human population studies)\",\"example_patterns\":\"Evidence of X and aging, Link between X and \n",
       "aging, X gene aging associations, What evidence links X to aging\",\"critical_note\":\"Do NOT omit \n",
       "longevity_associations table - it contains crucial human population genetics data\"},\"gene_queries\":\"Use HGNC column\n",
       "for gene symbols (TP53, FOXO3, etc.)\",\"safety\":\"Only SELECT queries allowed - no INSERT, UPDATE, DELETE, or DDL \n",
       "operations\"},\"tables\":{\"lifespan_change\":{\"description\":{\"purpose\":\"Experimental data on how gene modifications \n",
       "affect lifespan in various model organisms\",\"key_columns\":\"HGNC, model_organism, effect_on_lifespan, intervention \n",
       "methods, lifespan measurements\",\"use_cases\":\"Questions about gene effects on lifespan, experimental conditions, \n",
       "organism studies\",\"special_notes\":\"Contains multi-value fields for intervention effects. Use LIKE queries for \n",
       "intervention_deteriorates and intervention_improves \n",
       "columns.\"},\"columns\":|{\"name\":\"HGNC\",\"type\":\"TEXT\",\"nullable\":true,\"primary_key\":false,\"description\":\"Gene symbol \n",
       "(standard gene names like TP53, \n",
       "FOXO3)\"},{\"name\":\"model_organism\",\"type\":\"TEXT\",\"nullable\":true,\"primary_key\":false,\"description\":\"Organism used \n",
       "for experiment (mouse, C. elegans, fly, \n",
       "etc.)\"},{\"name\":\"sex\",\"type\":\"TEXT\",\"nullable\":true,\"primary_key\":false,\"description\":\"Sex of organism used (male, \n",
       "female, all, hermaphrodites, \n",
       "etc.)\"},{\"name\":\"line\",\"type\":\"TEXT\",\"nullable\":true,\"primary_key\":false,\"description\":\"\"},{\"name\":\"effect_on_lifes\n",
       "pan\",\"type\":\"TEXT\",\"nullable\":true,\"primary_key\":false,\"description\":\"Direction of lifespan change \n",
       "(increases/decreases/no \n",
       "change)\"},{\"name\":\"control_cohort_size\",\"type\":\"REAL\",\"nullable\":true,\"primary_key\":false,\"description\":\"\"},{\"name\"\n",
       ":\"experiment_cohort_size\",\"type\":\"REAL\",\"nullable\":true,\"primary_key\":false,\"description\":\"\"},{\"name\":\"quantity_of_\n",
       "animals_in_cage_or_container\",\"type\":\"REAL\",\"nullable\":true,\"primary_key\":false,\"description\":\"\"},{\"name\":\"containm\n",
       "ent_t_celsius_from\",\"type\":\"REAL\",\"nullable\":true,\"primary_key\":false,\"description\":\"\"},{\"name\":\"containment_t_cels\n",
       "ius_to\",\"type\":\"TEXT\",\"nullable\":true,\"primary_key\":false,\"description\":\"\"},{\"name\":\"diet\",\"type\":\"TEXT\",\"nullable\"\n",
       ":true,\"primary_key\":false,\"description\":\"\"},{\"name\":\"target_gene_expression_change\",\"type\":\"REAL\",\"nullable\":true,\"\n",
       "primary_key\":false,\"description\":\"\"},{\"name\":\"control_lifespan_min\",\"type\":\"REAL\",\"nullable\":true,\"primary_key\":fal\n",
       "se,\"description\":\"\"},{\"name\":\"control_lifespan_mean\",\"type\":\"REAL\",\"nullable\":true,\"primary_key\":false,\"description\n",
       "\":\"Mean lifespan of control \n",
       "group\"},{\"name\":\"control_lifespan_median\",\"type\":\"REAL\",\"nullable\":true,\"primary_key\":false,\"description\":\"\"},{\"nam\n",
       "e\":\"control_lifespan_max\",\"type\":\"REAL\",\"nullable\":true,\"primary_key\":false,\"description\":\"\"},{\"name\":\"experiment_l\n",
       "ifespan_min\",\"type\":\"REAL\",\"nullable\":true,\"primary_key\":false,\"description\":\"\"},{\"name\":\"experiment_lifespan_mean\"\n",
       ",\"type\":\"REAL\",\"nullable\":true,\"primary_key\":false,\"description\":\"Mean lifespan of experimental \n",
       "group\"},{\"name\":\"experiment_lifespan_median\",\"type\":\"REAL\",\"nullable\":true,\"primary_key\":false,\"description\":\"\"},{\"\n",
       "name\":\"experiment_lifespan_max\",\"type\":\"REAL\",\"nullable\":true,\"primary_key\":false,\"description\":\"\"},{\"name\":\"lifesp\n",
       "an_time_unit\",\"type\":\"TEXT\",\"nullable\":true,\"primary_key\":false,\"description\":\"\"},{\"name\":\"lifespan_percent_change_\n",
       "min\",\"type\":\"REAL\",\"nullable\":true,\"primary_key\":false,\"description\":\"\"},{\"name\":\"significance_min\",\"type\":\"INTEGER\n",
       "\",\"nullable\":true,\"primary_key\":false,\"description\":\"\"},{\"name\":\"lifespan_percent_change_mean\",\"type\":\"REAL\",\"nulla\n",
       "ble\":true,\"primary_key\":false,\"description\":\"Mean percent change in lifespan (average effect across cohort - use \n",
       "for ordering \n",
       "results)\"},{\"name\":\"significance_mean\",\"type\":\"INTEGER\",\"nullable\":true,\"primary_key\":false,\"description\":\"Statisti\n",
       "cal significance of mean lifespan change (1=significant, 0=not \n",
       "significant)\"},{\"name\":\"lifespan_percent_change_median\",\"type\":\"REAL\",\"nullable\":true,\"primary_key\":false,\"descript\n",
       "ion\":\"Median percent change in \n",
       "lifespan\"},{\"name\":\"significance_median\",\"type\":\"INTEGER\",\"nullable\":true,\"primary_key\":false,\"description\":\"\"},{\"n\n",
       "ame\":\"lifespan_percent_change_max\",\"type\":\"REAL\",\"nullable\":true,\"primary_key\":false,\"description\":\"Maximum percent\n",
       "change in lifespan (best individual response - show both mean and max when user asks about lifespan \n",
       "effects)\"},{\"name\":\"significance_max\",\"type\":\"INTEGER\",\"nullable\":true,\"primary_key\":false,\"description\":\"Statistic\n",
       "al significance of maximum lifespan change (1=significant, 0=not \n",
       "significant)\"},{\"name\":\"intervention_deteriorates\",\"type\":\"TEXT\",\"nullable\":true,\"primary_key\":false,\"description\":\n",
       "\"MULTI-VALUE: Biological processes that deteriorated (use LIKE \n",
       "queries)\"},{\"name\":\"intervention_improves\",\"type\":\"TEXT\",\"nullable\":true,\"primary_key\":false,\"description\":\"MULTI-V\n",
       "ALUE: Biological processes that improved (use LIKE \n",
       "queries)\"},{\"name\":\"main_effect_on_lifespan\",\"type\":\"TEXT\",\"nullable\":true,\"primary_key\":false,\"description\":\"Type \n",
       "of gene activity change (gain/loss/switch of \n",
       "function)\"},{\"name\":\"intervention_way\",\"type\":\"TEXT\",\"nullable\":true,\"primary_key\":false,\"description\":\"\"},{\"name\":\n",
       "\"intervention_method\",\"type\":\"TEXT\",\"nullable\":true,\"primary_key\":false,\"description\":\"Method used to modify gene \n",
       "(knockout, overexpression, \n",
       "etc.)\"},{\"name\":\"genotype\",\"type\":\"TEXT\",\"nullable\":true,\"primary_key\":false,\"description\":\"\"},{\"name\":\"tissue\",\"ty\n",
       "pe\":\"TEXT\",\"nullable\":true,\"primary_key\":false,\"description\":\"\"},{\"name\":\"tissue_specific_promoter\",\"type\":\"TEXT\",\"\n",
       "nullable\":true,\"primary_key\":false,\"description\":\"\"},{\"name\":\"induction_by_drug_withdrawal\",\"type\":\"INTEGER\",\"nulla\n",
       "ble\":true,\"primary_key\":false,\"description\":\"\"},{\"name\":\"drug\",\"type\":\"TEXT\",\"nullable\":true,\"primary_key\":false,\"d\n",
       "escription\":\"\"},{\"name\":\"treatment_start\",\"type\":\"TEXT\",\"nullable\":true,\"primary_key\":false,\"description\":\"\"},{\"nam\n",
       "e\":\"treatment_end\",\"type\":\"TEXT\",\"nullable\":true,\"primary_key\":false,\"description\":\"\"},{\"name\":\"doi\",\"type\":\"TEXT\",\n",
       "\"nullable\":true,\"primary_key\":false,\"description\":\"\"},{\"name\":\"pmid\",\"type\":\"REAL\",\"nullable\":true,\"primary_key\":fa\n",
       "lse,\"description\":\"\"}]},\"gene_criteria\":{\"description\":{\"purpose\":\"Aging-related criteria that genes meet (12 \n",
       "different categories)\",\"key_columns\":\"HGNC, criteria\",\"use_cases\":\"Questions about why genes are considered \n",
       "aging-related\",\"special_notes\":\"Links genes to specific aging research criteria \n",
       "classifications\"},\"columns\":|{\"name\":\"HGNC\",\"type\":\"TEXT\",\"nullable\":true,\"primary_key\":false,\"description\":\"Gene \n",
       "symbol (standard gene names like TP53, \n",
       "FOXO3)\"},{\"name\":\"criteria\",\"type\":\"TEXT\",\"nullable\":true,\"primary_key\":false,\"description\":\"Aging-related criteria\n",
       "the gene meets (12 different categories)\"}]},\"gene_hallmarks\":{\"description\":{\"purpose\":\"Links genes to hallmarks \n",
       "of aging\",\"key_columns\":\"HGNC, hallmarks of aging (multi-value field)\",\"use_cases\":\"Questions about which aging \n",
       "hallmarks genes are involved in\",\"special_notes\":\"CRITICAL: 'hallmarks of aging' column contains comma-separated \n",
       "values. Always use LIKE queries with \n",
       "wildcards.\"},\"columns\":|{\"name\":\"HGNC\",\"type\":\"TEXT\",\"nullable\":true,\"primary_key\":false,\"description\":\"Gene symbol\n",
       "(standard gene names like TP53, FOXO3)\"},{\"name\":\"hallmarks of \n",
       "aging\",\"type\":\"TEXT\",\"nullable\":true,\"primary_key\":false,\"description\":\"MULTI-VALUE: Comma-separated aging \n",
       "hallmarks (ALWAYS use LIKE queries with \n",
       "wildcards)\"}]},\"longevity_associations\":{\"description\":{\"purpose\":\"Population genetics data on gene variants \n",
       "associated with longevity\",\"key_columns\":\"HGNC, polymorphism data, ethnicity, study type\",\"use_cases\":\"Questions \n",
       "about genetic variants associated with longevity in human populations\",\"special_notes\":\"Contains SNPs, indels, and \n",
       "other genetic variations from population \n",
       "studies\"},\"columns\":|{\"name\":\"HGNC\",\"type\":\"TEXT\",\"nullable\":true,\"primary_key\":false,\"description\":\"Gene symbol \n",
       "(standard gene names like TP53, FOXO3)\"},{\"name\":\"polymorphism \n",
       "type\",\"type\":\"TEXT\",\"nullable\":true,\"primary_key\":false,\"description\":\"Type of genetic variant (SNP, In/Del, VNTR, \n",
       "etc.)\"},{\"name\":\"polymorphism id\",\"type\":\"TEXT\",\"nullable\":true,\"primary_key\":false,\"description\":\"Identifier for \n",
       "the genetic variant (e.g., rs numbers for SNPs)\"},{\"name\":\"nucleotide \n",
       "substitution\",\"type\":\"TEXT\",\"nullable\":true,\"primary_key\":false,\"description\":\"DNA sequence change for the \n",
       "variant\"},{\"name\":\"amino acid \n",
       "substitution\",\"type\":\"TEXT\",\"nullable\":true,\"primary_key\":false,\"description\":\"Protein sequence change caused by \n",
       "the variant\"},{\"name\":\"polymorphism — \n",
       "other\",\"type\":\"TEXT\",\"nullable\":true,\"primary_key\":false,\"description\":\"Additional polymorphism \n",
       "details\"},{\"name\":\"ethnicity\",\"type\":\"TEXT\",\"nullable\":true,\"primary_key\":false,\"description\":\"Ethnicity of study \n",
       "participants\"},{\"name\":\"study type\",\"type\":\"TEXT\",\"nullable\":true,\"primary_key\":false,\"description\":\"Type of \n",
       "population study (GWAS, candidate genes, meta-analysis, \n",
       "etc.)\"},{\"name\":\"sex\",\"type\":\"TEXT\",\"nullable\":true,\"primary_key\":false,\"description\":\"Sex of study \n",
       "participants\"},{\"name\":\"doi\",\"type\":\"TEXT\",\"nullable\":true,\"primary_key\":false,\"description\":\"DOI of the research \n",
       "publication\"},{\"name\":\"pmid\",\"type\":\"TEXT\",\"nullable\":true,\"primary_key\":false,\"description\":\"PubMed ID of the \n",
       "research publication\"}]}},\"enumerations\":{\"lifespan_change\":{\"model_organism\":|\"mouse\",\"roundworm Caenorhabditis \n",
       "elegans\",\"fly Drosophila melanogaster\",\"rabbit\",\"rat\",\"acyrthosiphon pisum\",\"yeasts\",\"fish Nothobranchius \n",
       "furzeri\",\"fungus Podospora anserina\",\"hamster\",\"zebrafish\",\"fish Nothobranchius \n",
       "guentheri\"],\"sex\":|\"male\",\"female\",\"all\",\"hermaphrodites\",\"not specified\",\"None\"],\"effect_on_lifespan\":|\"increases \n",
       "lifespan\",\"no change\",\"decreases lifespan\",\"increases lifespan in animals with decreased lifespans\",\"decreases \n",
       "survival under stress conditions\",\"improves survival under stress conditions\",\"decreases life span in animals with \n",
       "increased lifespans\",\"no change under stress conditions\"],\"main_effect_on_lifespan\":|\"loss of function\",\"switch of \n",
       "function\",\"gain of function\"],\"intervention_way\":|\"changes in genome level\",\"combined (inducible \n",
       "mutation)\",\"interventions by selective drug/RNAi\"],\"intervention_method\":|\"gene knockout\",\"gene modification to \n",
       "affect product activity/stability\",\"gene modification\",\"additional copies of a gene in the genome\",\"addition to the\n",
       "genome of a dominant-negative gene variant that reduces the activity of an endogenous protein\",\"treatment with \n",
       "vector with additional gene copies\",\"gene modification to reduce protein activity/stability\",\"interfering RNA \n",
       "transgene\",\"RNA interferention\",\"gene modification to increase protein activity/stability\",\"introduction into the \n",
       "genome of a construct under the control of a gene promoter, which causes death or a decrease in the viability of \n",
       "cells expressing the gene\",\"knockout of gene isoform\",\"tissue-specific gene knockout\",\"reduced expression of one of\n",
       "the isoforms in transgenic animals\",\"gene modification to reduce gene expression\",\"treatment with gene product \n",
       "inducer\",\"None\",\"tissue-specific gene overexpression\",\"additional copies of a gene in transgenic \n",
       "animals\",\"treatment with a gene product inhibitor\",\"treatment with protein\",\"gene modification to increase gene \n",
       "expression\",\"removal of cells expressing the gene\",\"splicing modification\"],\"diet\":|\"standard chow\",\"None\",\"Purina \n",
       "Lab Diet 5001, ad libitum\",\"Purina Lab Diet 5001, from birth to 12 weeks ad. lib., then 40% from ad. lib.\",\"Teklad \n",
       "LM485 Diet, ad libitum\",\"Teklad 2018S Diet, ad libitum\",\"E. coli OP50, NGM\",\"96W chow ad.lib.\",\"calorie-restricted \n",
       "diet\",\"2% yeast, 10% sucrose, 5% cornmeal\",\"2% yeasts, 10% sucrose, 5% cornmeal\",\"high-calorie food, 15% dextrose, \n",
       "15% yeast, 2% agar\",\"low-calorie food, 5% dextrose, 5% yeast, 2% agar\",\"ad libitum\",\"agar, corn meal, yeast and \n",
       "molasses\",\"E. coli HT115 L4440, NGM\"],\"tissue\":|\"None\",\"muscle\",\"neurons\",\"fat body\",\"dopaminergic \n",
       "neurons\",\"glia\",\"brain\",\"corpora cardiaca\",\"insulin-producing cells\",\"central nervous \n",
       "system\",\"intestine\",\"liver\",\"heart\",\"myeloid cells\",\"intestinal stem cells and enteroblasts\",\"adipose \n",
       "tissue\",\"melanocytes,Trp2 expressing neurons\",\"cardiomyocytes\",\"hepatocytes\",\"heart,skeletal \n",
       "muscles\",\"heart,brain,skeletal muscles\",\"skin\",\"eye\",\"connective tissue\",\"cholinergic \n",
       "neurons\",\"kidney,brain\",\"kidney,heart,brain\",\"neurolemma\",\"hypodermis\",\"mediobasal hypothalamus\",\"motor \n",
       "neurons\",\"median neurosecretory cells\",\"hypocretin expressing neurons in the hypothalamus\",\"body wall \n",
       "muscles\",\"pharynx\",\"digestive tract\",\"abdominal fat and the digestive tract\",\"skeletal muscles\",\"white adipose \n",
       "tissue\"],\"drug\":|\"None\",\"tamoxifen\",\"mifepristone RU486\",\"AAV9-mTERT\",\"MCMV-TERT\",\"interfering RNA expressing \n",
       "bacteries\",\"auxin\",\"heat shock\",\"heat \n",
       "pulse\",\"Ex8|Pcdc-48.1::cdc-48.1]\",\"tetracycline\",\"EUK-008\",\"EUK-134\",\"interfering RNA expressing bacteries \n",
       "1:1000\",\"interfering RNA expressing bacteries 1:50\",\"interfering RNA expressing bacteries \n",
       "1:10\",\"DL-beta-hydroxybutyrate\",\"DL-beta-hydroxybutyrate + sodium butirate\",\"lentiviruses, expressing \n",
       "DN-IkB-a\",\"rapamycin\",\"AP20187\",\"quinic acid\",\"Cdc42 activity-specific inhibitor\",\"Rosizlitazone\",\"lentiviruses \n",
       "expressing constitutively active IKK-betta\",\"Ex008|SKN-1 S393A::GFP]\",\"captopril\",\"Recombinant mouse serum albumin \n",
       "rMSA\",\"doxycycline\",\"Ethanol\",\"interferring RNA\",\"MCMV-FST\"]},\"gene_criteria\":{\"criteria\":|\"Age-related changes in \n",
       "gene expression, methylation or protein activity\",\"Age-related changes in gene expression, methylation or protein \n",
       "activity in humans\",\"Association of genetic variants and gene expression levels with longevity\",\"Regulation of \n",
       "genes associated with aging\",\"Changes in gene activity extend non-mammalian lifespan\",\"Changes in gene activity \n",
       "protect against age-related impairment\",\"Age-related changes in gene expression, methylation or protein activity in\n",
       "non-mammals\",\"Changes in gene activity extend mammalian lifespan\",\"Changes in gene activity reduce mammalian \n",
       "lifespan\",\"Changes in gene activity enhance age-related deterioration\",\"Changes in gene activity reduce \n",
       "non-mammalian lifespan\",\"Association of the gene with accelerated aging in \n",
       "humans\"]},\"gene_hallmarks\":{\"hallmarks_of_aging_note\":\"This is a multi-value field containing comma-separated \n",
       "values. Always use LIKE queries with wildcards.\",\"available_hallmarks\":|\"nuclear DNA instability\",\"telomere \n",
       "attrition\",\"alterations in histone modifications\",\"chromatin remodeling\",\"transcriptional alterations\",\"alterations\n",
       "in DNA methylation\",\"degradation of proteolytic systems\",\"TOR pathway dysregulation\",\"INS/IGF-1 pathway \n",
       "dysregulation\",\"AMPK pathway dysregulation\",\"SIRT pathway dysregulation\",\"impairment of the mitochondrial integrity\n",
       "and biogenesis\",\"mitochondrial DNA instability\",\"accumulation of reactive oxygen species\",\"senescent cells \n",
       "accumulation\",\"stem cell exhaustion\",\"sterile inflammation\",\"intercellular communication impairment\",\"changes in \n",
       "the extracellular matrix structure\",\"impairment of proteins folding and stability\",\"nuclear architecture \n",
       "impairment\",\"disabled \n",
       "macroautophagy\"]},\"longevity_associations\":{\"polymorphism_type\":|\"SNP\",\"In/Del\",\"n/a\",\"haplotype\",\"VNTR\",\"PCR-RFLP\"\n",
       "],\"ethnicity\":|\"Caucasian, American\",\"European\",\"Greek\",\"Ashkenazi \n",
       "Jewish\",\"Polish\",\"Chinese\",\"Caucasian\",\"Italian\",\"Japanese\",\"Danish\",\"Spanish\",\"German\",\"European, East Asian, \n",
       "African American\",\"n/a\",\"Chinese, Han\",\"Italian, Southern\",\"German, American\",\"Caucasian, African-American\",\"East \n",
       "Asian, Europeans, Caucasian American\",\"Japanese American\",\"Italian, \n",
       "Calabrian\",\"Korean\",\"Belarusian\",\"mixed\",\"Caucasian, Ashkenazi Jewish\",\"Dutch\",\"Amish\",\"French\",\"Ashkenazi Jewish, \n",
       "Amish, Caucasian\",\"Japanese, Okinawan\",\"North-eastern Italian\",\"Tatars\",\"American, Caucasians; Italian, Southern; \n",
       "French; Ashkenazi Jewish\",\"Chinese, Bama Yao, Guangxi Province\",\"Swiss\",\"German, Danes, French\",\"American, \n",
       "Caucasian\",\"Italian, Central\",\"Finnish\"],\"study type\":|\"GWAS\",\"iGWAS\",\"candidate genes study\",\"gene-based \n",
       "association approach\",\"family study\",\"single-variant association approach\",\"meta-analysis of GWAS, replication of \n",
       "previous findings\",\"meta-analysis of GWAS\",\"GWAS, discovery + replication\",\"GWAS, replication\",\"meta-analysis of \n",
       "GWAS, replication\",\"n/a\",\"meta-analysis of candidate gene studies\",\"immunochip, discovery + \n",
       "replication\",\"immunochip\"],\"sex\":|\"all\",\"male\",\"not \n",
       "specified\",\"female\"]},\"biological_processes_for_intervention_effects\":{\"note\":\"These tags are used in \n",
       "intervention_deteriorates and intervention_improves columns (multi-value fields)\",\"processes\":|\"cardiovascular \n",
       "system\",\"nervous system\",\"immune function\",\"muscle, bone, skin, liver\",\"renal function, reproductive \n",
       "function\",\"cognitive function, eyesight, hair/coat\",\"body composition\",\"glucose metabolism, lipid metabolism, \n",
       "cholesterol metabolism\",\"insulin sensitivity\",\"oxidation/antioxidant function, mitochondrial function\",\"DNA \n",
       "metabolism, carcinogenesis, apoptosis\",\"senescence, inflammation, stress responce\",\"autophagy, proliferation, \n",
       "locomotor function\",\"tissue regeneration, stem and progenitor cells\",\"blood, proteostasis, angiogenesis, \n",
       "metabolism\",\"endocrine system, intercellular matrix\",\"building and protection of telomeres\",\"cytoskeleton \n",
       "organization, nucleus structure\",\"skin and the intestine epithelial barriers function\",\"calcium homeostasis, \n",
       "proteolysis\"]}},\"biological_processes_tags\":|\"cardiovascular system\",\"nervous system\",\"immune function\",\"muscle, \n",
       "bone, skin, liver\",\"renal function, reproductive function\",\"cognitive function, eyesight, hair/coat\",\"body \n",
       "composition\",\"glucose metabolism, lipid metabolism, cholesterol metabolism\",\"insulin \n",
       "sensitivity\",\"oxidation/antioxidant function, mitochondrial function\",\"DNA metabolism, carcinogenesis, \n",
       "apoptosis\",\"senescence, inflammation, stress responce\",\"autophagy, proliferation, locomotor function\",\"tissue \n",
       "regeneration, stem and progenitor cells\",\"blood, proteostasis, angiogenesis, metabolism\",\"endocrine system, \n",
       "intercellular matrix\",\"building and protection of telomeres\",\"cytoskeleton organization, nucleus structure\",\"skin \n",
       "and the intestine epithelial barriers function\",\"calcium homeostasis, \n",
       "proteolysis\"],\"aging_hallmarks_tags\":|\"nuclear DNA instability\",\"telomere attrition\",\"alterations in histone \n",
       "modifications\",\"chromatin remodeling\",\"transcriptional alterations\",\"alterations in DNA methylation\",\"degradation \n",
       "of proteolytic systems\",\"TOR pathway dysregulation\",\"INS/IGF-1 pathway dysregulation\",\"AMPK pathway \n",
       "dysregulation\",\"SIRT pathway dysregulation\",\"impairment of the mitochondrial integrity and \n",
       "biogenesis\",\"mitochondrial DNA instability\",\"accumulation of reactive oxygen species\",\"senescent cells \n",
       "accumulation\",\"stem cell exhaustion\",\"sterile inflammation\",\"intercellular communication impairment\",\"changes in \n",
       "the extracellular matrix structure\",\"impairment of proteins folding and stability\",\"nuclear architecture \n",
       "impairment\",\"disabled macroautophagy\"]}\n",
       "</pre>\n"
      ],
      "text/plain": [
       "Observations: {\"database_overview\":{\"description\":\"OpenGenes database contains aging and lifespan research data \n",
       "with 4 main tables linked by HGNC gene symbols\",\"total_tables\":4,\"primary_key\":\"HGNC (gene symbol) - links all \n",
       "tables together\"},\"critical_query_guidelines\":{\"multi_value_fields\":{\"description\":\"Some columns contain \n",
       "comma-separated values. ALWAYS use LIKE queries with wildcards for these \n",
       "fields.\",\"fields\":|\"gene_hallmarks.'hallmarks of aging' - contains multiple aging hallmarks per \n",
       "gene\",\"lifespan_change.intervention_deteriorates - multiple biological processes that \n",
       "deteriorate\",\"lifespan_change.intervention_improves - multiple biological processes that \n",
       "improve\"],\"example_syntax\":\"WHERE \\\"hallmarks of aging\\\" LIKE '%stem cell \n",
       "exhaustion%'\"},\"lifespan_metrics\":{\"description\":\"Database contains both mean and maximum lifespan change metrics. \n",
       "When user asks about lifespan effects without specifying, show both.\",\"mean_vs_max\":\"lifespan_percent_change_mean \n",
       "shows average effect, lifespan_percent_change_max shows maximum observed effect\",\"when_to_show_both\":\"If user asks \n",
       "about 'lifespan effects' or 'lifespan changes' without specifying mean vs max, include both \n",
       "metrics\",\"ordering_both\":\"Use COALESCE(lifespan_percent_change_mean, lifespan_percent_change_max) for ordering when\n",
       "showing both\",\"significance\":\"Both mean and max have corresponding significance columns (significance_mean, \n",
       "significance_max)\"},\"result_ordering\":{\"lifespan_extension\":\"ORDER BY lifespan_percent_change_mean DESC (highest \n",
       "increase first)\",\"lifespan_reduction\":\"ORDER BY lifespan_percent_change_mean ASC (largest decrease \n",
       "first)\",\"importance\":\"Always order lifespan results by magnitude of effect for relevance\",\"both_metrics\":\"When \n",
       "showing both mean and max, use COALESCE for ordering or show \n",
       "comparison\"},\"comprehensive_aging_evidence\":{\"description\":\"For questions about aging evidence, link to aging, or \n",
       "longevity associations for a gene, query ALL 4 tables for complete evidence\",\"required_tables\":\"1) gene_criteria \n",
       "(aging-related criteria), 2) gene_hallmarks (aging pathways), 3) lifespan_change (experimental effects), 4) \n",
       "longevity_associations (human population studies)\",\"example_patterns\":\"Evidence of X and aging, Link between X and \n",
       "aging, X gene aging associations, What evidence links X to aging\",\"critical_note\":\"Do NOT omit \n",
       "longevity_associations table - it contains crucial human population genetics data\"},\"gene_queries\":\"Use HGNC column\n",
       "for gene symbols (TP53, FOXO3, etc.)\",\"safety\":\"Only SELECT queries allowed - no INSERT, UPDATE, DELETE, or DDL \n",
       "operations\"},\"tables\":{\"lifespan_change\":{\"description\":{\"purpose\":\"Experimental data on how gene modifications \n",
       "affect lifespan in various model organisms\",\"key_columns\":\"HGNC, model_organism, effect_on_lifespan, intervention \n",
       "methods, lifespan measurements\",\"use_cases\":\"Questions about gene effects on lifespan, experimental conditions, \n",
       "organism studies\",\"special_notes\":\"Contains multi-value fields for intervention effects. Use LIKE queries for \n",
       "intervention_deteriorates and intervention_improves \n",
       "columns.\"},\"columns\":|{\"name\":\"HGNC\",\"type\":\"TEXT\",\"nullable\":true,\"primary_key\":false,\"description\":\"Gene symbol \n",
       "(standard gene names like TP53, \n",
       "FOXO3)\"},{\"name\":\"model_organism\",\"type\":\"TEXT\",\"nullable\":true,\"primary_key\":false,\"description\":\"Organism used \n",
       "for experiment (mouse, C. elegans, fly, \n",
       "etc.)\"},{\"name\":\"sex\",\"type\":\"TEXT\",\"nullable\":true,\"primary_key\":false,\"description\":\"Sex of organism used (male, \n",
       "female, all, hermaphrodites, \n",
       "etc.)\"},{\"name\":\"line\",\"type\":\"TEXT\",\"nullable\":true,\"primary_key\":false,\"description\":\"\"},{\"name\":\"effect_on_lifes\n",
       "pan\",\"type\":\"TEXT\",\"nullable\":true,\"primary_key\":false,\"description\":\"Direction of lifespan change \n",
       "(increases/decreases/no \n",
       "change)\"},{\"name\":\"control_cohort_size\",\"type\":\"REAL\",\"nullable\":true,\"primary_key\":false,\"description\":\"\"},{\"name\"\n",
       ":\"experiment_cohort_size\",\"type\":\"REAL\",\"nullable\":true,\"primary_key\":false,\"description\":\"\"},{\"name\":\"quantity_of_\n",
       "animals_in_cage_or_container\",\"type\":\"REAL\",\"nullable\":true,\"primary_key\":false,\"description\":\"\"},{\"name\":\"containm\n",
       "ent_t_celsius_from\",\"type\":\"REAL\",\"nullable\":true,\"primary_key\":false,\"description\":\"\"},{\"name\":\"containment_t_cels\n",
       "ius_to\",\"type\":\"TEXT\",\"nullable\":true,\"primary_key\":false,\"description\":\"\"},{\"name\":\"diet\",\"type\":\"TEXT\",\"nullable\"\n",
       ":true,\"primary_key\":false,\"description\":\"\"},{\"name\":\"target_gene_expression_change\",\"type\":\"REAL\",\"nullable\":true,\"\n",
       "primary_key\":false,\"description\":\"\"},{\"name\":\"control_lifespan_min\",\"type\":\"REAL\",\"nullable\":true,\"primary_key\":fal\n",
       "se,\"description\":\"\"},{\"name\":\"control_lifespan_mean\",\"type\":\"REAL\",\"nullable\":true,\"primary_key\":false,\"description\n",
       "\":\"Mean lifespan of control \n",
       "group\"},{\"name\":\"control_lifespan_median\",\"type\":\"REAL\",\"nullable\":true,\"primary_key\":false,\"description\":\"\"},{\"nam\n",
       "e\":\"control_lifespan_max\",\"type\":\"REAL\",\"nullable\":true,\"primary_key\":false,\"description\":\"\"},{\"name\":\"experiment_l\n",
       "ifespan_min\",\"type\":\"REAL\",\"nullable\":true,\"primary_key\":false,\"description\":\"\"},{\"name\":\"experiment_lifespan_mean\"\n",
       ",\"type\":\"REAL\",\"nullable\":true,\"primary_key\":false,\"description\":\"Mean lifespan of experimental \n",
       "group\"},{\"name\":\"experiment_lifespan_median\",\"type\":\"REAL\",\"nullable\":true,\"primary_key\":false,\"description\":\"\"},{\"\n",
       "name\":\"experiment_lifespan_max\",\"type\":\"REAL\",\"nullable\":true,\"primary_key\":false,\"description\":\"\"},{\"name\":\"lifesp\n",
       "an_time_unit\",\"type\":\"TEXT\",\"nullable\":true,\"primary_key\":false,\"description\":\"\"},{\"name\":\"lifespan_percent_change_\n",
       "min\",\"type\":\"REAL\",\"nullable\":true,\"primary_key\":false,\"description\":\"\"},{\"name\":\"significance_min\",\"type\":\"INTEGER\n",
       "\",\"nullable\":true,\"primary_key\":false,\"description\":\"\"},{\"name\":\"lifespan_percent_change_mean\",\"type\":\"REAL\",\"nulla\n",
       "ble\":true,\"primary_key\":false,\"description\":\"Mean percent change in lifespan (average effect across cohort - use \n",
       "for ordering \n",
       "results)\"},{\"name\":\"significance_mean\",\"type\":\"INTEGER\",\"nullable\":true,\"primary_key\":false,\"description\":\"Statisti\n",
       "cal significance of mean lifespan change (1=significant, 0=not \n",
       "significant)\"},{\"name\":\"lifespan_percent_change_median\",\"type\":\"REAL\",\"nullable\":true,\"primary_key\":false,\"descript\n",
       "ion\":\"Median percent change in \n",
       "lifespan\"},{\"name\":\"significance_median\",\"type\":\"INTEGER\",\"nullable\":true,\"primary_key\":false,\"description\":\"\"},{\"n\n",
       "ame\":\"lifespan_percent_change_max\",\"type\":\"REAL\",\"nullable\":true,\"primary_key\":false,\"description\":\"Maximum percent\n",
       "change in lifespan (best individual response - show both mean and max when user asks about lifespan \n",
       "effects)\"},{\"name\":\"significance_max\",\"type\":\"INTEGER\",\"nullable\":true,\"primary_key\":false,\"description\":\"Statistic\n",
       "al significance of maximum lifespan change (1=significant, 0=not \n",
       "significant)\"},{\"name\":\"intervention_deteriorates\",\"type\":\"TEXT\",\"nullable\":true,\"primary_key\":false,\"description\":\n",
       "\"MULTI-VALUE: Biological processes that deteriorated (use LIKE \n",
       "queries)\"},{\"name\":\"intervention_improves\",\"type\":\"TEXT\",\"nullable\":true,\"primary_key\":false,\"description\":\"MULTI-V\n",
       "ALUE: Biological processes that improved (use LIKE \n",
       "queries)\"},{\"name\":\"main_effect_on_lifespan\",\"type\":\"TEXT\",\"nullable\":true,\"primary_key\":false,\"description\":\"Type \n",
       "of gene activity change (gain/loss/switch of \n",
       "function)\"},{\"name\":\"intervention_way\",\"type\":\"TEXT\",\"nullable\":true,\"primary_key\":false,\"description\":\"\"},{\"name\":\n",
       "\"intervention_method\",\"type\":\"TEXT\",\"nullable\":true,\"primary_key\":false,\"description\":\"Method used to modify gene \n",
       "(knockout, overexpression, \n",
       "etc.)\"},{\"name\":\"genotype\",\"type\":\"TEXT\",\"nullable\":true,\"primary_key\":false,\"description\":\"\"},{\"name\":\"tissue\",\"ty\n",
       "pe\":\"TEXT\",\"nullable\":true,\"primary_key\":false,\"description\":\"\"},{\"name\":\"tissue_specific_promoter\",\"type\":\"TEXT\",\"\n",
       "nullable\":true,\"primary_key\":false,\"description\":\"\"},{\"name\":\"induction_by_drug_withdrawal\",\"type\":\"INTEGER\",\"nulla\n",
       "ble\":true,\"primary_key\":false,\"description\":\"\"},{\"name\":\"drug\",\"type\":\"TEXT\",\"nullable\":true,\"primary_key\":false,\"d\n",
       "escription\":\"\"},{\"name\":\"treatment_start\",\"type\":\"TEXT\",\"nullable\":true,\"primary_key\":false,\"description\":\"\"},{\"nam\n",
       "e\":\"treatment_end\",\"type\":\"TEXT\",\"nullable\":true,\"primary_key\":false,\"description\":\"\"},{\"name\":\"doi\",\"type\":\"TEXT\",\n",
       "\"nullable\":true,\"primary_key\":false,\"description\":\"\"},{\"name\":\"pmid\",\"type\":\"REAL\",\"nullable\":true,\"primary_key\":fa\n",
       "lse,\"description\":\"\"}]},\"gene_criteria\":{\"description\":{\"purpose\":\"Aging-related criteria that genes meet (12 \n",
       "different categories)\",\"key_columns\":\"HGNC, criteria\",\"use_cases\":\"Questions about why genes are considered \n",
       "aging-related\",\"special_notes\":\"Links genes to specific aging research criteria \n",
       "classifications\"},\"columns\":|{\"name\":\"HGNC\",\"type\":\"TEXT\",\"nullable\":true,\"primary_key\":false,\"description\":\"Gene \n",
       "symbol (standard gene names like TP53, \n",
       "FOXO3)\"},{\"name\":\"criteria\",\"type\":\"TEXT\",\"nullable\":true,\"primary_key\":false,\"description\":\"Aging-related criteria\n",
       "the gene meets (12 different categories)\"}]},\"gene_hallmarks\":{\"description\":{\"purpose\":\"Links genes to hallmarks \n",
       "of aging\",\"key_columns\":\"HGNC, hallmarks of aging (multi-value field)\",\"use_cases\":\"Questions about which aging \n",
       "hallmarks genes are involved in\",\"special_notes\":\"CRITICAL: 'hallmarks of aging' column contains comma-separated \n",
       "values. Always use LIKE queries with \n",
       "wildcards.\"},\"columns\":|{\"name\":\"HGNC\",\"type\":\"TEXT\",\"nullable\":true,\"primary_key\":false,\"description\":\"Gene symbol\n",
       "(standard gene names like TP53, FOXO3)\"},{\"name\":\"hallmarks of \n",
       "aging\",\"type\":\"TEXT\",\"nullable\":true,\"primary_key\":false,\"description\":\"MULTI-VALUE: Comma-separated aging \n",
       "hallmarks (ALWAYS use LIKE queries with \n",
       "wildcards)\"}]},\"longevity_associations\":{\"description\":{\"purpose\":\"Population genetics data on gene variants \n",
       "associated with longevity\",\"key_columns\":\"HGNC, polymorphism data, ethnicity, study type\",\"use_cases\":\"Questions \n",
       "about genetic variants associated with longevity in human populations\",\"special_notes\":\"Contains SNPs, indels, and \n",
       "other genetic variations from population \n",
       "studies\"},\"columns\":|{\"name\":\"HGNC\",\"type\":\"TEXT\",\"nullable\":true,\"primary_key\":false,\"description\":\"Gene symbol \n",
       "(standard gene names like TP53, FOXO3)\"},{\"name\":\"polymorphism \n",
       "type\",\"type\":\"TEXT\",\"nullable\":true,\"primary_key\":false,\"description\":\"Type of genetic variant (SNP, In/Del, VNTR, \n",
       "etc.)\"},{\"name\":\"polymorphism id\",\"type\":\"TEXT\",\"nullable\":true,\"primary_key\":false,\"description\":\"Identifier for \n",
       "the genetic variant (e.g., rs numbers for SNPs)\"},{\"name\":\"nucleotide \n",
       "substitution\",\"type\":\"TEXT\",\"nullable\":true,\"primary_key\":false,\"description\":\"DNA sequence change for the \n",
       "variant\"},{\"name\":\"amino acid \n",
       "substitution\",\"type\":\"TEXT\",\"nullable\":true,\"primary_key\":false,\"description\":\"Protein sequence change caused by \n",
       "the variant\"},{\"name\":\"polymorphism — \n",
       "other\",\"type\":\"TEXT\",\"nullable\":true,\"primary_key\":false,\"description\":\"Additional polymorphism \n",
       "details\"},{\"name\":\"ethnicity\",\"type\":\"TEXT\",\"nullable\":true,\"primary_key\":false,\"description\":\"Ethnicity of study \n",
       "participants\"},{\"name\":\"study type\",\"type\":\"TEXT\",\"nullable\":true,\"primary_key\":false,\"description\":\"Type of \n",
       "population study (GWAS, candidate genes, meta-analysis, \n",
       "etc.)\"},{\"name\":\"sex\",\"type\":\"TEXT\",\"nullable\":true,\"primary_key\":false,\"description\":\"Sex of study \n",
       "participants\"},{\"name\":\"doi\",\"type\":\"TEXT\",\"nullable\":true,\"primary_key\":false,\"description\":\"DOI of the research \n",
       "publication\"},{\"name\":\"pmid\",\"type\":\"TEXT\",\"nullable\":true,\"primary_key\":false,\"description\":\"PubMed ID of the \n",
       "research publication\"}]}},\"enumerations\":{\"lifespan_change\":{\"model_organism\":|\"mouse\",\"roundworm Caenorhabditis \n",
       "elegans\",\"fly Drosophila melanogaster\",\"rabbit\",\"rat\",\"acyrthosiphon pisum\",\"yeasts\",\"fish Nothobranchius \n",
       "furzeri\",\"fungus Podospora anserina\",\"hamster\",\"zebrafish\",\"fish Nothobranchius \n",
       "guentheri\"],\"sex\":|\"male\",\"female\",\"all\",\"hermaphrodites\",\"not specified\",\"None\"],\"effect_on_lifespan\":|\"increases \n",
       "lifespan\",\"no change\",\"decreases lifespan\",\"increases lifespan in animals with decreased lifespans\",\"decreases \n",
       "survival under stress conditions\",\"improves survival under stress conditions\",\"decreases life span in animals with \n",
       "increased lifespans\",\"no change under stress conditions\"],\"main_effect_on_lifespan\":|\"loss of function\",\"switch of \n",
       "function\",\"gain of function\"],\"intervention_way\":|\"changes in genome level\",\"combined (inducible \n",
       "mutation)\",\"interventions by selective drug/RNAi\"],\"intervention_method\":|\"gene knockout\",\"gene modification to \n",
       "affect product activity/stability\",\"gene modification\",\"additional copies of a gene in the genome\",\"addition to the\n",
       "genome of a dominant-negative gene variant that reduces the activity of an endogenous protein\",\"treatment with \n",
       "vector with additional gene copies\",\"gene modification to reduce protein activity/stability\",\"interfering RNA \n",
       "transgene\",\"RNA interferention\",\"gene modification to increase protein activity/stability\",\"introduction into the \n",
       "genome of a construct under the control of a gene promoter, which causes death or a decrease in the viability of \n",
       "cells expressing the gene\",\"knockout of gene isoform\",\"tissue-specific gene knockout\",\"reduced expression of one of\n",
       "the isoforms in transgenic animals\",\"gene modification to reduce gene expression\",\"treatment with gene product \n",
       "inducer\",\"None\",\"tissue-specific gene overexpression\",\"additional copies of a gene in transgenic \n",
       "animals\",\"treatment with a gene product inhibitor\",\"treatment with protein\",\"gene modification to increase gene \n",
       "expression\",\"removal of cells expressing the gene\",\"splicing modification\"],\"diet\":|\"standard chow\",\"None\",\"Purina \n",
       "Lab Diet 5001, ad libitum\",\"Purina Lab Diet 5001, from birth to 12 weeks ad. lib., then 40% from ad. lib.\",\"Teklad \n",
       "LM485 Diet, ad libitum\",\"Teklad 2018S Diet, ad libitum\",\"E. coli OP50, NGM\",\"96W chow ad.lib.\",\"calorie-restricted \n",
       "diet\",\"2% yeast, 10% sucrose, 5% cornmeal\",\"2% yeasts, 10% sucrose, 5% cornmeal\",\"high-calorie food, 15% dextrose, \n",
       "15% yeast, 2% agar\",\"low-calorie food, 5% dextrose, 5% yeast, 2% agar\",\"ad libitum\",\"agar, corn meal, yeast and \n",
       "molasses\",\"E. coli HT115 L4440, NGM\"],\"tissue\":|\"None\",\"muscle\",\"neurons\",\"fat body\",\"dopaminergic \n",
       "neurons\",\"glia\",\"brain\",\"corpora cardiaca\",\"insulin-producing cells\",\"central nervous \n",
       "system\",\"intestine\",\"liver\",\"heart\",\"myeloid cells\",\"intestinal stem cells and enteroblasts\",\"adipose \n",
       "tissue\",\"melanocytes,Trp2 expressing neurons\",\"cardiomyocytes\",\"hepatocytes\",\"heart,skeletal \n",
       "muscles\",\"heart,brain,skeletal muscles\",\"skin\",\"eye\",\"connective tissue\",\"cholinergic \n",
       "neurons\",\"kidney,brain\",\"kidney,heart,brain\",\"neurolemma\",\"hypodermis\",\"mediobasal hypothalamus\",\"motor \n",
       "neurons\",\"median neurosecretory cells\",\"hypocretin expressing neurons in the hypothalamus\",\"body wall \n",
       "muscles\",\"pharynx\",\"digestive tract\",\"abdominal fat and the digestive tract\",\"skeletal muscles\",\"white adipose \n",
       "tissue\"],\"drug\":|\"None\",\"tamoxifen\",\"mifepristone RU486\",\"AAV9-mTERT\",\"MCMV-TERT\",\"interfering RNA expressing \n",
       "bacteries\",\"auxin\",\"heat shock\",\"heat \n",
       "pulse\",\"Ex8|Pcdc-48.1::cdc-48.1]\",\"tetracycline\",\"EUK-008\",\"EUK-134\",\"interfering RNA expressing bacteries \n",
       "1:1000\",\"interfering RNA expressing bacteries 1:50\",\"interfering RNA expressing bacteries \n",
       "1:10\",\"DL-beta-hydroxybutyrate\",\"DL-beta-hydroxybutyrate + sodium butirate\",\"lentiviruses, expressing \n",
       "DN-IkB-a\",\"rapamycin\",\"AP20187\",\"quinic acid\",\"Cdc42 activity-specific inhibitor\",\"Rosizlitazone\",\"lentiviruses \n",
       "expressing constitutively active IKK-betta\",\"Ex008|SKN-1 S393A::GFP]\",\"captopril\",\"Recombinant mouse serum albumin \n",
       "rMSA\",\"doxycycline\",\"Ethanol\",\"interferring RNA\",\"MCMV-FST\"]},\"gene_criteria\":{\"criteria\":|\"Age-related changes in \n",
       "gene expression, methylation or protein activity\",\"Age-related changes in gene expression, methylation or protein \n",
       "activity in humans\",\"Association of genetic variants and gene expression levels with longevity\",\"Regulation of \n",
       "genes associated with aging\",\"Changes in gene activity extend non-mammalian lifespan\",\"Changes in gene activity \n",
       "protect against age-related impairment\",\"Age-related changes in gene expression, methylation or protein activity in\n",
       "non-mammals\",\"Changes in gene activity extend mammalian lifespan\",\"Changes in gene activity reduce mammalian \n",
       "lifespan\",\"Changes in gene activity enhance age-related deterioration\",\"Changes in gene activity reduce \n",
       "non-mammalian lifespan\",\"Association of the gene with accelerated aging in \n",
       "humans\"]},\"gene_hallmarks\":{\"hallmarks_of_aging_note\":\"This is a multi-value field containing comma-separated \n",
       "values. Always use LIKE queries with wildcards.\",\"available_hallmarks\":|\"nuclear DNA instability\",\"telomere \n",
       "attrition\",\"alterations in histone modifications\",\"chromatin remodeling\",\"transcriptional alterations\",\"alterations\n",
       "in DNA methylation\",\"degradation of proteolytic systems\",\"TOR pathway dysregulation\",\"INS/IGF-1 pathway \n",
       "dysregulation\",\"AMPK pathway dysregulation\",\"SIRT pathway dysregulation\",\"impairment of the mitochondrial integrity\n",
       "and biogenesis\",\"mitochondrial DNA instability\",\"accumulation of reactive oxygen species\",\"senescent cells \n",
       "accumulation\",\"stem cell exhaustion\",\"sterile inflammation\",\"intercellular communication impairment\",\"changes in \n",
       "the extracellular matrix structure\",\"impairment of proteins folding and stability\",\"nuclear architecture \n",
       "impairment\",\"disabled \n",
       "macroautophagy\"]},\"longevity_associations\":{\"polymorphism_type\":|\"SNP\",\"In/Del\",\"n/a\",\"haplotype\",\"VNTR\",\"PCR-RFLP\"\n",
       "],\"ethnicity\":|\"Caucasian, American\",\"European\",\"Greek\",\"Ashkenazi \n",
       "Jewish\",\"Polish\",\"Chinese\",\"Caucasian\",\"Italian\",\"Japanese\",\"Danish\",\"Spanish\",\"German\",\"European, East Asian, \n",
       "African American\",\"n/a\",\"Chinese, Han\",\"Italian, Southern\",\"German, American\",\"Caucasian, African-American\",\"East \n",
       "Asian, Europeans, Caucasian American\",\"Japanese American\",\"Italian, \n",
       "Calabrian\",\"Korean\",\"Belarusian\",\"mixed\",\"Caucasian, Ashkenazi Jewish\",\"Dutch\",\"Amish\",\"French\",\"Ashkenazi Jewish, \n",
       "Amish, Caucasian\",\"Japanese, Okinawan\",\"North-eastern Italian\",\"Tatars\",\"American, Caucasians; Italian, Southern; \n",
       "French; Ashkenazi Jewish\",\"Chinese, Bama Yao, Guangxi Province\",\"Swiss\",\"German, Danes, French\",\"American, \n",
       "Caucasian\",\"Italian, Central\",\"Finnish\"],\"study type\":|\"GWAS\",\"iGWAS\",\"candidate genes study\",\"gene-based \n",
       "association approach\",\"family study\",\"single-variant association approach\",\"meta-analysis of GWAS, replication of \n",
       "previous findings\",\"meta-analysis of GWAS\",\"GWAS, discovery + replication\",\"GWAS, replication\",\"meta-analysis of \n",
       "GWAS, replication\",\"n/a\",\"meta-analysis of candidate gene studies\",\"immunochip, discovery + \n",
       "replication\",\"immunochip\"],\"sex\":|\"all\",\"male\",\"not \n",
       "specified\",\"female\"]},\"biological_processes_for_intervention_effects\":{\"note\":\"These tags are used in \n",
       "intervention_deteriorates and intervention_improves columns (multi-value fields)\",\"processes\":|\"cardiovascular \n",
       "system\",\"nervous system\",\"immune function\",\"muscle, bone, skin, liver\",\"renal function, reproductive \n",
       "function\",\"cognitive function, eyesight, hair/coat\",\"body composition\",\"glucose metabolism, lipid metabolism, \n",
       "cholesterol metabolism\",\"insulin sensitivity\",\"oxidation/antioxidant function, mitochondrial function\",\"DNA \n",
       "metabolism, carcinogenesis, apoptosis\",\"senescence, inflammation, stress responce\",\"autophagy, proliferation, \n",
       "locomotor function\",\"tissue regeneration, stem and progenitor cells\",\"blood, proteostasis, angiogenesis, \n",
       "metabolism\",\"endocrine system, intercellular matrix\",\"building and protection of telomeres\",\"cytoskeleton \n",
       "organization, nucleus structure\",\"skin and the intestine epithelial barriers function\",\"calcium homeostasis, \n",
       "proteolysis\"]}},\"biological_processes_tags\":|\"cardiovascular system\",\"nervous system\",\"immune function\",\"muscle, \n",
       "bone, skin, liver\",\"renal function, reproductive function\",\"cognitive function, eyesight, hair/coat\",\"body \n",
       "composition\",\"glucose metabolism, lipid metabolism, cholesterol metabolism\",\"insulin \n",
       "sensitivity\",\"oxidation/antioxidant function, mitochondrial function\",\"DNA metabolism, carcinogenesis, \n",
       "apoptosis\",\"senescence, inflammation, stress responce\",\"autophagy, proliferation, locomotor function\",\"tissue \n",
       "regeneration, stem and progenitor cells\",\"blood, proteostasis, angiogenesis, metabolism\",\"endocrine system, \n",
       "intercellular matrix\",\"building and protection of telomeres\",\"cytoskeleton organization, nucleus structure\",\"skin \n",
       "and the intestine epithelial barriers function\",\"calcium homeostasis, \n",
       "proteolysis\"],\"aging_hallmarks_tags\":|\"nuclear DNA instability\",\"telomere attrition\",\"alterations in histone \n",
       "modifications\",\"chromatin remodeling\",\"transcriptional alterations\",\"alterations in DNA methylation\",\"degradation \n",
       "of proteolytic systems\",\"TOR pathway dysregulation\",\"INS/IGF-1 pathway dysregulation\",\"AMPK pathway \n",
       "dysregulation\",\"SIRT pathway dysregulation\",\"impairment of the mitochondrial integrity and \n",
       "biogenesis\",\"mitochondrial DNA instability\",\"accumulation of reactive oxygen species\",\"senescent cells \n",
       "accumulation\",\"stem cell exhaustion\",\"sterile inflammation\",\"intercellular communication impairment\",\"changes in \n",
       "the extracellular matrix structure\",\"impairment of proteins folding and stability\",\"nuclear architecture \n",
       "impairment\",\"disabled macroautophagy\"]}\n"
      ]
     },
     "metadata": {},
     "output_type": "display_data"
    },
    {
     "data": {
      "text/html": [
       "<pre style=\"white-space:pre;overflow-x:auto;line-height:normal;font-family:Menlo,'DejaVu Sans Mono',consolas,'Courier New',monospace\"><span style=\"color: #7f7f7f; text-decoration-color: #7f7f7f\">[Step 1: Duration 2.27 seconds| Input tokens: 9,467 | Output tokens: 34]</span>\n",
       "</pre>\n"
      ],
      "text/plain": [
       "\u001B[2m[Step 1: Duration 2.27 seconds| Input tokens: 9,467 | Output tokens: 34]\u001B[0m\n"
      ]
     },
     "metadata": {},
     "output_type": "display_data"
    },
    {
     "data": {
      "text/html": [
       "<pre style=\"white-space:pre;overflow-x:auto;line-height:normal;font-family:Menlo,'DejaVu Sans Mono',consolas,'Courier New',monospace\"><span style=\"color: #d4b702; text-decoration-color: #d4b702\">━━━━━━━━━━━━━━━━━━━━━━━━━━━━━━━━━━━━━━━━━━━━━━━━━━━━━ </span><span style=\"font-weight: bold\">Step 2</span><span style=\"color: #d4b702; text-decoration-color: #d4b702\"> ━━━━━━━━━━━━━━━━━━━━━━━━━━━━━━━━━━━━━━━━━━━━━━━━━━━━━━</span>\n",
       "</pre>\n"
      ],
      "text/plain": [
       "\u001B[38;2;212;183;2m━━━━━━━━━━━━━━━━━━━━━━━━━━━━━━━━━━━━━━━━━━━━━━━━━━━━━ \u001B[0m\u001B[1mStep 2\u001B[0m\u001B[38;2;212;183;2m ━━━━━━━━━━━━━━━━━━━━━━━━━━━━━━━━━━━━━━━━━━━━━━━━━━━━━━\u001B[0m\n"
      ]
     },
     "metadata": {},
     "output_type": "display_data"
    },
    {
     "data": {
      "text/html": [
       "<pre style=\"white-space:pre;overflow-x:auto;line-height:normal;font-family:Menlo,'DejaVu Sans Mono',consolas,'Courier New',monospace\">╭─────────────────────────────────────────────────────────────────────────────────────────────────────────────────╮\n",
       "│ Calling tool: 'opengenes_db_query' with arguments: {'sql': \"SELECT * FROM gene_criteria WHERE HGNC = 'NRF2'\"}   │\n",
       "╰─────────────────────────────────────────────────────────────────────────────────────────────────────────────────╯\n",
       "</pre>\n"
      ],
      "text/plain": [
       "╭─────────────────────────────────────────────────────────────────────────────────────────────────────────────────╮\n",
       "│ Calling tool: 'opengenes_db_query' with arguments: {'sql': \"SELECT * FROM gene_criteria WHERE HGNC = 'NRF2'\"}   │\n",
       "╰─────────────────────────────────────────────────────────────────────────────────────────────────────────────────╯\n"
      ]
     },
     "metadata": {},
     "output_type": "display_data"
    },
    {
     "data": {
      "text/html": [
       "<pre style=\"white-space:pre;overflow-x:auto;line-height:normal;font-family:Menlo,'DejaVu Sans Mono',consolas,'Courier New',monospace\">╭─────────────────────────────────────────────────────────────────────────────────────────────────────────────────╮\n",
       "│ Calling tool: 'opengenes_db_query' with arguments: {'sql': \"SELECT * FROM gene_hallmarks WHERE HGNC = 'NRF2'\"}  │\n",
       "╰─────────────────────────────────────────────────────────────────────────────────────────────────────────────────╯\n",
       "</pre>\n"
      ],
      "text/plain": [
       "╭─────────────────────────────────────────────────────────────────────────────────────────────────────────────────╮\n",
       "│ Calling tool: 'opengenes_db_query' with arguments: {'sql': \"SELECT * FROM gene_hallmarks WHERE HGNC = 'NRF2'\"}  │\n",
       "╰─────────────────────────────────────────────────────────────────────────────────────────────────────────────────╯\n"
      ]
     },
     "metadata": {},
     "output_type": "display_data"
    },
    {
     "data": {
      "text/html": [
       "<pre style=\"white-space:pre;overflow-x:auto;line-height:normal;font-family:Menlo,'DejaVu Sans Mono',consolas,'Courier New',monospace\">╭─────────────────────────────────────────────────────────────────────────────────────────────────────────────────╮\n",
       "│ Calling tool: 'opengenes_db_query' with arguments: {'sql': \"SELECT * FROM lifespan_change WHERE HGNC = 'NRF2'\"} │\n",
       "╰─────────────────────────────────────────────────────────────────────────────────────────────────────────────────╯\n",
       "</pre>\n"
      ],
      "text/plain": [
       "╭─────────────────────────────────────────────────────────────────────────────────────────────────────────────────╮\n",
       "│ Calling tool: 'opengenes_db_query' with arguments: {'sql': \"SELECT * FROM lifespan_change WHERE HGNC = 'NRF2'\"} │\n",
       "╰─────────────────────────────────────────────────────────────────────────────────────────────────────────────────╯\n"
      ]
     },
     "metadata": {},
     "output_type": "display_data"
    },
    {
     "data": {
      "text/html": [
       "<pre style=\"white-space:pre;overflow-x:auto;line-height:normal;font-family:Menlo,'DejaVu Sans Mono',consolas,'Courier New',monospace\">╭─────────────────────────────────────────────────────────────────────────────────────────────────────────────────╮\n",
       "│ Calling tool: 'opengenes_db_query' with arguments: {'sql': \"SELECT * FROM longevity_associations WHERE HGNC =   │\n",
       "│ 'NRF2'\"}                                                                                                        │\n",
       "╰─────────────────────────────────────────────────────────────────────────────────────────────────────────────────╯\n",
       "</pre>\n"
      ],
      "text/plain": [
       "╭─────────────────────────────────────────────────────────────────────────────────────────────────────────────────╮\n",
       "│ Calling tool: 'opengenes_db_query' with arguments: {'sql': \"SELECT * FROM longevity_associations WHERE HGNC =   │\n",
       "│ 'NRF2'\"}                                                                                                        │\n",
       "╰─────────────────────────────────────────────────────────────────────────────────────────────────────────────────╯\n"
      ]
     },
     "metadata": {},
     "output_type": "display_data"
    },
    {
     "data": {
      "text/html": [
       "<pre style=\"white-space:pre;overflow-x:auto;line-height:normal;font-family:Menlo,'DejaVu Sans Mono',consolas,'Courier New',monospace\">╭─────────────────────────────────────────────────────────────────────────────────────────────────────────────────╮\n",
       "│ Calling tool: 'opengenes_db_query' with arguments: {'sql': \"SELECT * FROM gene_criteria WHERE HGNC = 'NFE2L2'\"} │\n",
       "╰─────────────────────────────────────────────────────────────────────────────────────────────────────────────────╯\n",
       "</pre>\n"
      ],
      "text/plain": [
       "╭─────────────────────────────────────────────────────────────────────────────────────────────────────────────────╮\n",
       "│ Calling tool: 'opengenes_db_query' with arguments: {'sql': \"SELECT * FROM gene_criteria WHERE HGNC = 'NFE2L2'\"} │\n",
       "╰─────────────────────────────────────────────────────────────────────────────────────────────────────────────────╯\n"
      ]
     },
     "metadata": {},
     "output_type": "display_data"
    },
    {
     "data": {
      "text/html": [
       "<pre style=\"white-space:pre;overflow-x:auto;line-height:normal;font-family:Menlo,'DejaVu Sans Mono',consolas,'Courier New',monospace\">╭─────────────────────────────────────────────────────────────────────────────────────────────────────────────────╮\n",
       "│ Calling tool: 'opengenes_db_query' with arguments: {'sql': \"SELECT * FROM gene_hallmarks WHERE HGNC =           │\n",
       "│ 'NFE2L2'\"}                                                                                                      │\n",
       "╰─────────────────────────────────────────────────────────────────────────────────────────────────────────────────╯\n",
       "</pre>\n"
      ],
      "text/plain": [
       "╭─────────────────────────────────────────────────────────────────────────────────────────────────────────────────╮\n",
       "│ Calling tool: 'opengenes_db_query' with arguments: {'sql': \"SELECT * FROM gene_hallmarks WHERE HGNC =           │\n",
       "│ 'NFE2L2'\"}                                                                                                      │\n",
       "╰─────────────────────────────────────────────────────────────────────────────────────────────────────────────────╯\n"
      ]
     },
     "metadata": {},
     "output_type": "display_data"
    },
    {
     "data": {
      "text/html": [
       "<pre style=\"white-space:pre;overflow-x:auto;line-height:normal;font-family:Menlo,'DejaVu Sans Mono',consolas,'Courier New',monospace\">╭─────────────────────────────────────────────────────────────────────────────────────────────────────────────────╮\n",
       "│ Calling tool: 'opengenes_db_query' with arguments: {'sql': \"SELECT * FROM lifespan_change WHERE HGNC =          │\n",
       "│ 'NFE2L2'\"}                                                                                                      │\n",
       "╰─────────────────────────────────────────────────────────────────────────────────────────────────────────────────╯\n",
       "</pre>\n"
      ],
      "text/plain": [
       "╭─────────────────────────────────────────────────────────────────────────────────────────────────────────────────╮\n",
       "│ Calling tool: 'opengenes_db_query' with arguments: {'sql': \"SELECT * FROM lifespan_change WHERE HGNC =          │\n",
       "│ 'NFE2L2'\"}                                                                                                      │\n",
       "╰─────────────────────────────────────────────────────────────────────────────────────────────────────────────────╯\n"
      ]
     },
     "metadata": {},
     "output_type": "display_data"
    },
    {
     "data": {
      "text/html": [
       "<pre style=\"white-space:pre;overflow-x:auto;line-height:normal;font-family:Menlo,'DejaVu Sans Mono',consolas,'Courier New',monospace\">╭─────────────────────────────────────────────────────────────────────────────────────────────────────────────────╮\n",
       "│ Calling tool: 'opengenes_db_query' with arguments: {'sql': \"SELECT * FROM longevity_associations WHERE HGNC =   │\n",
       "│ 'NFE2L2'\"}                                                                                                      │\n",
       "╰─────────────────────────────────────────────────────────────────────────────────────────────────────────────────╯\n",
       "</pre>\n"
      ],
      "text/plain": [
       "╭─────────────────────────────────────────────────────────────────────────────────────────────────────────────────╮\n",
       "│ Calling tool: 'opengenes_db_query' with arguments: {'sql': \"SELECT * FROM longevity_associations WHERE HGNC =   │\n",
       "│ 'NFE2L2'\"}                                                                                                      │\n",
       "╰─────────────────────────────────────────────────────────────────────────────────────────────────────────────────╯\n"
      ]
     },
     "metadata": {},
     "output_type": "display_data"
    },
    {
     "data": {
      "text/html": [
       "<pre style=\"white-space:pre;overflow-x:auto;line-height:normal;font-family:Menlo,'DejaVu Sans Mono',consolas,'Courier New',monospace\">Observations: {\"rows\":|],\"count\":0,\"query\":\"SELECT * FROM gene_criteria WHERE HGNC = 'NRF2'\"}\n",
       "</pre>\n"
      ],
      "text/plain": [
       "Observations: {\"rows\":|],\"count\":0,\"query\":\"SELECT * FROM gene_criteria WHERE HGNC = 'NRF2'\"}\n"
      ]
     },
     "metadata": {},
     "output_type": "display_data"
    },
    {
     "data": {
      "text/html": [
       "<pre style=\"white-space:pre;overflow-x:auto;line-height:normal;font-family:Menlo,'DejaVu Sans Mono',consolas,'Courier New',monospace\">Observations: {\"rows\":|],\"count\":0,\"query\":\"SELECT * FROM gene_hallmarks WHERE HGNC = 'NRF2'\"}\n",
       "</pre>\n"
      ],
      "text/plain": [
       "Observations: {\"rows\":|],\"count\":0,\"query\":\"SELECT * FROM gene_hallmarks WHERE HGNC = 'NRF2'\"}\n"
      ]
     },
     "metadata": {},
     "output_type": "display_data"
    },
    {
     "data": {
      "text/html": [
       "<pre style=\"white-space:pre;overflow-x:auto;line-height:normal;font-family:Menlo,'DejaVu Sans Mono',consolas,'Courier New',monospace\">Observations: {\"rows\":|],\"count\":0,\"query\":\"SELECT * FROM lifespan_change WHERE HGNC = 'NRF2'\"}\n",
       "</pre>\n"
      ],
      "text/plain": [
       "Observations: {\"rows\":|],\"count\":0,\"query\":\"SELECT * FROM lifespan_change WHERE HGNC = 'NRF2'\"}\n"
      ]
     },
     "metadata": {},
     "output_type": "display_data"
    },
    {
     "data": {
      "text/html": [
       "<pre style=\"white-space:pre;overflow-x:auto;line-height:normal;font-family:Menlo,'DejaVu Sans Mono',consolas,'Courier New',monospace\">Observations: {\"rows\":|],\"count\":0,\"query\":\"SELECT * FROM longevity_associations WHERE HGNC = 'NFE2L2'\"}\n",
       "</pre>\n"
      ],
      "text/plain": [
       "Observations: {\"rows\":|],\"count\":0,\"query\":\"SELECT * FROM longevity_associations WHERE HGNC = 'NFE2L2'\"}\n"
      ]
     },
     "metadata": {},
     "output_type": "display_data"
    },
    {
     "data": {
      "text/html": [
       "<pre style=\"white-space:pre;overflow-x:auto;line-height:normal;font-family:Menlo,'DejaVu Sans Mono',consolas,'Courier New',monospace\">Observations: {\"rows\":|],\"count\":0,\"query\":\"SELECT * FROM lifespan_change WHERE HGNC = 'NFE2L2'\"}\n",
       "</pre>\n"
      ],
      "text/plain": [
       "Observations: {\"rows\":|],\"count\":0,\"query\":\"SELECT * FROM lifespan_change WHERE HGNC = 'NFE2L2'\"}\n"
      ]
     },
     "metadata": {},
     "output_type": "display_data"
    },
    {
     "data": {
      "text/html": [
       "<pre style=\"white-space:pre;overflow-x:auto;line-height:normal;font-family:Menlo,'DejaVu Sans Mono',consolas,'Courier New',monospace\">Observations: {\"rows\":|{\"HGNC\":\"NFE2L2\",\"hallmarks of aging\":\"'transcriptional alterations','degradation of \n",
       "proteolytic systems','accumulation of reactive oxygen species','sterile inflammation','intercellular communication \n",
       "impairment'\"}],\"count\":1,\"query\":\"SELECT * FROM gene_hallmarks WHERE HGNC = 'NFE2L2'\"}\n",
       "</pre>\n"
      ],
      "text/plain": [
       "Observations: {\"rows\":|{\"HGNC\":\"NFE2L2\",\"hallmarks of aging\":\"'transcriptional alterations','degradation of \n",
       "proteolytic systems','accumulation of reactive oxygen species','sterile inflammation','intercellular communication \n",
       "impairment'\"}],\"count\":1,\"query\":\"SELECT * FROM gene_hallmarks WHERE HGNC = 'NFE2L2'\"}\n"
      ]
     },
     "metadata": {},
     "output_type": "display_data"
    },
    {
     "data": {
      "text/html": [
       "<pre style=\"white-space:pre;overflow-x:auto;line-height:normal;font-family:Menlo,'DejaVu Sans Mono',consolas,'Courier New',monospace\">Observations: {\"rows\":|],\"count\":0,\"query\":\"SELECT * FROM longevity_associations WHERE HGNC = 'NRF2'\"}\n",
       "</pre>\n"
      ],
      "text/plain": [
       "Observations: {\"rows\":|],\"count\":0,\"query\":\"SELECT * FROM longevity_associations WHERE HGNC = 'NRF2'\"}\n"
      ]
     },
     "metadata": {},
     "output_type": "display_data"
    },
    {
     "data": {
      "text/html": [
       "<pre style=\"white-space:pre;overflow-x:auto;line-height:normal;font-family:Menlo,'DejaVu Sans Mono',consolas,'Courier New',monospace\">Observations: {\"rows\":|{\"HGNC\":\"NFE2L2\",\"criteria\":\"'Age-related changes in gene expression, methylation or protein\n",
       "activity'\"},{\"HGNC\":\"NFE2L2\",\"criteria\":\"'Regulation of genes associated with \n",
       "aging'\"},{\"HGNC\":\"NFE2L2\",\"criteria\":\"'Changes in gene activity protect against age-related \n",
       "impairment'\"},{\"HGNC\":\"NFE2L2\",\"criteria\":\"'Age-related changes in gene expression, methylation or protein activity\n",
       "in humans'\"}],\"count\":4,\"query\":\"SELECT * FROM gene_criteria WHERE HGNC = 'NFE2L2'\"}\n",
       "</pre>\n"
      ],
      "text/plain": [
       "Observations: {\"rows\":|{\"HGNC\":\"NFE2L2\",\"criteria\":\"'Age-related changes in gene expression, methylation or protein\n",
       "activity'\"},{\"HGNC\":\"NFE2L2\",\"criteria\":\"'Regulation of genes associated with \n",
       "aging'\"},{\"HGNC\":\"NFE2L2\",\"criteria\":\"'Changes in gene activity protect against age-related \n",
       "impairment'\"},{\"HGNC\":\"NFE2L2\",\"criteria\":\"'Age-related changes in gene expression, methylation or protein activity\n",
       "in humans'\"}],\"count\":4,\"query\":\"SELECT * FROM gene_criteria WHERE HGNC = 'NFE2L2'\"}\n"
      ]
     },
     "metadata": {},
     "output_type": "display_data"
    },
    {
     "data": {
      "text/html": [
       "<pre style=\"white-space:pre;overflow-x:auto;line-height:normal;font-family:Menlo,'DejaVu Sans Mono',consolas,'Courier New',monospace\"><span style=\"color: #7f7f7f; text-decoration-color: #7f7f7f\">[Step 2: Duration 7.30 seconds| Input tokens: 26,158 | Output tokens: 314]</span>\n",
       "</pre>\n"
      ],
      "text/plain": [
       "\u001B[2m[Step 2: Duration 7.30 seconds| Input tokens: 26,158 | Output tokens: 314]\u001B[0m\n"
      ]
     },
     "metadata": {},
     "output_type": "display_data"
    },
    {
     "data": {
      "text/html": [
       "<pre style=\"white-space:pre;overflow-x:auto;line-height:normal;font-family:Menlo,'DejaVu Sans Mono',consolas,'Courier New',monospace\"><span style=\"color: #d4b702; text-decoration-color: #d4b702\">━━━━━━━━━━━━━━━━━━━━━━━━━━━━━━━━━━━━━━━━━━━━━━━━━━━━━ </span><span style=\"font-weight: bold\">Step 3</span><span style=\"color: #d4b702; text-decoration-color: #d4b702\"> ━━━━━━━━━━━━━━━━━━━━━━━━━━━━━━━━━━━━━━━━━━━━━━━━━━━━━━</span>\n",
       "</pre>\n"
      ],
      "text/plain": [
       "\u001B[38;2;212;183;2m━━━━━━━━━━━━━━━━━━━━━━━━━━━━━━━━━━━━━━━━━━━━━━━━━━━━━ \u001B[0m\u001B[1mStep 3\u001B[0m\u001B[38;2;212;183;2m ━━━━━━━━━━━━━━━━━━━━━━━━━━━━━━━━━━━━━━━━━━━━━━━━━━━━━━\u001B[0m\n"
      ]
     },
     "metadata": {},
     "output_type": "display_data"
    },
    {
     "data": {
      "text/html": [
       "<pre style=\"white-space:pre;overflow-x:auto;line-height:normal;font-family:Menlo,'DejaVu Sans Mono',consolas,'Courier New',monospace\">╭─────────────────────────────────────────────────────────────────────────────────────────────────────────────────╮\n",
       "│ Calling tool: 'opengenes_db_query' with arguments: {'sql': \"SELECT * FROM gene_hallmarks WHERE HGNC =           │\n",
       "│ 'NFE2L2'\"}                                                                                                      │\n",
       "╰─────────────────────────────────────────────────────────────────────────────────────────────────────────────────╯\n",
       "</pre>\n"
      ],
      "text/plain": [
       "╭─────────────────────────────────────────────────────────────────────────────────────────────────────────────────╮\n",
       "│ Calling tool: 'opengenes_db_query' with arguments: {'sql': \"SELECT * FROM gene_hallmarks WHERE HGNC =           │\n",
       "│ 'NFE2L2'\"}                                                                                                      │\n",
       "╰─────────────────────────────────────────────────────────────────────────────────────────────────────────────────╯\n"
      ]
     },
     "metadata": {},
     "output_type": "display_data"
    },
    {
     "data": {
      "text/html": [
       "<pre style=\"white-space:pre;overflow-x:auto;line-height:normal;font-family:Menlo,'DejaVu Sans Mono',consolas,'Courier New',monospace\">╭─────────────────────────────────────────────────────────────────────────────────────────────────────────────────╮\n",
       "│ Calling tool: 'opengenes_db_query' with arguments: {'sql': \"SELECT * FROM gene_criteria WHERE HGNC = 'NFE2L2'\"} │\n",
       "╰─────────────────────────────────────────────────────────────────────────────────────────────────────────────────╯\n",
       "</pre>\n"
      ],
      "text/plain": [
       "╭─────────────────────────────────────────────────────────────────────────────────────────────────────────────────╮\n",
       "│ Calling tool: 'opengenes_db_query' with arguments: {'sql': \"SELECT * FROM gene_criteria WHERE HGNC = 'NFE2L2'\"} │\n",
       "╰─────────────────────────────────────────────────────────────────────────────────────────────────────────────────╯\n"
      ]
     },
     "metadata": {},
     "output_type": "display_data"
    },
    {
     "data": {
      "text/html": [
       "<pre style=\"white-space:pre;overflow-x:auto;line-height:normal;font-family:Menlo,'DejaVu Sans Mono',consolas,'Courier New',monospace\">╭─────────────────────────────────────────────────────────────────────────────────────────────────────────────────╮\n",
       "│ Calling tool: 'opengenes_db_query' with arguments: {'sql': \"SELECT * FROM longevity_associations WHERE HGNC =   │\n",
       "│ 'NFE2L2'\"}                                                                                                      │\n",
       "╰─────────────────────────────────────────────────────────────────────────────────────────────────────────────────╯\n",
       "</pre>\n"
      ],
      "text/plain": [
       "╭─────────────────────────────────────────────────────────────────────────────────────────────────────────────────╮\n",
       "│ Calling tool: 'opengenes_db_query' with arguments: {'sql': \"SELECT * FROM longevity_associations WHERE HGNC =   │\n",
       "│ 'NFE2L2'\"}                                                                                                      │\n",
       "╰─────────────────────────────────────────────────────────────────────────────────────────────────────────────────╯\n"
      ]
     },
     "metadata": {},
     "output_type": "display_data"
    },
    {
     "data": {
      "text/html": [
       "<pre style=\"white-space:pre;overflow-x:auto;line-height:normal;font-family:Menlo,'DejaVu Sans Mono',consolas,'Courier New',monospace\">╭─────────────────────────────────────────────────────────────────────────────────────────────────────────────────╮\n",
       "│ Calling tool: 'opengenes_db_query' with arguments: {'sql': \"SELECT * FROM lifespan_change WHERE HGNC =          │\n",
       "│ 'NFE2L2'\"}                                                                                                      │\n",
       "╰─────────────────────────────────────────────────────────────────────────────────────────────────────────────────╯\n",
       "</pre>\n"
      ],
      "text/plain": [
       "╭─────────────────────────────────────────────────────────────────────────────────────────────────────────────────╮\n",
       "│ Calling tool: 'opengenes_db_query' with arguments: {'sql': \"SELECT * FROM lifespan_change WHERE HGNC =          │\n",
       "│ 'NFE2L2'\"}                                                                                                      │\n",
       "╰─────────────────────────────────────────────────────────────────────────────────────────────────────────────────╯\n"
      ]
     },
     "metadata": {},
     "output_type": "display_data"
    },
    {
     "data": {
      "text/html": [
       "<pre style=\"white-space:pre;overflow-x:auto;line-height:normal;font-family:Menlo,'DejaVu Sans Mono',consolas,'Courier New',monospace\">╭─────────────────────────────────────────────────────────────────────────────────────────────────────────────────╮\n",
       "│ Calling tool: 'opengenes_db_query' with arguments: {'sql': \"SELECT * FROM gene_hallmarks WHERE HGNC = 'NRF2'\"}  │\n",
       "╰─────────────────────────────────────────────────────────────────────────────────────────────────────────────────╯\n",
       "</pre>\n"
      ],
      "text/plain": [
       "╭─────────────────────────────────────────────────────────────────────────────────────────────────────────────────╮\n",
       "│ Calling tool: 'opengenes_db_query' with arguments: {'sql': \"SELECT * FROM gene_hallmarks WHERE HGNC = 'NRF2'\"}  │\n",
       "╰─────────────────────────────────────────────────────────────────────────────────────────────────────────────────╯\n"
      ]
     },
     "metadata": {},
     "output_type": "display_data"
    },
    {
     "data": {
      "text/html": [
       "<pre style=\"white-space:pre;overflow-x:auto;line-height:normal;font-family:Menlo,'DejaVu Sans Mono',consolas,'Courier New',monospace\">╭─────────────────────────────────────────────────────────────────────────────────────────────────────────────────╮\n",
       "│ Calling tool: 'opengenes_db_query' with arguments: {'sql': \"SELECT * FROM gene_criteria WHERE HGNC = 'NRF2'\"}   │\n",
       "╰─────────────────────────────────────────────────────────────────────────────────────────────────────────────────╯\n",
       "</pre>\n"
      ],
      "text/plain": [
       "╭─────────────────────────────────────────────────────────────────────────────────────────────────────────────────╮\n",
       "│ Calling tool: 'opengenes_db_query' with arguments: {'sql': \"SELECT * FROM gene_criteria WHERE HGNC = 'NRF2'\"}   │\n",
       "╰─────────────────────────────────────────────────────────────────────────────────────────────────────────────────╯\n"
      ]
     },
     "metadata": {},
     "output_type": "display_data"
    },
    {
     "data": {
      "text/html": [
       "<pre style=\"white-space:pre;overflow-x:auto;line-height:normal;font-family:Menlo,'DejaVu Sans Mono',consolas,'Courier New',monospace\">╭─────────────────────────────────────────────────────────────────────────────────────────────────────────────────╮\n",
       "│ Calling tool: 'opengenes_db_query' with arguments: {'sql': \"SELECT * FROM longevity_associations WHERE HGNC =   │\n",
       "│ 'NRF2'\"}                                                                                                        │\n",
       "╰─────────────────────────────────────────────────────────────────────────────────────────────────────────────────╯\n",
       "</pre>\n"
      ],
      "text/plain": [
       "╭─────────────────────────────────────────────────────────────────────────────────────────────────────────────────╮\n",
       "│ Calling tool: 'opengenes_db_query' with arguments: {'sql': \"SELECT * FROM longevity_associations WHERE HGNC =   │\n",
       "│ 'NRF2'\"}                                                                                                        │\n",
       "╰─────────────────────────────────────────────────────────────────────────────────────────────────────────────────╯\n"
      ]
     },
     "metadata": {},
     "output_type": "display_data"
    },
    {
     "data": {
      "text/html": [
       "<pre style=\"white-space:pre;overflow-x:auto;line-height:normal;font-family:Menlo,'DejaVu Sans Mono',consolas,'Courier New',monospace\">╭─────────────────────────────────────────────────────────────────────────────────────────────────────────────────╮\n",
       "│ Calling tool: 'opengenes_db_query' with arguments: {'sql': \"SELECT * FROM lifespan_change WHERE HGNC = 'NRF2'\"} │\n",
       "╰─────────────────────────────────────────────────────────────────────────────────────────────────────────────────╯\n",
       "</pre>\n"
      ],
      "text/plain": [
       "╭─────────────────────────────────────────────────────────────────────────────────────────────────────────────────╮\n",
       "│ Calling tool: 'opengenes_db_query' with arguments: {'sql': \"SELECT * FROM lifespan_change WHERE HGNC = 'NRF2'\"} │\n",
       "╰─────────────────────────────────────────────────────────────────────────────────────────────────────────────────╯\n"
      ]
     },
     "metadata": {},
     "output_type": "display_data"
    },
    {
     "data": {
      "text/html": [
       "<pre style=\"white-space:pre;overflow-x:auto;line-height:normal;font-family:Menlo,'DejaVu Sans Mono',consolas,'Courier New',monospace\">Observations: {\"rows\":|{\"HGNC\":\"NFE2L2\",\"hallmarks of aging\":\"'transcriptional alterations','degradation of \n",
       "proteolytic systems','accumulation of reactive oxygen species','sterile inflammation','intercellular communication \n",
       "impairment'\"}],\"count\":1,\"query\":\"SELECT * FROM gene_hallmarks WHERE HGNC = 'NFE2L2'\"}\n",
       "</pre>\n"
      ],
      "text/plain": [
       "Observations: {\"rows\":|{\"HGNC\":\"NFE2L2\",\"hallmarks of aging\":\"'transcriptional alterations','degradation of \n",
       "proteolytic systems','accumulation of reactive oxygen species','sterile inflammation','intercellular communication \n",
       "impairment'\"}],\"count\":1,\"query\":\"SELECT * FROM gene_hallmarks WHERE HGNC = 'NFE2L2'\"}\n"
      ]
     },
     "metadata": {},
     "output_type": "display_data"
    },
    {
     "data": {
      "text/html": [
       "<pre style=\"white-space:pre;overflow-x:auto;line-height:normal;font-family:Menlo,'DejaVu Sans Mono',consolas,'Courier New',monospace\">Observations: {\"rows\":|{\"HGNC\":\"NFE2L2\",\"criteria\":\"'Age-related changes in gene expression, methylation or protein\n",
       "activity'\"},{\"HGNC\":\"NFE2L2\",\"criteria\":\"'Regulation of genes associated with \n",
       "aging'\"},{\"HGNC\":\"NFE2L2\",\"criteria\":\"'Changes in gene activity protect against age-related \n",
       "impairment'\"},{\"HGNC\":\"NFE2L2\",\"criteria\":\"'Age-related changes in gene expression, methylation or protein activity\n",
       "in humans'\"}],\"count\":4,\"query\":\"SELECT * FROM gene_criteria WHERE HGNC = 'NFE2L2'\"}\n",
       "</pre>\n"
      ],
      "text/plain": [
       "Observations: {\"rows\":|{\"HGNC\":\"NFE2L2\",\"criteria\":\"'Age-related changes in gene expression, methylation or protein\n",
       "activity'\"},{\"HGNC\":\"NFE2L2\",\"criteria\":\"'Regulation of genes associated with \n",
       "aging'\"},{\"HGNC\":\"NFE2L2\",\"criteria\":\"'Changes in gene activity protect against age-related \n",
       "impairment'\"},{\"HGNC\":\"NFE2L2\",\"criteria\":\"'Age-related changes in gene expression, methylation or protein activity\n",
       "in humans'\"}],\"count\":4,\"query\":\"SELECT * FROM gene_criteria WHERE HGNC = 'NFE2L2'\"}\n"
      ]
     },
     "metadata": {},
     "output_type": "display_data"
    },
    {
     "data": {
      "text/html": [
       "<pre style=\"white-space:pre;overflow-x:auto;line-height:normal;font-family:Menlo,'DejaVu Sans Mono',consolas,'Courier New',monospace\">Observations: {\"rows\":|],\"count\":0,\"query\":\"SELECT * FROM longevity_associations WHERE HGNC = 'NFE2L2'\"}\n",
       "</pre>\n"
      ],
      "text/plain": [
       "Observations: {\"rows\":|],\"count\":0,\"query\":\"SELECT * FROM longevity_associations WHERE HGNC = 'NFE2L2'\"}\n"
      ]
     },
     "metadata": {},
     "output_type": "display_data"
    },
    {
     "data": {
      "text/html": [
       "<pre style=\"white-space:pre;overflow-x:auto;line-height:normal;font-family:Menlo,'DejaVu Sans Mono',consolas,'Courier New',monospace\">Observations: {\"rows\":|],\"count\":0,\"query\":\"SELECT * FROM lifespan_change WHERE HGNC = 'NFE2L2'\"}\n",
       "</pre>\n"
      ],
      "text/plain": [
       "Observations: {\"rows\":|],\"count\":0,\"query\":\"SELECT * FROM lifespan_change WHERE HGNC = 'NFE2L2'\"}\n"
      ]
     },
     "metadata": {},
     "output_type": "display_data"
    },
    {
     "data": {
      "text/html": [
       "<pre style=\"white-space:pre;overflow-x:auto;line-height:normal;font-family:Menlo,'DejaVu Sans Mono',consolas,'Courier New',monospace\">Observations: {\"rows\":|],\"count\":0,\"query\":\"SELECT * FROM gene_hallmarks WHERE HGNC = 'NRF2'\"}\n",
       "</pre>\n"
      ],
      "text/plain": [
       "Observations: {\"rows\":|],\"count\":0,\"query\":\"SELECT * FROM gene_hallmarks WHERE HGNC = 'NRF2'\"}\n"
      ]
     },
     "metadata": {},
     "output_type": "display_data"
    },
    {
     "data": {
      "text/html": [
       "<pre style=\"white-space:pre;overflow-x:auto;line-height:normal;font-family:Menlo,'DejaVu Sans Mono',consolas,'Courier New',monospace\">Observations: {\"rows\":|],\"count\":0,\"query\":\"SELECT * FROM gene_criteria WHERE HGNC = 'NRF2'\"}\n",
       "</pre>\n"
      ],
      "text/plain": [
       "Observations: {\"rows\":|],\"count\":0,\"query\":\"SELECT * FROM gene_criteria WHERE HGNC = 'NRF2'\"}\n"
      ]
     },
     "metadata": {},
     "output_type": "display_data"
    },
    {
     "data": {
      "text/html": [
       "<pre style=\"white-space:pre;overflow-x:auto;line-height:normal;font-family:Menlo,'DejaVu Sans Mono',consolas,'Courier New',monospace\">Observations: {\"rows\":|],\"count\":0,\"query\":\"SELECT * FROM longevity_associations WHERE HGNC = 'NRF2'\"}\n",
       "</pre>\n"
      ],
      "text/plain": [
       "Observations: {\"rows\":|],\"count\":0,\"query\":\"SELECT * FROM longevity_associations WHERE HGNC = 'NRF2'\"}\n"
      ]
     },
     "metadata": {},
     "output_type": "display_data"
    },
    {
     "data": {
      "text/html": [
       "<pre style=\"white-space:pre;overflow-x:auto;line-height:normal;font-family:Menlo,'DejaVu Sans Mono',consolas,'Courier New',monospace\">Observations: {\"rows\":|],\"count\":0,\"query\":\"SELECT * FROM lifespan_change WHERE HGNC = 'NRF2'\"}\n",
       "</pre>\n"
      ],
      "text/plain": [
       "Observations: {\"rows\":|],\"count\":0,\"query\":\"SELECT * FROM lifespan_change WHERE HGNC = 'NRF2'\"}\n"
      ]
     },
     "metadata": {},
     "output_type": "display_data"
    },
    {
     "data": {
      "text/html": [
       "<pre style=\"white-space:pre;overflow-x:auto;line-height:normal;font-family:Menlo,'DejaVu Sans Mono',consolas,'Courier New',monospace\"><span style=\"color: #7f7f7f; text-decoration-color: #7f7f7f\">[Step 3: Duration 7.11 seconds| Input tokens: 43,868 | Output tokens: 594]</span>\n",
       "</pre>\n"
      ],
      "text/plain": [
       "\u001B[2m[Step 3: Duration 7.11 seconds| Input tokens: 43,868 | Output tokens: 594]\u001B[0m\n"
      ]
     },
     "metadata": {},
     "output_type": "display_data"
    },
    {
     "data": {
      "text/html": [
       "<pre style=\"white-space:pre;overflow-x:auto;line-height:normal;font-family:Menlo,'DejaVu Sans Mono',consolas,'Courier New',monospace\"><span style=\"color: #d4b702; text-decoration-color: #d4b702\">━━━━━━━━━━━━━━━━━━━━━━━━━━━━━━━━━━━━━━━━━━━━━━━━━━━━━ </span><span style=\"font-weight: bold\">Step 4</span><span style=\"color: #d4b702; text-decoration-color: #d4b702\"> ━━━━━━━━━━━━━━━━━━━━━━━━━━━━━━━━━━━━━━━━━━━━━━━━━━━━━━</span>\n",
       "</pre>\n"
      ],
      "text/plain": [
       "\u001B[38;2;212;183;2m━━━━━━━━━━━━━━━━━━━━━━━━━━━━━━━━━━━━━━━━━━━━━━━━━━━━━ \u001B[0m\u001B[1mStep 4\u001B[0m\u001B[38;2;212;183;2m ━━━━━━━━━━━━━━━━━━━━━━━━━━━━━━━━━━━━━━━━━━━━━━━━━━━━━━\u001B[0m\n"
      ]
     },
     "metadata": {},
     "output_type": "display_data"
    },
    {
     "data": {
      "text/html": [
       "<pre style=\"white-space:pre;overflow-x:auto;line-height:normal;font-family:Menlo,'DejaVu Sans Mono',consolas,'Courier New',monospace\">╭─────────────────────────────────────────────────────────────────────────────────────────────────────────────────╮\n",
       "│ Calling tool: 'final_answer' with arguments: {'answer': \"The gene NRF2 (also known as NFE2L2) has been analyzed │\n",
       "│ across multiple dimensions of aging and longevity research. Here is a comprehensive summary based on the        │\n",
       "│ available data:\\n\\n### 1. Longevity/Lifespan/Healthspan Association\\n- **Lifespan Effects**: No direct          │\n",
       "│ experimental data from model organisms (e.g., mouse, C. elegans, fly) is available in the database for either   │\n",
       "│ NRF2 or its synonym NFE2L2 regarding changes in lifespan (no entries in the `lifespan_change` table).\\n-        │\n",
       "│ **Healthspan Protection**: Despite the lack of lifespan extension data, NFE2L2 is strongly associated with      │\n",
       "│ protection against age-related impairment. This suggests a role in improving healthspan rather than extending   │\n",
       "│ maximum lifespan.\\n\\n### 2. Modification Effects\\n- **Gene Activity Changes**: Alterations in NFE2L2 activity   │\n",
       "│ are linked to protective effects against age-related functional decline. Specifically, changes in its activity  │\n",
       "│ help protect against age-related impairments, indicating that upregulation or activation of this gene may be    │\n",
       "│ beneficial for maintaining physiological function during aging.\\n- **No detrimental effects** on lifespan or    │\n",
       "│ healthspan were reported in the database.\\n\\n### 3. Known Genetic Interventions\\n- There are **no recorded      │\n",
       "│ genetic interventions** (e.g., knockout, overexpression) for NRF2/NFE2L2 in the database that have been tested  │\n",
       "│ for effects on lifespan in model organisms.\\n- Therefore, while NRF2 is a well-known target in aging research   │\n",
       "│ (especially in oxidative stress response), no specific intervention outcomes are documented in this             │\n",
       "│ dataset.\\n\\n### 4. Evolution\\n- The database does not contain explicit evolutionary analysis or cross-species   │\n",
       "│ comparison data for NRF2/NFE2L2.\\n- However, given its role in fundamental cellular defense mechanisms (e.g.,   │\n",
       "│ antioxidant response), NRF2 is highly conserved across species, which implies evolutionary importance in stress │\n",
       "│ resistance and longevity pathways.\\n\\n### 5. Disease Involvement\\n- NFE2L2 is involved in key aging-related     │\n",
       "│ processes:\\n  - **Oxidative stress regulation** (via 'accumulation of reactive oxygen species')\\n  -            │\n",
       "│ **Inflammation control** (linked to 'sterile inflammation')\\n  - **Protein homeostasis** (via 'degradation of   │\n",
       "│ proteolytic systems')\\n  - **Transcriptional regulation** during aging ('transcriptional alterations')\\n  -     │\n",
       "│ **Cellular communication** ('intercellular communication impairment')\\n- These associations suggest involvement │\n",
       "│ in age-related diseases such as neurodegenerative disorders, cardiovascular diseases, and cancer, where         │\n",
       "│ oxidative damage and chronic inflammation play critical roles.\\n\\n### Summary\\nWhile **no direct lifespan       │\n",
       "│ extension data** is available in the OpenGenes database for NRF2 (NFE2L2), it is clearly implicated in          │\n",
       "│ **protecting against age-related functional decline** and is associated with multiple hallmarks of aging. Its   │\n",
       "│ role appears to be more aligned with **healthspan improvement** than lifespan extension. The gene regulates     │\n",
       "│ critical stress response pathways and is involved in mitigating oxidative damage and inflammation—key drivers   │\n",
       "│ of aging and age-related diseases.\\n\\nThus, although experimental lifespan data is missing in this dataset, the │\n",
       "│ biological evidence supports NRF2 as a significant player in aging biology through health-promoting             │\n",
       "│ mechanisms.\"}                                                                                                   │\n",
       "╰─────────────────────────────────────────────────────────────────────────────────────────────────────────────────╯\n",
       "</pre>\n"
      ],
      "text/plain": [
       "╭─────────────────────────────────────────────────────────────────────────────────────────────────────────────────╮\n",
       "│ Calling tool: 'final_answer' with arguments: {'answer': \"The gene NRF2 (also known as NFE2L2) has been analyzed │\n",
       "│ across multiple dimensions of aging and longevity research. Here is a comprehensive summary based on the        │\n",
       "│ available data:\\n\\n### 1. Longevity/Lifespan/Healthspan Association\\n- **Lifespan Effects**: No direct          │\n",
       "│ experimental data from model organisms (e.g., mouse, C. elegans, fly) is available in the database for either   │\n",
       "│ NRF2 or its synonym NFE2L2 regarding changes in lifespan (no entries in the `lifespan_change` table).\\n-        │\n",
       "│ **Healthspan Protection**: Despite the lack of lifespan extension data, NFE2L2 is strongly associated with      │\n",
       "│ protection against age-related impairment. This suggests a role in improving healthspan rather than extending   │\n",
       "│ maximum lifespan.\\n\\n### 2. Modification Effects\\n- **Gene Activity Changes**: Alterations in NFE2L2 activity   │\n",
       "│ are linked to protective effects against age-related functional decline. Specifically, changes in its activity  │\n",
       "│ help protect against age-related impairments, indicating that upregulation or activation of this gene may be    │\n",
       "│ beneficial for maintaining physiological function during aging.\\n- **No detrimental effects** on lifespan or    │\n",
       "│ healthspan were reported in the database.\\n\\n### 3. Known Genetic Interventions\\n- There are **no recorded      │\n",
       "│ genetic interventions** (e.g., knockout, overexpression) for NRF2/NFE2L2 in the database that have been tested  │\n",
       "│ for effects on lifespan in model organisms.\\n- Therefore, while NRF2 is a well-known target in aging research   │\n",
       "│ (especially in oxidative stress response), no specific intervention outcomes are documented in this             │\n",
       "│ dataset.\\n\\n### 4. Evolution\\n- The database does not contain explicit evolutionary analysis or cross-species   │\n",
       "│ comparison data for NRF2/NFE2L2.\\n- However, given its role in fundamental cellular defense mechanisms (e.g.,   │\n",
       "│ antioxidant response), NRF2 is highly conserved across species, which implies evolutionary importance in stress │\n",
       "│ resistance and longevity pathways.\\n\\n### 5. Disease Involvement\\n- NFE2L2 is involved in key aging-related     │\n",
       "│ processes:\\n  - **Oxidative stress regulation** (via 'accumulation of reactive oxygen species')\\n  -            │\n",
       "│ **Inflammation control** (linked to 'sterile inflammation')\\n  - **Protein homeostasis** (via 'degradation of   │\n",
       "│ proteolytic systems')\\n  - **Transcriptional regulation** during aging ('transcriptional alterations')\\n  -     │\n",
       "│ **Cellular communication** ('intercellular communication impairment')\\n- These associations suggest involvement │\n",
       "│ in age-related diseases such as neurodegenerative disorders, cardiovascular diseases, and cancer, where         │\n",
       "│ oxidative damage and chronic inflammation play critical roles.\\n\\n### Summary\\nWhile **no direct lifespan       │\n",
       "│ extension data** is available in the OpenGenes database for NRF2 (NFE2L2), it is clearly implicated in          │\n",
       "│ **protecting against age-related functional decline** and is associated with multiple hallmarks of aging. Its   │\n",
       "│ role appears to be more aligned with **healthspan improvement** than lifespan extension. The gene regulates     │\n",
       "│ critical stress response pathways and is involved in mitigating oxidative damage and inflammation—key drivers   │\n",
       "│ of aging and age-related diseases.\\n\\nThus, although experimental lifespan data is missing in this dataset, the │\n",
       "│ biological evidence supports NRF2 as a significant player in aging biology through health-promoting             │\n",
       "│ mechanisms.\"}                                                                                                   │\n",
       "╰─────────────────────────────────────────────────────────────────────────────────────────────────────────────────╯\n"
      ]
     },
     "metadata": {},
     "output_type": "display_data"
    },
    {
     "data": {
      "text/html": [
       "<pre style=\"white-space:pre;overflow-x:auto;line-height:normal;font-family:Menlo,'DejaVu Sans Mono',consolas,'Courier New',monospace\">Observations: The gene NRF2 (also known as NFE2L2) has been analyzed across multiple dimensions of aging and \n",
       "longevity research. Here is a comprehensive summary based on the available data:\n",
       "\n",
       "### 1. Longevity/Lifespan/Healthspan Association\n",
       "- **Lifespan Effects**: No direct experimental data from model organisms (e.g., mouse, C. elegans, fly) is \n",
       "available in the database for either NRF2 or its synonym NFE2L2 regarding changes in lifespan (no entries in the \n",
       "`lifespan_change` table).\n",
       "- **Healthspan Protection**: Despite the lack of lifespan extension data, NFE2L2 is strongly associated with \n",
       "protection against age-related impairment. This suggests a role in improving healthspan rather than extending \n",
       "maximum lifespan.\n",
       "\n",
       "### 2. Modification Effects\n",
       "- **Gene Activity Changes**: Alterations in NFE2L2 activity are linked to protective effects against age-related \n",
       "functional decline. Specifically, changes in its activity help protect against age-related impairments, indicating \n",
       "that upregulation or activation of this gene may be beneficial for maintaining physiological function during aging.\n",
       "- **No detrimental effects** on lifespan or healthspan were reported in the database.\n",
       "\n",
       "### 3. Known Genetic Interventions\n",
       "- There are **no recorded genetic interventions** (e.g., knockout, overexpression) for NRF2/NFE2L2 in the database \n",
       "that have been tested for effects on lifespan in model organisms.\n",
       "- Therefore, while NRF2 is a well-known target in aging research (especially in oxidative stress response), no \n",
       "specific intervention outcomes are documented in this dataset.\n",
       "\n",
       "### 4. Evolution\n",
       "- The database does not contain explicit evolutionary analysis or cross-species comparison data for NRF2/NFE2L2.\n",
       "- However, given its role in fundamental cellular defense mechanisms (e.g., antioxidant response), NRF2 is highly \n",
       "conserved across species, which implies evolutionary importance in stress resistance and longevity pathways.\n",
       "\n",
       "### 5. Disease Involvement\n",
       "- NFE2L2 is involved in key aging-related processes:\n",
       "  - **Oxidative stress regulation** (via 'accumulation of reactive oxygen species')\n",
       "  - **Inflammation control** (linked to 'sterile inflammation')\n",
       "  - **Protein homeostasis** (via 'degradation of proteolytic systems')\n",
       "  - **Transcriptional regulation** during aging ('transcriptional alterations')\n",
       "  - **Cellular communication** ('intercellular communication impairment')\n",
       "- These associations suggest involvement in age-related diseases such as neurodegenerative disorders, \n",
       "cardiovascular diseases, and cancer, where oxidative damage and chronic inflammation play critical roles.\n",
       "\n",
       "### Summary\n",
       "While **no direct lifespan extension data** is available in the OpenGenes database for NRF2 (NFE2L2), it is clearly\n",
       "implicated in **protecting against age-related functional decline** and is associated with multiple hallmarks of \n",
       "aging. Its role appears to be more aligned with **healthspan improvement** than lifespan extension. The gene \n",
       "regulates critical stress response pathways and is involved in mitigating oxidative damage and inflammation—key \n",
       "drivers of aging and age-related diseases.\n",
       "\n",
       "Thus, although experimental lifespan data is missing in this dataset, the biological evidence supports NRF2 as a \n",
       "significant player in aging biology through health-promoting mechanisms.\n",
       "</pre>\n"
      ],
      "text/plain": [
       "Observations: The gene NRF2 (also known as NFE2L2) has been analyzed across multiple dimensions of aging and \n",
       "longevity research. Here is a comprehensive summary based on the available data:\n",
       "\n",
       "### 1. Longevity/Lifespan/Healthspan Association\n",
       "- **Lifespan Effects**: No direct experimental data from model organisms (e.g., mouse, C. elegans, fly) is \n",
       "available in the database for either NRF2 or its synonym NFE2L2 regarding changes in lifespan (no entries in the \n",
       "`lifespan_change` table).\n",
       "- **Healthspan Protection**: Despite the lack of lifespan extension data, NFE2L2 is strongly associated with \n",
       "protection against age-related impairment. This suggests a role in improving healthspan rather than extending \n",
       "maximum lifespan.\n",
       "\n",
       "### 2. Modification Effects\n",
       "- **Gene Activity Changes**: Alterations in NFE2L2 activity are linked to protective effects against age-related \n",
       "functional decline. Specifically, changes in its activity help protect against age-related impairments, indicating \n",
       "that upregulation or activation of this gene may be beneficial for maintaining physiological function during aging.\n",
       "- **No detrimental effects** on lifespan or healthspan were reported in the database.\n",
       "\n",
       "### 3. Known Genetic Interventions\n",
       "- There are **no recorded genetic interventions** (e.g., knockout, overexpression) for NRF2/NFE2L2 in the database \n",
       "that have been tested for effects on lifespan in model organisms.\n",
       "- Therefore, while NRF2 is a well-known target in aging research (especially in oxidative stress response), no \n",
       "specific intervention outcomes are documented in this dataset.\n",
       "\n",
       "### 4. Evolution\n",
       "- The database does not contain explicit evolutionary analysis or cross-species comparison data for NRF2/NFE2L2.\n",
       "- However, given its role in fundamental cellular defense mechanisms (e.g., antioxidant response), NRF2 is highly \n",
       "conserved across species, which implies evolutionary importance in stress resistance and longevity pathways.\n",
       "\n",
       "### 5. Disease Involvement\n",
       "- NFE2L2 is involved in key aging-related processes:\n",
       "  - **Oxidative stress regulation** (via 'accumulation of reactive oxygen species')\n",
       "  - **Inflammation control** (linked to 'sterile inflammation')\n",
       "  - **Protein homeostasis** (via 'degradation of proteolytic systems')\n",
       "  - **Transcriptional regulation** during aging ('transcriptional alterations')\n",
       "  - **Cellular communication** ('intercellular communication impairment')\n",
       "- These associations suggest involvement in age-related diseases such as neurodegenerative disorders, \n",
       "cardiovascular diseases, and cancer, where oxidative damage and chronic inflammation play critical roles.\n",
       "\n",
       "### Summary\n",
       "While **no direct lifespan extension data** is available in the OpenGenes database for NRF2 (NFE2L2), it is clearly\n",
       "implicated in **protecting against age-related functional decline** and is associated with multiple hallmarks of \n",
       "aging. Its role appears to be more aligned with **healthspan improvement** than lifespan extension. The gene \n",
       "regulates critical stress response pathways and is involved in mitigating oxidative damage and inflammation—key \n",
       "drivers of aging and age-related diseases.\n",
       "\n",
       "Thus, although experimental lifespan data is missing in this dataset, the biological evidence supports NRF2 as a \n",
       "significant player in aging biology through health-promoting mechanisms.\n"
      ]
     },
     "metadata": {},
     "output_type": "display_data"
    },
    {
     "data": {
      "text/html": [
       "<pre style=\"white-space:pre;overflow-x:auto;line-height:normal;font-family:Menlo,'DejaVu Sans Mono',consolas,'Courier New',monospace\"><span style=\"color: #d4b702; text-decoration-color: #d4b702; font-weight: bold\">Final answer: The gene NRF2 (also known as NFE2L2) has been analyzed across multiple dimensions of aging and </span>\n",
       "<span style=\"color: #d4b702; text-decoration-color: #d4b702; font-weight: bold\">longevity research. Here is a comprehensive summary based on the available data:</span>\n",
       "\n",
       "<span style=\"color: #d4b702; text-decoration-color: #d4b702; font-weight: bold\">### 1. Longevity/Lifespan/Healthspan Association</span>\n",
       "<span style=\"color: #d4b702; text-decoration-color: #d4b702; font-weight: bold\">- **Lifespan Effects**: No direct experimental data from model organisms (e.g., mouse, C. elegans, fly) is </span>\n",
       "<span style=\"color: #d4b702; text-decoration-color: #d4b702; font-weight: bold\">available in the database for either NRF2 or its synonym NFE2L2 regarding changes in lifespan (no entries in the </span>\n",
       "<span style=\"color: #d4b702; text-decoration-color: #d4b702; font-weight: bold\">`lifespan_change` table).</span>\n",
       "<span style=\"color: #d4b702; text-decoration-color: #d4b702; font-weight: bold\">- **Healthspan Protection**: Despite the lack of lifespan extension data, NFE2L2 is strongly associated with </span>\n",
       "<span style=\"color: #d4b702; text-decoration-color: #d4b702; font-weight: bold\">protection against age-related impairment. This suggests a role in improving healthspan rather than extending </span>\n",
       "<span style=\"color: #d4b702; text-decoration-color: #d4b702; font-weight: bold\">maximum lifespan.</span>\n",
       "\n",
       "<span style=\"color: #d4b702; text-decoration-color: #d4b702; font-weight: bold\">### 2. Modification Effects</span>\n",
       "<span style=\"color: #d4b702; text-decoration-color: #d4b702; font-weight: bold\">- **Gene Activity Changes**: Alterations in NFE2L2 activity are linked to protective effects against age-related </span>\n",
       "<span style=\"color: #d4b702; text-decoration-color: #d4b702; font-weight: bold\">functional decline. Specifically, changes in its activity help protect against age-related impairments, indicating </span>\n",
       "<span style=\"color: #d4b702; text-decoration-color: #d4b702; font-weight: bold\">that upregulation or activation of this gene may be beneficial for maintaining physiological function during aging.</span>\n",
       "<span style=\"color: #d4b702; text-decoration-color: #d4b702; font-weight: bold\">- **No detrimental effects** on lifespan or healthspan were reported in the database.</span>\n",
       "\n",
       "<span style=\"color: #d4b702; text-decoration-color: #d4b702; font-weight: bold\">### 3. Known Genetic Interventions</span>\n",
       "<span style=\"color: #d4b702; text-decoration-color: #d4b702; font-weight: bold\">- There are **no recorded genetic interventions** (e.g., knockout, overexpression) for NRF2/NFE2L2 in the database </span>\n",
       "<span style=\"color: #d4b702; text-decoration-color: #d4b702; font-weight: bold\">that have been tested for effects on lifespan in model organisms.</span>\n",
       "<span style=\"color: #d4b702; text-decoration-color: #d4b702; font-weight: bold\">- Therefore, while NRF2 is a well-known target in aging research (especially in oxidative stress response), no </span>\n",
       "<span style=\"color: #d4b702; text-decoration-color: #d4b702; font-weight: bold\">specific intervention outcomes are documented in this dataset.</span>\n",
       "\n",
       "<span style=\"color: #d4b702; text-decoration-color: #d4b702; font-weight: bold\">### 4. Evolution</span>\n",
       "<span style=\"color: #d4b702; text-decoration-color: #d4b702; font-weight: bold\">- The database does not contain explicit evolutionary analysis or cross-species comparison data for NRF2/NFE2L2.</span>\n",
       "<span style=\"color: #d4b702; text-decoration-color: #d4b702; font-weight: bold\">- However, given its role in fundamental cellular defense mechanisms (e.g., antioxidant response), NRF2 is highly </span>\n",
       "<span style=\"color: #d4b702; text-decoration-color: #d4b702; font-weight: bold\">conserved across species, which implies evolutionary importance in stress resistance and longevity pathways.</span>\n",
       "\n",
       "<span style=\"color: #d4b702; text-decoration-color: #d4b702; font-weight: bold\">### 5. Disease Involvement</span>\n",
       "<span style=\"color: #d4b702; text-decoration-color: #d4b702; font-weight: bold\">- NFE2L2 is involved in key aging-related processes:</span>\n",
       "<span style=\"color: #d4b702; text-decoration-color: #d4b702; font-weight: bold\">  - **Oxidative stress regulation** (via 'accumulation of reactive oxygen species')</span>\n",
       "<span style=\"color: #d4b702; text-decoration-color: #d4b702; font-weight: bold\">  - **Inflammation control** (linked to 'sterile inflammation')</span>\n",
       "<span style=\"color: #d4b702; text-decoration-color: #d4b702; font-weight: bold\">  - **Protein homeostasis** (via 'degradation of proteolytic systems')</span>\n",
       "<span style=\"color: #d4b702; text-decoration-color: #d4b702; font-weight: bold\">  - **Transcriptional regulation** during aging ('transcriptional alterations')</span>\n",
       "<span style=\"color: #d4b702; text-decoration-color: #d4b702; font-weight: bold\">  - **Cellular communication** ('intercellular communication impairment')</span>\n",
       "<span style=\"color: #d4b702; text-decoration-color: #d4b702; font-weight: bold\">- These associations suggest involvement in age-related diseases such as neurodegenerative disorders, </span>\n",
       "<span style=\"color: #d4b702; text-decoration-color: #d4b702; font-weight: bold\">cardiovascular diseases, and cancer, where oxidative damage and chronic inflammation play critical roles.</span>\n",
       "\n",
       "<span style=\"color: #d4b702; text-decoration-color: #d4b702; font-weight: bold\">### Summary</span>\n",
       "<span style=\"color: #d4b702; text-decoration-color: #d4b702; font-weight: bold\">While **no direct lifespan extension data** is available in the OpenGenes database for NRF2 (NFE2L2), it is clearly</span>\n",
       "<span style=\"color: #d4b702; text-decoration-color: #d4b702; font-weight: bold\">implicated in **protecting against age-related functional decline** and is associated with multiple hallmarks of </span>\n",
       "<span style=\"color: #d4b702; text-decoration-color: #d4b702; font-weight: bold\">aging. Its role appears to be more aligned with **healthspan improvement** than lifespan extension. The gene </span>\n",
       "<span style=\"color: #d4b702; text-decoration-color: #d4b702; font-weight: bold\">regulates critical stress response pathways and is involved in mitigating oxidative damage and inflammation—key </span>\n",
       "<span style=\"color: #d4b702; text-decoration-color: #d4b702; font-weight: bold\">drivers of aging and age-related diseases.</span>\n",
       "\n",
       "<span style=\"color: #d4b702; text-decoration-color: #d4b702; font-weight: bold\">Thus, although experimental lifespan data is missing in this dataset, the biological evidence supports NRF2 as a </span>\n",
       "<span style=\"color: #d4b702; text-decoration-color: #d4b702; font-weight: bold\">significant player in aging biology through health-promoting mechanisms.</span>\n",
       "</pre>\n"
      ],
      "text/plain": [
       "\u001B[1;38;2;212;183;2mFinal answer: The gene NRF2 (also known as NFE2L2) has been analyzed across multiple dimensions of aging and \u001B[0m\n",
       "\u001B[1;38;2;212;183;2mlongevity research. Here is a comprehensive summary based on the available data:\u001B[0m\n",
       "\n",
       "\u001B[1;38;2;212;183;2m### 1. Longevity/Lifespan/Healthspan Association\u001B[0m\n",
       "\u001B[1;38;2;212;183;2m- **Lifespan Effects**: No direct experimental data from model organisms (e.g., mouse, C. elegans, fly) is \u001B[0m\n",
       "\u001B[1;38;2;212;183;2mavailable in the database for either NRF2 or its synonym NFE2L2 regarding changes in lifespan (no entries in the \u001B[0m\n",
       "\u001B[1;38;2;212;183;2m`lifespan_change` table).\u001B[0m\n",
       "\u001B[1;38;2;212;183;2m- **Healthspan Protection**: Despite the lack of lifespan extension data, NFE2L2 is strongly associated with \u001B[0m\n",
       "\u001B[1;38;2;212;183;2mprotection against age-related impairment. This suggests a role in improving healthspan rather than extending \u001B[0m\n",
       "\u001B[1;38;2;212;183;2mmaximum lifespan.\u001B[0m\n",
       "\n",
       "\u001B[1;38;2;212;183;2m### 2. Modification Effects\u001B[0m\n",
       "\u001B[1;38;2;212;183;2m- **Gene Activity Changes**: Alterations in NFE2L2 activity are linked to protective effects against age-related \u001B[0m\n",
       "\u001B[1;38;2;212;183;2mfunctional decline. Specifically, changes in its activity help protect against age-related impairments, indicating \u001B[0m\n",
       "\u001B[1;38;2;212;183;2mthat upregulation or activation of this gene may be beneficial for maintaining physiological function during aging.\u001B[0m\n",
       "\u001B[1;38;2;212;183;2m- **No detrimental effects** on lifespan or healthspan were reported in the database.\u001B[0m\n",
       "\n",
       "\u001B[1;38;2;212;183;2m### 3. Known Genetic Interventions\u001B[0m\n",
       "\u001B[1;38;2;212;183;2m- There are **no recorded genetic interventions** (e.g., knockout, overexpression) for NRF2/NFE2L2 in the database \u001B[0m\n",
       "\u001B[1;38;2;212;183;2mthat have been tested for effects on lifespan in model organisms.\u001B[0m\n",
       "\u001B[1;38;2;212;183;2m- Therefore, while NRF2 is a well-known target in aging research (especially in oxidative stress response), no \u001B[0m\n",
       "\u001B[1;38;2;212;183;2mspecific intervention outcomes are documented in this dataset.\u001B[0m\n",
       "\n",
       "\u001B[1;38;2;212;183;2m### 4. Evolution\u001B[0m\n",
       "\u001B[1;38;2;212;183;2m- The database does not contain explicit evolutionary analysis or cross-species comparison data for NRF2/NFE2L2.\u001B[0m\n",
       "\u001B[1;38;2;212;183;2m- However, given its role in fundamental cellular defense mechanisms (e.g., antioxidant response), NRF2 is highly \u001B[0m\n",
       "\u001B[1;38;2;212;183;2mconserved across species, which implies evolutionary importance in stress resistance and longevity pathways.\u001B[0m\n",
       "\n",
       "\u001B[1;38;2;212;183;2m### 5. Disease Involvement\u001B[0m\n",
       "\u001B[1;38;2;212;183;2m- NFE2L2 is involved in key aging-related processes:\u001B[0m\n",
       "\u001B[1;38;2;212;183;2m  - **Oxidative stress regulation** (via 'accumulation of reactive oxygen species')\u001B[0m\n",
       "\u001B[1;38;2;212;183;2m  - **Inflammation control** (linked to 'sterile inflammation')\u001B[0m\n",
       "\u001B[1;38;2;212;183;2m  - **Protein homeostasis** (via 'degradation of proteolytic systems')\u001B[0m\n",
       "\u001B[1;38;2;212;183;2m  - **Transcriptional regulation** during aging ('transcriptional alterations')\u001B[0m\n",
       "\u001B[1;38;2;212;183;2m  - **Cellular communication** ('intercellular communication impairment')\u001B[0m\n",
       "\u001B[1;38;2;212;183;2m- These associations suggest involvement in age-related diseases such as neurodegenerative disorders, \u001B[0m\n",
       "\u001B[1;38;2;212;183;2mcardiovascular diseases, and cancer, where oxidative damage and chronic inflammation play critical roles.\u001B[0m\n",
       "\n",
       "\u001B[1;38;2;212;183;2m### Summary\u001B[0m\n",
       "\u001B[1;38;2;212;183;2mWhile **no direct lifespan extension data** is available in the OpenGenes database for NRF2 (NFE2L2), it is clearly\u001B[0m\n",
       "\u001B[1;38;2;212;183;2mimplicated in **protecting against age-related functional decline** and is associated with multiple hallmarks of \u001B[0m\n",
       "\u001B[1;38;2;212;183;2maging. Its role appears to be more aligned with **healthspan improvement** than lifespan extension. The gene \u001B[0m\n",
       "\u001B[1;38;2;212;183;2mregulates critical stress response pathways and is involved in mitigating oxidative damage and inflammation—key \u001B[0m\n",
       "\u001B[1;38;2;212;183;2mdrivers of aging and age-related diseases.\u001B[0m\n",
       "\n",
       "\u001B[1;38;2;212;183;2mThus, although experimental lifespan data is missing in this dataset, the biological evidence supports NRF2 as a \u001B[0m\n",
       "\u001B[1;38;2;212;183;2msignificant player in aging biology through health-promoting mechanisms.\u001B[0m\n"
      ]
     },
     "metadata": {},
     "output_type": "display_data"
    },
    {
     "data": {
      "text/html": [
       "<pre style=\"white-space:pre;overflow-x:auto;line-height:normal;font-family:Menlo,'DejaVu Sans Mono',consolas,'Courier New',monospace\"><span style=\"color: #7f7f7f; text-decoration-color: #7f7f7f\">[Step 4: Duration 15.61 seconds| Input tokens: 62,611 | Output tokens: 1,300]</span>\n",
       "</pre>\n"
      ],
      "text/plain": [
       "\u001B[2m[Step 4: Duration 15.61 seconds| Input tokens: 62,611 | Output tokens: 1,300]\u001B[0m\n"
      ]
     },
     "metadata": {},
     "output_type": "display_data"
    },
    {
     "name": "stdout",
     "output_type": "stream",
     "text": [
      "The gene NRF2 (also known as NFE2L2) has been analyzed across multiple dimensions of aging and longevity research. Here is a comprehensive summary based on the available data:\n",
      "\n",
      "### 1. Longevity/Lifespan/Healthspan Association\n",
      "- **Lifespan Effects**: No direct experimental data from model organisms (e.g., mouse, C. elegans, fly) is available in the database for either NRF2 or its synonym NFE2L2 regarding changes in lifespan (no entries in the `lifespan_change` table).\n",
      "- **Healthspan Protection**: Despite the lack of lifespan extension data, NFE2L2 is strongly associated with protection against age-related impairment. This suggests a role in improving healthspan rather than extending maximum lifespan.\n",
      "\n",
      "### 2. Modification Effects\n",
      "- **Gene Activity Changes**: Alterations in NFE2L2 activity are linked to protective effects against age-related functional decline. Specifically, changes in its activity help protect against age-related impairments, indicating that upregulation or activation of this gene may be beneficial for maintaining physiological function during aging.\n",
      "- **No detrimental effects** on lifespan or healthspan were reported in the database.\n",
      "\n",
      "### 3. Known Genetic Interventions\n",
      "- There are **no recorded genetic interventions** (e.g., knockout, overexpression) for NRF2/NFE2L2 in the database that have been tested for effects on lifespan in model organisms.\n",
      "- Therefore, while NRF2 is a well-known target in aging research (especially in oxidative stress response), no specific intervention outcomes are documented in this dataset.\n",
      "\n",
      "### 4. Evolution\n",
      "- The database does not contain explicit evolutionary analysis or cross-species comparison data for NRF2/NFE2L2.\n",
      "- However, given its role in fundamental cellular defense mechanisms (e.g., antioxidant response), NRF2 is highly conserved across species, which implies evolutionary importance in stress resistance and longevity pathways.\n",
      "\n",
      "### 5. Disease Involvement\n",
      "- NFE2L2 is involved in key aging-related processes:\n",
      "  - **Oxidative stress regulation** (via 'accumulation of reactive oxygen species')\n",
      "  - **Inflammation control** (linked to 'sterile inflammation')\n",
      "  - **Protein homeostasis** (via 'degradation of proteolytic systems')\n",
      "  - **Transcriptional regulation** during aging ('transcriptional alterations')\n",
      "  - **Cellular communication** ('intercellular communication impairment')\n",
      "- These associations suggest involvement in age-related diseases such as neurodegenerative disorders, cardiovascular diseases, and cancer, where oxidative damage and chronic inflammation play critical roles.\n",
      "\n",
      "### Summary\n",
      "While **no direct lifespan extension data** is available in the OpenGenes database for NRF2 (NFE2L2), it is clearly implicated in **protecting against age-related functional decline** and is associated with multiple hallmarks of aging. Its role appears to be more aligned with **healthspan improvement** than lifespan extension. The gene regulates critical stress response pathways and is involved in mitigating oxidative damage and inflammation—key drivers of aging and age-related diseases.\n",
      "\n",
      "Thus, although experimental lifespan data is missing in this dataset, the biological evidence supports NRF2 as a significant player in aging biology through health-promoting mechanisms.\n"
     ]
    }
   ],
   "source": [
    "with ToolCollection.from_mcp(\n",
    "    server_parameters=server,\n",
    "    trust_remote_code=True,\n",
    "    structured_output=False\n",
    ") as tools:\n",
    "    agent = ToolCallingAgent(\n",
    "        model=model,\n",
    "        tools=[*tools.tools],\n",
    "        add_base_tools=False,\n",
    "        max_steps=5,\n",
    "    )\n",
    "    agent.prompt_templates[\"system_prompt\"] = SYSTEM_PROMPT\n",
    "    result = agent.run(USER_PROMPT)\n",
    "\n",
    "print(result)"
   ]
  },
  {
   "cell_type": "markdown",
   "id": "314cb14d-317b-4be2-9db9-b1787fc427ea",
   "metadata": {},
   "source": [
    "### Test"
   ]
  },
  {
   "cell_type": "code",
   "execution_count": 29,
   "id": "98682192-0068-4b78-8c6c-df6762829a61",
   "metadata": {},
   "outputs": [
    {
     "name": "stdout",
     "output_type": "stream",
     "text": [
      "The autoreload extension is already loaded. To reload it, use:\n",
      "  %reload_ext autoreload\n"
     ]
    }
   ],
   "source": [
    "%load_ext autoreload\n",
    "%autoreload 2"
   ]
  },
  {
   "cell_type": "code",
   "execution_count": 33,
   "id": "62bcbfb2-9cb9-4c30-89f4-085b5e1a526d",
   "metadata": {},
   "outputs": [],
   "source": [
    "from opengenes import run_query"
   ]
  },
  {
   "cell_type": "code",
   "execution_count": null,
   "id": "2bdbf81d-2a97-42d7-b094-c5f43098ddaa",
   "metadata": {
    "scrolled": true
   },
   "outputs": [
    {
     "data": {
      "text/html": [
       "<pre style=\"white-space:pre;overflow-x:auto;line-height:normal;font-family:Menlo,'DejaVu Sans Mono',consolas,'Courier New',monospace\"><span style=\"color: #d4b702; text-decoration-color: #d4b702\">╭──────────────────────────────────────────────────── </span><span style=\"color: #d4b702; text-decoration-color: #d4b702; font-weight: bold\">New run</span><span style=\"color: #d4b702; text-decoration-color: #d4b702\"> ────────────────────────────────────────────────────╮</span>\n",
       "<span style=\"color: #d4b702; text-decoration-color: #d4b702\">│</span>                                                                                                                 <span style=\"color: #d4b702; text-decoration-color: #d4b702\">│</span>\n",
       "<span style=\"color: #d4b702; text-decoration-color: #d4b702\">│</span> <span style=\"font-weight: bold\">What are:</span>                                                                                                       <span style=\"color: #d4b702; text-decoration-color: #d4b702\">│</span>\n",
       "<span style=\"color: #d4b702; text-decoration-color: #d4b702\">│</span> <span style=\"font-weight: bold\">            - Longevity/lifespan/healthspan association</span>                                                         <span style=\"color: #d4b702; text-decoration-color: #d4b702\">│</span>\n",
       "<span style=\"color: #d4b702; text-decoration-color: #d4b702\">│</span> <span style=\"font-weight: bold\">            - Modification effects</span>                                                                              <span style=\"color: #d4b702; text-decoration-color: #d4b702\">│</span>\n",
       "<span style=\"color: #d4b702; text-decoration-color: #d4b702\">│</span> <span style=\"font-weight: bold\">            - Known genetic interventions</span>                                                                       <span style=\"color: #d4b702; text-decoration-color: #d4b702\">│</span>\n",
       "<span style=\"color: #d4b702; text-decoration-color: #d4b702\">│</span> <span style=\"font-weight: bold\">            - Disease involvement</span>                                                                               <span style=\"color: #d4b702; text-decoration-color: #d4b702\">│</span>\n",
       "<span style=\"color: #d4b702; text-decoration-color: #d4b702\">│</span> <span style=\"font-weight: bold\">            for the gene: NRF2 across different species?</span>                                                        <span style=\"color: #d4b702; text-decoration-color: #d4b702\">│</span>\n",
       "<span style=\"color: #d4b702; text-decoration-color: #d4b702\">│</span> <span style=\"font-weight: bold\">            If there are any known synonyms for the Gene use them to .</span>                                          <span style=\"color: #d4b702; text-decoration-color: #d4b702\">│</span>\n",
       "<span style=\"color: #d4b702; text-decoration-color: #d4b702\">│</span> <span style=\"font-weight: bold\">            If some information is not available in the base for this name of the gene try to find synonyms and</span> <span style=\"color: #d4b702; text-decoration-color: #d4b702\">│</span>\n",
       "<span style=\"color: #d4b702; text-decoration-color: #d4b702\">│</span> <span style=\"font-weight: bold\">find and fetch data for them.</span>                                                                                   <span style=\"color: #d4b702; text-decoration-color: #d4b702\">│</span>\n",
       "<span style=\"color: #d4b702; text-decoration-color: #d4b702\">│</span> <span style=\"font-weight: bold\">            If this attampt alse fails return \"Info not available\".</span>                                             <span style=\"color: #d4b702; text-decoration-color: #d4b702\">│</span>\n",
       "<span style=\"color: #d4b702; text-decoration-color: #d4b702\">│</span>                                                                                                                 <span style=\"color: #d4b702; text-decoration-color: #d4b702\">│</span>\n",
       "<span style=\"color: #d4b702; text-decoration-color: #d4b702\">╰─ OpenAIServerModel - Qwen/Qwen3-235B-A22B-Instruct-2507 ────────────────────────────────────────────────────────╯</span>\n",
       "</pre>\n"
      ],
      "text/plain": [
       "\u001B[38;2;212;183;2m╭─\u001B[0m\u001B[38;2;212;183;2m───────────────────────────────────────────────────\u001B[0m\u001B[38;2;212;183;2m \u001B[0m\u001B[1;38;2;212;183;2mNew run\u001B[0m\u001B[38;2;212;183;2m \u001B[0m\u001B[38;2;212;183;2m───────────────────────────────────────────────────\u001B[0m\u001B[38;2;212;183;2m─╮\u001B[0m\n",
       "\u001B[38;2;212;183;2m│\u001B[0m                                                                                                                 \u001B[38;2;212;183;2m│\u001B[0m\n",
       "\u001B[38;2;212;183;2m│\u001B[0m \u001B[1mWhat are:\u001B[0m                                                                                                       \u001B[38;2;212;183;2m│\u001B[0m\n",
       "\u001B[38;2;212;183;2m│\u001B[0m \u001B[1m            - Longevity/lifespan/healthspan association\u001B[0m                                                         \u001B[38;2;212;183;2m│\u001B[0m\n",
       "\u001B[38;2;212;183;2m│\u001B[0m \u001B[1m            - Modification effects\u001B[0m                                                                              \u001B[38;2;212;183;2m│\u001B[0m\n",
       "\u001B[38;2;212;183;2m│\u001B[0m \u001B[1m            - Known genetic interventions\u001B[0m                                                                       \u001B[38;2;212;183;2m│\u001B[0m\n",
       "\u001B[38;2;212;183;2m│\u001B[0m \u001B[1m            - Disease involvement\u001B[0m                                                                               \u001B[38;2;212;183;2m│\u001B[0m\n",
       "\u001B[38;2;212;183;2m│\u001B[0m \u001B[1m            for the gene: NRF2 across different species?\u001B[0m                                                        \u001B[38;2;212;183;2m│\u001B[0m\n",
       "\u001B[38;2;212;183;2m│\u001B[0m \u001B[1m            If there are any known synonyms for the Gene use them to .\u001B[0m                                          \u001B[38;2;212;183;2m│\u001B[0m\n",
       "\u001B[38;2;212;183;2m│\u001B[0m \u001B[1m            If some information is not available in the base for this name of the gene try to find synonyms and\u001B[0m \u001B[38;2;212;183;2m│\u001B[0m\n",
       "\u001B[38;2;212;183;2m│\u001B[0m \u001B[1mfind and fetch data for them.\u001B[0m                                                                                   \u001B[38;2;212;183;2m│\u001B[0m\n",
       "\u001B[38;2;212;183;2m│\u001B[0m \u001B[1m            If this attampt alse fails return \"Info not available\".\u001B[0m                                             \u001B[38;2;212;183;2m│\u001B[0m\n",
       "\u001B[38;2;212;183;2m│\u001B[0m                                                                                                                 \u001B[38;2;212;183;2m│\u001B[0m\n",
       "\u001B[38;2;212;183;2m╰─\u001B[0m\u001B[38;2;212;183;2m OpenAIServerModel - Qwen/Qwen3-235B-A22B-Instruct-2507 \u001B[0m\u001B[38;2;212;183;2m───────────────────────────────────────────────────────\u001B[0m\u001B[38;2;212;183;2m─╯\u001B[0m\n"
      ]
     },
     "metadata": {},
     "output_type": "display_data"
    },
    {
     "data": {
      "text/html": [
       "<pre style=\"white-space:pre;overflow-x:auto;line-height:normal;font-family:Menlo,'DejaVu Sans Mono',consolas,'Courier New',monospace\"><span style=\"color: #d4b702; text-decoration-color: #d4b702\">━━━━━━━━━━━━━━━━━━━━━━━━━━━━━━━━━━━━━━━━━━━━━━━━━━━━━ </span><span style=\"font-weight: bold\">Step 1</span><span style=\"color: #d4b702; text-decoration-color: #d4b702\"> ━━━━━━━━━━━━━━━━━━━━━━━━━━━━━━━━━━━━━━━━━━━━━━━━━━━━━━</span>\n",
       "</pre>\n"
      ],
      "text/plain": [
       "\u001B[38;2;212;183;2m━━━━━━━━━━━━━━━━━━━━━━━━━━━━━━━━━━━━━━━━━━━━━━━━━━━━━ \u001B[0m\u001B[1mStep 1\u001B[0m\u001B[38;2;212;183;2m ━━━━━━━━━━━━━━━━━━━━━━━━━━━━━━━━━━━━━━━━━━━━━━━━━━━━━━\u001B[0m\n"
      ]
     },
     "metadata": {},
     "output_type": "display_data"
    },
    {
     "data": {
      "text/html": [
       "<pre style=\"white-space:pre;overflow-x:auto;line-height:normal;font-family:Menlo,'DejaVu Sans Mono',consolas,'Courier New',monospace\">╭─────────────────────────────────────────────────────────────────────────────────────────────────────────────────╮\n",
       "│ Calling tool: 'opengenes_get_schema_info' with arguments: {}                                                    │\n",
       "╰─────────────────────────────────────────────────────────────────────────────────────────────────────────────────╯\n",
       "</pre>\n"
      ],
      "text/plain": [
       "╭─────────────────────────────────────────────────────────────────────────────────────────────────────────────────╮\n",
       "│ Calling tool: 'opengenes_get_schema_info' with arguments: {}                                                    │\n",
       "╰─────────────────────────────────────────────────────────────────────────────────────────────────────────────────╯\n"
      ]
     },
     "metadata": {},
     "output_type": "display_data"
    },
    {
     "data": {
      "text/html": [
       "<pre style=\"white-space:pre;overflow-x:auto;line-height:normal;font-family:Menlo,'DejaVu Sans Mono',consolas,'Courier New',monospace\">╭─────────────────────────────────────────────────────────────────────────────────────────────────────────────────╮\n",
       "│ Calling tool: 'opengenes_example_queries' with arguments: {}                                                    │\n",
       "╰─────────────────────────────────────────────────────────────────────────────────────────────────────────────────╯\n",
       "</pre>\n"
      ],
      "text/plain": [
       "╭─────────────────────────────────────────────────────────────────────────────────────────────────────────────────╮\n",
       "│ Calling tool: 'opengenes_example_queries' with arguments: {}                                                    │\n",
       "╰─────────────────────────────────────────────────────────────────────────────────────────────────────────────────╯\n"
      ]
     },
     "metadata": {},
     "output_type": "display_data"
    },
    {
     "data": {
      "text/html": [
       "<pre style=\"white-space:pre;overflow-x:auto;line-height:normal;font-family:Menlo,'DejaVu Sans Mono',consolas,'Courier New',monospace\">Observations: |{\"category\":\"Lifespan Effects - Ordered by Magnitude\",\"description\":\"Genes that increase lifespan, \n",
       "ordered by greatest extension first\",\"query\":\"SELECT HGNC, model_organism, effect_on_lifespan, \n",
       "lifespan_percent_change_mean FROM lifespan_change WHERE effect_on_lifespan = 'increases lifespan' AND \n",
       "lifespan_percent_change_mean IS NOT NULL ORDER BY lifespan_percent_change_mean DESC\",\"key_concept\":\"Always order \n",
       "lifespan results by magnitude for relevance. Use LIMIT only when user specifically asks for 'top N' or \n",
       "similar\"},{\"category\":\"Lifespan Effects - Ordered by Magnitude\",\"description\":\"Genes that decrease lifespan, \n",
       "ordered by greatest reduction first\",\"query\":\"SELECT HGNC, model_organism, effect_on_lifespan, \n",
       "lifespan_percent_change_mean FROM lifespan_change WHERE effect_on_lifespan = 'decreases lifespan' AND \n",
       "lifespan_percent_change_mean IS NOT NULL ORDER BY lifespan_percent_change_mean ASC\",\"key_concept\":\"Use ASC ordering\n",
       "for lifespan reductions to show largest decreases first. Use LIMIT only when user specifically asks for 'top N' or \n",
       "similar\"},{\"category\":\"Lifespan Effects - Mean vs Maximum\",\"description\":\"Show both mean and maximum lifespan \n",
       "changes when user asks about lifespan effects\",\"query\":\"SELECT HGNC, model_organism, effect_on_lifespan, \n",
       "lifespan_percent_change_mean, lifespan_percent_change_max, significance_mean, significance_max FROM lifespan_change\n",
       "WHERE effect_on_lifespan = 'increases lifespan' AND (lifespan_percent_change_mean IS NOT NULL OR \n",
       "lifespan_percent_change_max IS NOT NULL) ORDER BY COALESCE(lifespan_percent_change_mean, \n",
       "lifespan_percent_change_max) DESC\",\"key_concept\":\"IMPORTANT: When user asks about lifespan effects without \n",
       "specifying mean vs max, show both metrics. Researchers may be interested in either average effects or maximum \n",
       "potential. Use LIMIT only when user specifically asks for 'top N' or similar\"},{\"category\":\"Lifespan Effects - Mean\n",
       "vs Maximum\",\"description\":\"Compare mean vs maximum lifespan changes for the same interventions\",\"query\":\"SELECT \n",
       "HGNC, model_organism, lifespan_percent_change_mean, lifespan_percent_change_max, (lifespan_percent_change_max - \n",
       "lifespan_percent_change_mean) as max_vs_mean_diff FROM lifespan_change WHERE lifespan_percent_change_mean IS NOT \n",
       "NULL AND lifespan_percent_change_max IS NOT NULL AND effect_on_lifespan = 'increases lifespan' ORDER BY \n",
       "max_vs_mean_diff DESC\",\"key_concept\":\"Show the difference between maximum and mean effects to highlight variability\n",
       "in responses. Use LIMIT only when user specifically asks for 'top N' or similar\"},{\"category\":\"Multi-Value Fields -\n",
       "LIKE Queries\",\"description\":\"Find genes associated with stem cell exhaustion hallmark\",\"query\":\"SELECT HGNC, \n",
       "\\\"hallmarks of aging\\\" FROM gene_hallmarks WHERE \\\"hallmarks of aging\\\" LIKE '%stem cell \n",
       "exhaustion%'\",\"key_concept\":\"CRITICAL: Always use LIKE with wildcards for multi-value \n",
       "fields\"},{\"category\":\"Multi-Value Fields - LIKE Queries\",\"description\":\"Find interventions that improve \n",
       "cardiovascular system\",\"query\":\"SELECT HGNC, intervention_improves, effect_on_lifespan, \n",
       "lifespan_percent_change_mean FROM lifespan_change WHERE intervention_improves LIKE '%cardiovascular system%' ORDER \n",
       "BY lifespan_percent_change_mean DESC\",\"key_concept\":\"Use LIKE queries for intervention_improves and \n",
       "intervention_deteriorates columns\"},{\"category\":\"Multi-Value Fields - LIKE Queries\",\"description\":\"Find genes \n",
       "affecting mitochondrial function\",\"query\":\"SELECT HGNC, \\\"hallmarks of aging\\\" FROM gene_hallmarks WHERE \n",
       "\\\"hallmarks of aging\\\" LIKE '%mitochondrial%'\",\"key_concept\":\"Multi-value hallmarks field requires LIKE pattern \n",
       "matching\"},{\"category\":\"Cross-Table Analysis\",\"description\":\"Genes with both experimental lifespan effects and \n",
       "population longevity associations\",\"query\":\"SELECT DISTINCT lc.HGNC, lc.effect_on_lifespan, lc.model_organism, \n",
       "la.ethnicity, la.\\\"study type\\\" FROM lifespan_change lc INNER JOIN longevity_associations la ON lc.HGNC = la.HGNC \n",
       "WHERE lc.effect_on_lifespan = 'increases lifespan'\",\"key_concept\":\"Join tables using HGNC to combine experimental \n",
       "and population data\"},{\"category\":\"Cross-Table Analysis - CRITICAL PATTERN\",\"description\":\"COMPREHENSIVE AGING \n",
       "EVIDENCE: For questions asking about 'evidence of gene X and aging', ALWAYS query ALL 4 tables\",\"query\":\"SELECT \n",
       "criteria FROM gene_criteria WHERE HGNC = 'PTEN'\",\"key_concept\":\"CRITICAL: For comprehensive aging evidence \n",
       "questions (like 'What evidence of the link between X and aging'), you MUST query ALL 4 tables: 1) gene_criteria 2) \n",
       "gene_hallmarks 3) lifespan_change 4) longevity_associations. The longevity_associations table contains crucial \n",
       "human population study data that must be included.\"},{\"category\":\"Cross-Table Analysis - HUMAN POPULATION \n",
       "DATA\",\"description\":\"ALWAYS include human longevity associations when asked about aging evidence\",\"query\":\"SELECT \n",
       "\\\"polymorphism id\\\", \\\"nucleotide substitution\\\", \\\"amino acid substitution\\\", ethnicity, \\\"study type\\\" FROM \n",
       "longevity_associations WHERE HGNC = 'PTEN'\",\"key_concept\":\"ESSENTIAL: When user asks for aging evidence of a gene, \n",
       "human population studies from longevity_associations table are a key component. Include polymorphism details, \n",
       "ethnicity, and study type.\"},{\"category\":\"Cross-Table Analysis\",\"description\":\"Genes with lifespan effects and \n",
       "their aging criteria\",\"query\":\"SELECT lc.HGNC, lc.effect_on_lifespan, lc.lifespan_percent_change_mean, gc.criteria \n",
       "FROM lifespan_change lc INNER JOIN gene_criteria gc ON lc.HGNC = gc.HGNC WHERE lc.lifespan_percent_change_mean &gt; 20\n",
       "ORDER BY lc.lifespan_percent_change_mean DESC\",\"key_concept\":\"Combine lifespan data with criteria to understand \n",
       "gene classifications\"},{\"category\":\"Model Organism Studies\",\"description\":\"Compare gene effects across mammals vs \n",
       "non-mammals\",\"query\":\"SELECT HGNC, model_organism, effect_on_lifespan, lifespan_percent_change_mean FROM \n",
       "lifespan_change WHERE HGNC IN (SELECT HGNC FROM lifespan_change WHERE model_organism IN ('mouse', 'rat', 'rabbit', \n",
       "'hamster')) AND HGNC IN (SELECT HGNC FROM lifespan_change WHERE model_organism IN ('roundworm Caenorhabditis \n",
       "elegans', 'fly Drosophila melanogaster', 'yeasts')) ORDER BY HGNC, model_organism\",\"key_concept\":\"Use subqueries to\n",
       "find genes studied in multiple organism types\"},{\"category\":\"Model Organism Studies\",\"description\":\"Mouse studies \n",
       "with significant lifespan changes (both mean and max)\",\"query\":\"SELECT HGNC, effect_on_lifespan, \n",
       "lifespan_percent_change_mean, lifespan_percent_change_max, significance_mean, significance_max FROM lifespan_change\n",
       "WHERE model_organism = 'mouse' AND (significance_mean = 1 OR significance_max = 1) AND \n",
       "(lifespan_percent_change_mean IS NOT NULL OR lifespan_percent_change_max IS NOT NULL) ORDER BY \n",
       "COALESCE(ABS(lifespan_percent_change_mean), ABS(lifespan_percent_change_max)) DESC\",\"key_concept\":\"Filter by \n",
       "significance and show both mean and max when available, order by absolute change \n",
       "magnitude\"},{\"category\":\"Intervention Methods\",\"description\":\"Compare knockout vs overexpression effects on both \n",
       "mean and maximum lifespan\",\"query\":\"SELECT intervention_method, effect_on_lifespan, COUNT(*) as count, \n",
       "AVG(lifespan_percent_change_mean) as avg_mean_change, AVG(lifespan_percent_change_max) as avg_max_change FROM \n",
       "lifespan_change WHERE intervention_method IN ('gene knockout', 'additional copies of a gene in the genome') AND \n",
       "(lifespan_percent_change_mean IS NOT NULL OR lifespan_percent_change_max IS NOT NULL) GROUP BY intervention_method,\n",
       "effect_on_lifespan ORDER BY intervention_method, avg_mean_change DESC\",\"key_concept\":\"Group by intervention method \n",
       "and show both mean and maximum lifespan metrics to compare approaches comprehensively\"},{\"category\":\"Population \n",
       "Genetics\",\"description\":\"Longevity associations by ethnicity and study type\",\"query\":\"SELECT ethnicity, \\\"study \n",
       "type\\\", COUNT(*) as association_count FROM longevity_associations WHERE ethnicity != 'n/a' GROUP BY ethnicity, \n",
       "\\\"study type\\\" ORDER BY association_count DESC\",\"key_concept\":\"Analyze population genetics patterns across \n",
       "ethnicities. No LIMIT needed for aggregate statistics\"},{\"category\":\"Population Genetics\",\"description\":\"ALL \n",
       "polymorphisms for specific genes (no LIMIT when user asks about gene polymorphisms)\",\"query\":\"SELECT HGNC, \n",
       "\\\"polymorphism type\\\", \\\"polymorphism id\\\", \\\"nucleotide substitution\\\", ethnicity, \\\"study type\\\" FROM \n",
       "longevity_associations WHERE HGNC = 'FOXO3'\",\"key_concept\":\"When user asks about polymorphisms in a gene, show ALL \n",
       "entries without LIMIT to provide complete information\"},{\"category\":\"Population Genetics - When to use \n",
       "LIMIT\",\"description\":\"Top 5 genes with most longevity associations (LIMIT appropriate here)\",\"query\":\"SELECT HGNC, \n",
       "COUNT(*) as association_count FROM longevity_associations GROUP BY HGNC ORDER BY association_count DESC LIMIT \n",
       "5\",\"key_concept\":\"Use LIMIT only when user specifically asks for 'top N' results or similar superlative \n",
       "language\"},{\"category\":\"Summary Statistics\",\"description\":\"Top genes by number of experiments across all organisms \n",
       "(use LIMIT only when user asks for 'top N')\",\"query\":\"SELECT HGNC, COUNT(*) as experiment_count, COUNT(DISTINCT \n",
       "model_organism) as organism_count FROM lifespan_change WHERE HGNC IS NOT NULL GROUP BY HGNC ORDER BY \n",
       "experiment_count DESC LIMIT 10\",\"key_concept\":\"Count experiments and organisms per gene for research breadth. Use \n",
       "LIMIT only when user specifically asks for 'top N' genes, otherwise show all results\"},{\"category\":\"Summary \n",
       "Statistics\",\"description\":\"Distribution of lifespan effects by organism (including both mean and max \n",
       "metrics)\",\"query\":\"SELECT model_organism, effect_on_lifespan, COUNT(*) as count, AVG(lifespan_percent_change_mean) \n",
       "as avg_mean_change, AVG(lifespan_percent_change_max) as avg_max_change, COUNT(CASE WHEN \n",
       "lifespan_percent_change_mean IS NOT NULL THEN 1 END) as mean_data_points, COUNT(CASE WHEN \n",
       "lifespan_percent_change_max IS NOT NULL THEN 1 END) as max_data_points FROM lifespan_change GROUP BY \n",
       "model_organism, effect_on_lifespan ORDER BY model_organism, count DESC\",\"key_concept\":\"Analyze effect distributions\n",
       "across model organisms with both metrics and data availability counts\"},{\"category\":\"Advanced \n",
       "Patterns\",\"description\":\"Genes with multiple aging hallmarks (complex multi-value query)\",\"query\":\"SELECT HGNC, \n",
       "\\\"hallmarks of aging\\\", (LENGTH(\\\"hallmarks of aging\\\") - LENGTH(REPLACE(\\\"hallmarks of aging\\\", ',', '')) + 1) as \n",
       "hallmark_count FROM gene_hallmarks WHERE hallmark_count &gt; 3 ORDER BY hallmark_count DESC\",\"key_concept\":\"Count \n",
       "comma-separated values in multi-value fields\"},{\"category\":\"Advanced Patterns\",\"description\":\"Genes affecting both \n",
       "lifespan and specific biological processes\",\"query\":\"SELECT lc.HGNC, lc.effect_on_lifespan, \n",
       "lc.lifespan_percent_change_mean, lc.intervention_improves FROM lifespan_change lc WHERE lc.intervention_improves \n",
       "LIKE '%cardiovascular system%' AND lc.intervention_improves LIKE '%cognitive function%' ORDER BY \n",
       "lc.lifespan_percent_change_mean DESC\",\"key_concept\":\"Use multiple LIKE conditions to find genes affecting multiple \n",
       "systems\"}]\n",
       "</pre>\n"
      ],
      "text/plain": [
       "Observations: |{\"category\":\"Lifespan Effects - Ordered by Magnitude\",\"description\":\"Genes that increase lifespan, \n",
       "ordered by greatest extension first\",\"query\":\"SELECT HGNC, model_organism, effect_on_lifespan, \n",
       "lifespan_percent_change_mean FROM lifespan_change WHERE effect_on_lifespan = 'increases lifespan' AND \n",
       "lifespan_percent_change_mean IS NOT NULL ORDER BY lifespan_percent_change_mean DESC\",\"key_concept\":\"Always order \n",
       "lifespan results by magnitude for relevance. Use LIMIT only when user specifically asks for 'top N' or \n",
       "similar\"},{\"category\":\"Lifespan Effects - Ordered by Magnitude\",\"description\":\"Genes that decrease lifespan, \n",
       "ordered by greatest reduction first\",\"query\":\"SELECT HGNC, model_organism, effect_on_lifespan, \n",
       "lifespan_percent_change_mean FROM lifespan_change WHERE effect_on_lifespan = 'decreases lifespan' AND \n",
       "lifespan_percent_change_mean IS NOT NULL ORDER BY lifespan_percent_change_mean ASC\",\"key_concept\":\"Use ASC ordering\n",
       "for lifespan reductions to show largest decreases first. Use LIMIT only when user specifically asks for 'top N' or \n",
       "similar\"},{\"category\":\"Lifespan Effects - Mean vs Maximum\",\"description\":\"Show both mean and maximum lifespan \n",
       "changes when user asks about lifespan effects\",\"query\":\"SELECT HGNC, model_organism, effect_on_lifespan, \n",
       "lifespan_percent_change_mean, lifespan_percent_change_max, significance_mean, significance_max FROM lifespan_change\n",
       "WHERE effect_on_lifespan = 'increases lifespan' AND (lifespan_percent_change_mean IS NOT NULL OR \n",
       "lifespan_percent_change_max IS NOT NULL) ORDER BY COALESCE(lifespan_percent_change_mean, \n",
       "lifespan_percent_change_max) DESC\",\"key_concept\":\"IMPORTANT: When user asks about lifespan effects without \n",
       "specifying mean vs max, show both metrics. Researchers may be interested in either average effects or maximum \n",
       "potential. Use LIMIT only when user specifically asks for 'top N' or similar\"},{\"category\":\"Lifespan Effects - Mean\n",
       "vs Maximum\",\"description\":\"Compare mean vs maximum lifespan changes for the same interventions\",\"query\":\"SELECT \n",
       "HGNC, model_organism, lifespan_percent_change_mean, lifespan_percent_change_max, (lifespan_percent_change_max - \n",
       "lifespan_percent_change_mean) as max_vs_mean_diff FROM lifespan_change WHERE lifespan_percent_change_mean IS NOT \n",
       "NULL AND lifespan_percent_change_max IS NOT NULL AND effect_on_lifespan = 'increases lifespan' ORDER BY \n",
       "max_vs_mean_diff DESC\",\"key_concept\":\"Show the difference between maximum and mean effects to highlight variability\n",
       "in responses. Use LIMIT only when user specifically asks for 'top N' or similar\"},{\"category\":\"Multi-Value Fields -\n",
       "LIKE Queries\",\"description\":\"Find genes associated with stem cell exhaustion hallmark\",\"query\":\"SELECT HGNC, \n",
       "\\\"hallmarks of aging\\\" FROM gene_hallmarks WHERE \\\"hallmarks of aging\\\" LIKE '%stem cell \n",
       "exhaustion%'\",\"key_concept\":\"CRITICAL: Always use LIKE with wildcards for multi-value \n",
       "fields\"},{\"category\":\"Multi-Value Fields - LIKE Queries\",\"description\":\"Find interventions that improve \n",
       "cardiovascular system\",\"query\":\"SELECT HGNC, intervention_improves, effect_on_lifespan, \n",
       "lifespan_percent_change_mean FROM lifespan_change WHERE intervention_improves LIKE '%cardiovascular system%' ORDER \n",
       "BY lifespan_percent_change_mean DESC\",\"key_concept\":\"Use LIKE queries for intervention_improves and \n",
       "intervention_deteriorates columns\"},{\"category\":\"Multi-Value Fields - LIKE Queries\",\"description\":\"Find genes \n",
       "affecting mitochondrial function\",\"query\":\"SELECT HGNC, \\\"hallmarks of aging\\\" FROM gene_hallmarks WHERE \n",
       "\\\"hallmarks of aging\\\" LIKE '%mitochondrial%'\",\"key_concept\":\"Multi-value hallmarks field requires LIKE pattern \n",
       "matching\"},{\"category\":\"Cross-Table Analysis\",\"description\":\"Genes with both experimental lifespan effects and \n",
       "population longevity associations\",\"query\":\"SELECT DISTINCT lc.HGNC, lc.effect_on_lifespan, lc.model_organism, \n",
       "la.ethnicity, la.\\\"study type\\\" FROM lifespan_change lc INNER JOIN longevity_associations la ON lc.HGNC = la.HGNC \n",
       "WHERE lc.effect_on_lifespan = 'increases lifespan'\",\"key_concept\":\"Join tables using HGNC to combine experimental \n",
       "and population data\"},{\"category\":\"Cross-Table Analysis - CRITICAL PATTERN\",\"description\":\"COMPREHENSIVE AGING \n",
       "EVIDENCE: For questions asking about 'evidence of gene X and aging', ALWAYS query ALL 4 tables\",\"query\":\"SELECT \n",
       "criteria FROM gene_criteria WHERE HGNC = 'PTEN'\",\"key_concept\":\"CRITICAL: For comprehensive aging evidence \n",
       "questions (like 'What evidence of the link between X and aging'), you MUST query ALL 4 tables: 1) gene_criteria 2) \n",
       "gene_hallmarks 3) lifespan_change 4) longevity_associations. The longevity_associations table contains crucial \n",
       "human population study data that must be included.\"},{\"category\":\"Cross-Table Analysis - HUMAN POPULATION \n",
       "DATA\",\"description\":\"ALWAYS include human longevity associations when asked about aging evidence\",\"query\":\"SELECT \n",
       "\\\"polymorphism id\\\", \\\"nucleotide substitution\\\", \\\"amino acid substitution\\\", ethnicity, \\\"study type\\\" FROM \n",
       "longevity_associations WHERE HGNC = 'PTEN'\",\"key_concept\":\"ESSENTIAL: When user asks for aging evidence of a gene, \n",
       "human population studies from longevity_associations table are a key component. Include polymorphism details, \n",
       "ethnicity, and study type.\"},{\"category\":\"Cross-Table Analysis\",\"description\":\"Genes with lifespan effects and \n",
       "their aging criteria\",\"query\":\"SELECT lc.HGNC, lc.effect_on_lifespan, lc.lifespan_percent_change_mean, gc.criteria \n",
       "FROM lifespan_change lc INNER JOIN gene_criteria gc ON lc.HGNC = gc.HGNC WHERE lc.lifespan_percent_change_mean > 20\n",
       "ORDER BY lc.lifespan_percent_change_mean DESC\",\"key_concept\":\"Combine lifespan data with criteria to understand \n",
       "gene classifications\"},{\"category\":\"Model Organism Studies\",\"description\":\"Compare gene effects across mammals vs \n",
       "non-mammals\",\"query\":\"SELECT HGNC, model_organism, effect_on_lifespan, lifespan_percent_change_mean FROM \n",
       "lifespan_change WHERE HGNC IN (SELECT HGNC FROM lifespan_change WHERE model_organism IN ('mouse', 'rat', 'rabbit', \n",
       "'hamster')) AND HGNC IN (SELECT HGNC FROM lifespan_change WHERE model_organism IN ('roundworm Caenorhabditis \n",
       "elegans', 'fly Drosophila melanogaster', 'yeasts')) ORDER BY HGNC, model_organism\",\"key_concept\":\"Use subqueries to\n",
       "find genes studied in multiple organism types\"},{\"category\":\"Model Organism Studies\",\"description\":\"Mouse studies \n",
       "with significant lifespan changes (both mean and max)\",\"query\":\"SELECT HGNC, effect_on_lifespan, \n",
       "lifespan_percent_change_mean, lifespan_percent_change_max, significance_mean, significance_max FROM lifespan_change\n",
       "WHERE model_organism = 'mouse' AND (significance_mean = 1 OR significance_max = 1) AND \n",
       "(lifespan_percent_change_mean IS NOT NULL OR lifespan_percent_change_max IS NOT NULL) ORDER BY \n",
       "COALESCE(ABS(lifespan_percent_change_mean), ABS(lifespan_percent_change_max)) DESC\",\"key_concept\":\"Filter by \n",
       "significance and show both mean and max when available, order by absolute change \n",
       "magnitude\"},{\"category\":\"Intervention Methods\",\"description\":\"Compare knockout vs overexpression effects on both \n",
       "mean and maximum lifespan\",\"query\":\"SELECT intervention_method, effect_on_lifespan, COUNT(*) as count, \n",
       "AVG(lifespan_percent_change_mean) as avg_mean_change, AVG(lifespan_percent_change_max) as avg_max_change FROM \n",
       "lifespan_change WHERE intervention_method IN ('gene knockout', 'additional copies of a gene in the genome') AND \n",
       "(lifespan_percent_change_mean IS NOT NULL OR lifespan_percent_change_max IS NOT NULL) GROUP BY intervention_method,\n",
       "effect_on_lifespan ORDER BY intervention_method, avg_mean_change DESC\",\"key_concept\":\"Group by intervention method \n",
       "and show both mean and maximum lifespan metrics to compare approaches comprehensively\"},{\"category\":\"Population \n",
       "Genetics\",\"description\":\"Longevity associations by ethnicity and study type\",\"query\":\"SELECT ethnicity, \\\"study \n",
       "type\\\", COUNT(*) as association_count FROM longevity_associations WHERE ethnicity != 'n/a' GROUP BY ethnicity, \n",
       "\\\"study type\\\" ORDER BY association_count DESC\",\"key_concept\":\"Analyze population genetics patterns across \n",
       "ethnicities. No LIMIT needed for aggregate statistics\"},{\"category\":\"Population Genetics\",\"description\":\"ALL \n",
       "polymorphisms for specific genes (no LIMIT when user asks about gene polymorphisms)\",\"query\":\"SELECT HGNC, \n",
       "\\\"polymorphism type\\\", \\\"polymorphism id\\\", \\\"nucleotide substitution\\\", ethnicity, \\\"study type\\\" FROM \n",
       "longevity_associations WHERE HGNC = 'FOXO3'\",\"key_concept\":\"When user asks about polymorphisms in a gene, show ALL \n",
       "entries without LIMIT to provide complete information\"},{\"category\":\"Population Genetics - When to use \n",
       "LIMIT\",\"description\":\"Top 5 genes with most longevity associations (LIMIT appropriate here)\",\"query\":\"SELECT HGNC, \n",
       "COUNT(*) as association_count FROM longevity_associations GROUP BY HGNC ORDER BY association_count DESC LIMIT \n",
       "5\",\"key_concept\":\"Use LIMIT only when user specifically asks for 'top N' results or similar superlative \n",
       "language\"},{\"category\":\"Summary Statistics\",\"description\":\"Top genes by number of experiments across all organisms \n",
       "(use LIMIT only when user asks for 'top N')\",\"query\":\"SELECT HGNC, COUNT(*) as experiment_count, COUNT(DISTINCT \n",
       "model_organism) as organism_count FROM lifespan_change WHERE HGNC IS NOT NULL GROUP BY HGNC ORDER BY \n",
       "experiment_count DESC LIMIT 10\",\"key_concept\":\"Count experiments and organisms per gene for research breadth. Use \n",
       "LIMIT only when user specifically asks for 'top N' genes, otherwise show all results\"},{\"category\":\"Summary \n",
       "Statistics\",\"description\":\"Distribution of lifespan effects by organism (including both mean and max \n",
       "metrics)\",\"query\":\"SELECT model_organism, effect_on_lifespan, COUNT(*) as count, AVG(lifespan_percent_change_mean) \n",
       "as avg_mean_change, AVG(lifespan_percent_change_max) as avg_max_change, COUNT(CASE WHEN \n",
       "lifespan_percent_change_mean IS NOT NULL THEN 1 END) as mean_data_points, COUNT(CASE WHEN \n",
       "lifespan_percent_change_max IS NOT NULL THEN 1 END) as max_data_points FROM lifespan_change GROUP BY \n",
       "model_organism, effect_on_lifespan ORDER BY model_organism, count DESC\",\"key_concept\":\"Analyze effect distributions\n",
       "across model organisms with both metrics and data availability counts\"},{\"category\":\"Advanced \n",
       "Patterns\",\"description\":\"Genes with multiple aging hallmarks (complex multi-value query)\",\"query\":\"SELECT HGNC, \n",
       "\\\"hallmarks of aging\\\", (LENGTH(\\\"hallmarks of aging\\\") - LENGTH(REPLACE(\\\"hallmarks of aging\\\", ',', '')) + 1) as \n",
       "hallmark_count FROM gene_hallmarks WHERE hallmark_count > 3 ORDER BY hallmark_count DESC\",\"key_concept\":\"Count \n",
       "comma-separated values in multi-value fields\"},{\"category\":\"Advanced Patterns\",\"description\":\"Genes affecting both \n",
       "lifespan and specific biological processes\",\"query\":\"SELECT lc.HGNC, lc.effect_on_lifespan, \n",
       "lc.lifespan_percent_change_mean, lc.intervention_improves FROM lifespan_change lc WHERE lc.intervention_improves \n",
       "LIKE '%cardiovascular system%' AND lc.intervention_improves LIKE '%cognitive function%' ORDER BY \n",
       "lc.lifespan_percent_change_mean DESC\",\"key_concept\":\"Use multiple LIKE conditions to find genes affecting multiple \n",
       "systems\"}]\n"
      ]
     },
     "metadata": {},
     "output_type": "display_data"
    },
    {
     "data": {
      "text/html": [
       "<pre style=\"white-space:pre;overflow-x:auto;line-height:normal;font-family:Menlo,'DejaVu Sans Mono',consolas,'Courier New',monospace\">Observations: {\"database_overview\":{\"description\":\"OpenGenes database contains aging and lifespan research data \n",
       "with 4 main tables linked by HGNC gene symbols\",\"total_tables\":4,\"primary_key\":\"HGNC (gene symbol) - links all \n",
       "tables together\"},\"critical_query_guidelines\":{\"multi_value_fields\":{\"description\":\"Some columns contain \n",
       "comma-separated values. ALWAYS use LIKE queries with wildcards for these \n",
       "fields.\",\"fields\":|\"gene_hallmarks.'hallmarks of aging' - contains multiple aging hallmarks per \n",
       "gene\",\"lifespan_change.intervention_deteriorates - multiple biological processes that \n",
       "deteriorate\",\"lifespan_change.intervention_improves - multiple biological processes that \n",
       "improve\"],\"example_syntax\":\"WHERE \\\"hallmarks of aging\\\" LIKE '%stem cell \n",
       "exhaustion%'\"},\"lifespan_metrics\":{\"description\":\"Database contains both mean and maximum lifespan change metrics. \n",
       "When user asks about lifespan effects without specifying, show both.\",\"mean_vs_max\":\"lifespan_percent_change_mean \n",
       "shows average effect, lifespan_percent_change_max shows maximum observed effect\",\"when_to_show_both\":\"If user asks \n",
       "about 'lifespan effects' or 'lifespan changes' without specifying mean vs max, include both \n",
       "metrics\",\"ordering_both\":\"Use COALESCE(lifespan_percent_change_mean, lifespan_percent_change_max) for ordering when\n",
       "showing both\",\"significance\":\"Both mean and max have corresponding significance columns (significance_mean, \n",
       "significance_max)\"},\"result_ordering\":{\"lifespan_extension\":\"ORDER BY lifespan_percent_change_mean DESC (highest \n",
       "increase first)\",\"lifespan_reduction\":\"ORDER BY lifespan_percent_change_mean ASC (largest decrease \n",
       "first)\",\"importance\":\"Always order lifespan results by magnitude of effect for relevance\",\"both_metrics\":\"When \n",
       "showing both mean and max, use COALESCE for ordering or show \n",
       "comparison\"},\"comprehensive_aging_evidence\":{\"description\":\"For questions about aging evidence, link to aging, or \n",
       "longevity associations for a gene, query ALL 4 tables for complete evidence\",\"required_tables\":\"1) gene_criteria \n",
       "(aging-related criteria), 2) gene_hallmarks (aging pathways), 3) lifespan_change (experimental effects), 4) \n",
       "longevity_associations (human population studies)\",\"example_patterns\":\"Evidence of X and aging, Link between X and \n",
       "aging, X gene aging associations, What evidence links X to aging\",\"critical_note\":\"Do NOT omit \n",
       "longevity_associations table - it contains crucial human population genetics data\"},\"gene_queries\":\"Use HGNC column\n",
       "for gene symbols (TP53, FOXO3, etc.)\",\"safety\":\"Only SELECT queries allowed - no INSERT, UPDATE, DELETE, or DDL \n",
       "operations\"},\"tables\":{\"lifespan_change\":{\"description\":{\"purpose\":\"Experimental data on how gene modifications \n",
       "affect lifespan in various model organisms\",\"key_columns\":\"HGNC, model_organism, effect_on_lifespan, intervention \n",
       "methods, lifespan measurements\",\"use_cases\":\"Questions about gene effects on lifespan, experimental conditions, \n",
       "organism studies\",\"special_notes\":\"Contains multi-value fields for intervention effects. Use LIKE queries for \n",
       "intervention_deteriorates and intervention_improves \n",
       "columns.\"},\"columns\":|{\"name\":\"HGNC\",\"type\":\"TEXT\",\"nullable\":true,\"primary_key\":false,\"description\":\"Gene symbol \n",
       "(standard gene names like TP53, \n",
       "FOXO3)\"},{\"name\":\"model_organism\",\"type\":\"TEXT\",\"nullable\":true,\"primary_key\":false,\"description\":\"Organism used \n",
       "for experiment (mouse, C. elegans, fly, \n",
       "etc.)\"},{\"name\":\"sex\",\"type\":\"TEXT\",\"nullable\":true,\"primary_key\":false,\"description\":\"Sex of organism used (male, \n",
       "female, all, hermaphrodites, \n",
       "etc.)\"},{\"name\":\"line\",\"type\":\"TEXT\",\"nullable\":true,\"primary_key\":false,\"description\":\"\"},{\"name\":\"effect_on_lifes\n",
       "pan\",\"type\":\"TEXT\",\"nullable\":true,\"primary_key\":false,\"description\":\"Direction of lifespan change \n",
       "(increases/decreases/no \n",
       "change)\"},{\"name\":\"control_cohort_size\",\"type\":\"REAL\",\"nullable\":true,\"primary_key\":false,\"description\":\"\"},{\"name\"\n",
       ":\"experiment_cohort_size\",\"type\":\"REAL\",\"nullable\":true,\"primary_key\":false,\"description\":\"\"},{\"name\":\"quantity_of_\n",
       "animals_in_cage_or_container\",\"type\":\"REAL\",\"nullable\":true,\"primary_key\":false,\"description\":\"\"},{\"name\":\"containm\n",
       "ent_t_celsius_from\",\"type\":\"REAL\",\"nullable\":true,\"primary_key\":false,\"description\":\"\"},{\"name\":\"containment_t_cels\n",
       "ius_to\",\"type\":\"TEXT\",\"nullable\":true,\"primary_key\":false,\"description\":\"\"},{\"name\":\"diet\",\"type\":\"TEXT\",\"nullable\"\n",
       ":true,\"primary_key\":false,\"description\":\"\"},{\"name\":\"target_gene_expression_change\",\"type\":\"REAL\",\"nullable\":true,\"\n",
       "primary_key\":false,\"description\":\"\"},{\"name\":\"control_lifespan_min\",\"type\":\"REAL\",\"nullable\":true,\"primary_key\":fal\n",
       "se,\"description\":\"\"},{\"name\":\"control_lifespan_mean\",\"type\":\"REAL\",\"nullable\":true,\"primary_key\":false,\"description\n",
       "\":\"Mean lifespan of control \n",
       "group\"},{\"name\":\"control_lifespan_median\",\"type\":\"REAL\",\"nullable\":true,\"primary_key\":false,\"description\":\"\"},{\"nam\n",
       "e\":\"control_lifespan_max\",\"type\":\"REAL\",\"nullable\":true,\"primary_key\":false,\"description\":\"\"},{\"name\":\"experiment_l\n",
       "ifespan_min\",\"type\":\"REAL\",\"nullable\":true,\"primary_key\":false,\"description\":\"\"},{\"name\":\"experiment_lifespan_mean\"\n",
       ",\"type\":\"REAL\",\"nullable\":true,\"primary_key\":false,\"description\":\"Mean lifespan of experimental \n",
       "group\"},{\"name\":\"experiment_lifespan_median\",\"type\":\"REAL\",\"nullable\":true,\"primary_key\":false,\"description\":\"\"},{\"\n",
       "name\":\"experiment_lifespan_max\",\"type\":\"REAL\",\"nullable\":true,\"primary_key\":false,\"description\":\"\"},{\"name\":\"lifesp\n",
       "an_time_unit\",\"type\":\"TEXT\",\"nullable\":true,\"primary_key\":false,\"description\":\"\"},{\"name\":\"lifespan_percent_change_\n",
       "min\",\"type\":\"REAL\",\"nullable\":true,\"primary_key\":false,\"description\":\"\"},{\"name\":\"significance_min\",\"type\":\"INTEGER\n",
       "\",\"nullable\":true,\"primary_key\":false,\"description\":\"\"},{\"name\":\"lifespan_percent_change_mean\",\"type\":\"REAL\",\"nulla\n",
       "ble\":true,\"primary_key\":false,\"description\":\"Mean percent change in lifespan (average effect across cohort - use \n",
       "for ordering \n",
       "results)\"},{\"name\":\"significance_mean\",\"type\":\"INTEGER\",\"nullable\":true,\"primary_key\":false,\"description\":\"Statisti\n",
       "cal significance of mean lifespan change (1=significant, 0=not \n",
       "significant)\"},{\"name\":\"lifespan_percent_change_median\",\"type\":\"REAL\",\"nullable\":true,\"primary_key\":false,\"descript\n",
       "ion\":\"Median percent change in \n",
       "lifespan\"},{\"name\":\"significance_median\",\"type\":\"INTEGER\",\"nullable\":true,\"primary_key\":false,\"description\":\"\"},{\"n\n",
       "ame\":\"lifespan_percent_change_max\",\"type\":\"REAL\",\"nullable\":true,\"primary_key\":false,\"description\":\"Maximum percent\n",
       "change in lifespan (best individual response - show both mean and max when user asks about lifespan \n",
       "effects)\"},{\"name\":\"significance_max\",\"type\":\"INTEGER\",\"nullable\":true,\"primary_key\":false,\"description\":\"Statistic\n",
       "al significance of maximum lifespan change (1=significant, 0=not \n",
       "significant)\"},{\"name\":\"intervention_deteriorates\",\"type\":\"TEXT\",\"nullable\":true,\"primary_key\":false,\"description\":\n",
       "\"MULTI-VALUE: Biological processes that deteriorated (use LIKE \n",
       "queries)\"},{\"name\":\"intervention_improves\",\"type\":\"TEXT\",\"nullable\":true,\"primary_key\":false,\"description\":\"MULTI-V\n",
       "ALUE: Biological processes that improved (use LIKE \n",
       "queries)\"},{\"name\":\"main_effect_on_lifespan\",\"type\":\"TEXT\",\"nullable\":true,\"primary_key\":false,\"description\":\"Type \n",
       "of gene activity change (gain/loss/switch of \n",
       "function)\"},{\"name\":\"intervention_way\",\"type\":\"TEXT\",\"nullable\":true,\"primary_key\":false,\"description\":\"\"},{\"name\":\n",
       "\"intervention_method\",\"type\":\"TEXT\",\"nullable\":true,\"primary_key\":false,\"description\":\"Method used to modify gene \n",
       "(knockout, overexpression, \n",
       "etc.)\"},{\"name\":\"genotype\",\"type\":\"TEXT\",\"nullable\":true,\"primary_key\":false,\"description\":\"\"},{\"name\":\"tissue\",\"ty\n",
       "pe\":\"TEXT\",\"nullable\":true,\"primary_key\":false,\"description\":\"\"},{\"name\":\"tissue_specific_promoter\",\"type\":\"TEXT\",\"\n",
       "nullable\":true,\"primary_key\":false,\"description\":\"\"},{\"name\":\"induction_by_drug_withdrawal\",\"type\":\"INTEGER\",\"nulla\n",
       "ble\":true,\"primary_key\":false,\"description\":\"\"},{\"name\":\"drug\",\"type\":\"TEXT\",\"nullable\":true,\"primary_key\":false,\"d\n",
       "escription\":\"\"},{\"name\":\"treatment_start\",\"type\":\"TEXT\",\"nullable\":true,\"primary_key\":false,\"description\":\"\"},{\"nam\n",
       "e\":\"treatment_end\",\"type\":\"TEXT\",\"nullable\":true,\"primary_key\":false,\"description\":\"\"},{\"name\":\"doi\",\"type\":\"TEXT\",\n",
       "\"nullable\":true,\"primary_key\":false,\"description\":\"\"},{\"name\":\"pmid\",\"type\":\"REAL\",\"nullable\":true,\"primary_key\":fa\n",
       "lse,\"description\":\"\"}]},\"gene_criteria\":{\"description\":{\"purpose\":\"Aging-related criteria that genes meet (12 \n",
       "different categories)\",\"key_columns\":\"HGNC, criteria\",\"use_cases\":\"Questions about why genes are considered \n",
       "aging-related\",\"special_notes\":\"Links genes to specific aging research criteria \n",
       "classifications\"},\"columns\":|{\"name\":\"HGNC\",\"type\":\"TEXT\",\"nullable\":true,\"primary_key\":false,\"description\":\"Gene \n",
       "symbol (standard gene names like TP53, \n",
       "FOXO3)\"},{\"name\":\"criteria\",\"type\":\"TEXT\",\"nullable\":true,\"primary_key\":false,\"description\":\"Aging-related criteria\n",
       "the gene meets (12 different categories)\"}]},\"gene_hallmarks\":{\"description\":{\"purpose\":\"Links genes to hallmarks \n",
       "of aging\",\"key_columns\":\"HGNC, hallmarks of aging (multi-value field)\",\"use_cases\":\"Questions about which aging \n",
       "hallmarks genes are involved in\",\"special_notes\":\"CRITICAL: 'hallmarks of aging' column contains comma-separated \n",
       "values. Always use LIKE queries with \n",
       "wildcards.\"},\"columns\":|{\"name\":\"HGNC\",\"type\":\"TEXT\",\"nullable\":true,\"primary_key\":false,\"description\":\"Gene symbol\n",
       "(standard gene names like TP53, FOXO3)\"},{\"name\":\"hallmarks of \n",
       "aging\",\"type\":\"TEXT\",\"nullable\":true,\"primary_key\":false,\"description\":\"MULTI-VALUE: Comma-separated aging \n",
       "hallmarks (ALWAYS use LIKE queries with \n",
       "wildcards)\"}]},\"longevity_associations\":{\"description\":{\"purpose\":\"Population genetics data on gene variants \n",
       "associated with longevity\",\"key_columns\":\"HGNC, polymorphism data, ethnicity, study type\",\"use_cases\":\"Questions \n",
       "about genetic variants associated with longevity in human populations\",\"special_notes\":\"Contains SNPs, indels, and \n",
       "other genetic variations from population \n",
       "studies\"},\"columns\":|{\"name\":\"HGNC\",\"type\":\"TEXT\",\"nullable\":true,\"primary_key\":false,\"description\":\"Gene symbol \n",
       "(standard gene names like TP53, FOXO3)\"},{\"name\":\"polymorphism \n",
       "type\",\"type\":\"TEXT\",\"nullable\":true,\"primary_key\":false,\"description\":\"Type of genetic variant (SNP, In/Del, VNTR, \n",
       "etc.)\"},{\"name\":\"polymorphism id\",\"type\":\"TEXT\",\"nullable\":true,\"primary_key\":false,\"description\":\"Identifier for \n",
       "the genetic variant (e.g., rs numbers for SNPs)\"},{\"name\":\"nucleotide \n",
       "substitution\",\"type\":\"TEXT\",\"nullable\":true,\"primary_key\":false,\"description\":\"DNA sequence change for the \n",
       "variant\"},{\"name\":\"amino acid \n",
       "substitution\",\"type\":\"TEXT\",\"nullable\":true,\"primary_key\":false,\"description\":\"Protein sequence change caused by \n",
       "the variant\"},{\"name\":\"polymorphism — \n",
       "other\",\"type\":\"TEXT\",\"nullable\":true,\"primary_key\":false,\"description\":\"Additional polymorphism \n",
       "details\"},{\"name\":\"ethnicity\",\"type\":\"TEXT\",\"nullable\":true,\"primary_key\":false,\"description\":\"Ethnicity of study \n",
       "participants\"},{\"name\":\"study type\",\"type\":\"TEXT\",\"nullable\":true,\"primary_key\":false,\"description\":\"Type of \n",
       "population study (GWAS, candidate genes, meta-analysis, \n",
       "etc.)\"},{\"name\":\"sex\",\"type\":\"TEXT\",\"nullable\":true,\"primary_key\":false,\"description\":\"Sex of study \n",
       "participants\"},{\"name\":\"doi\",\"type\":\"TEXT\",\"nullable\":true,\"primary_key\":false,\"description\":\"DOI of the research \n",
       "publication\"},{\"name\":\"pmid\",\"type\":\"TEXT\",\"nullable\":true,\"primary_key\":false,\"description\":\"PubMed ID of the \n",
       "research publication\"}]}},\"enumerations\":{\"lifespan_change\":{\"model_organism\":|\"mouse\",\"roundworm Caenorhabditis \n",
       "elegans\",\"fly Drosophila melanogaster\",\"rabbit\",\"rat\",\"acyrthosiphon pisum\",\"yeasts\",\"fish Nothobranchius \n",
       "furzeri\",\"fungus Podospora anserina\",\"hamster\",\"zebrafish\",\"fish Nothobranchius \n",
       "guentheri\"],\"sex\":|\"male\",\"female\",\"all\",\"hermaphrodites\",\"not specified\",\"None\"],\"effect_on_lifespan\":|\"increases \n",
       "lifespan\",\"no change\",\"decreases lifespan\",\"increases lifespan in animals with decreased lifespans\",\"decreases \n",
       "survival under stress conditions\",\"improves survival under stress conditions\",\"decreases life span in animals with \n",
       "increased lifespans\",\"no change under stress conditions\"],\"main_effect_on_lifespan\":|\"loss of function\",\"switch of \n",
       "function\",\"gain of function\"],\"intervention_way\":|\"changes in genome level\",\"combined (inducible \n",
       "mutation)\",\"interventions by selective drug/RNAi\"],\"intervention_method\":|\"gene knockout\",\"gene modification to \n",
       "affect product activity/stability\",\"gene modification\",\"additional copies of a gene in the genome\",\"addition to the\n",
       "genome of a dominant-negative gene variant that reduces the activity of an endogenous protein\",\"treatment with \n",
       "vector with additional gene copies\",\"gene modification to reduce protein activity/stability\",\"interfering RNA \n",
       "transgene\",\"RNA interferention\",\"gene modification to increase protein activity/stability\",\"introduction into the \n",
       "genome of a construct under the control of a gene promoter, which causes death or a decrease in the viability of \n",
       "cells expressing the gene\",\"knockout of gene isoform\",\"tissue-specific gene knockout\",\"reduced expression of one of\n",
       "the isoforms in transgenic animals\",\"gene modification to reduce gene expression\",\"treatment with gene product \n",
       "inducer\",\"None\",\"tissue-specific gene overexpression\",\"additional copies of a gene in transgenic \n",
       "animals\",\"treatment with a gene product inhibitor\",\"treatment with protein\",\"gene modification to increase gene \n",
       "expression\",\"removal of cells expressing the gene\",\"splicing modification\"],\"diet\":|\"standard chow\",\"None\",\"Purina \n",
       "Lab Diet 5001, ad libitum\",\"Purina Lab Diet 5001, from birth to 12 weeks ad. lib., then 40% from ad. lib.\",\"Teklad \n",
       "LM485 Diet, ad libitum\",\"Teklad 2018S Diet, ad libitum\",\"E. coli OP50, NGM\",\"96W chow ad.lib.\",\"calorie-restricted \n",
       "diet\",\"2% yeast, 10% sucrose, 5% cornmeal\",\"2% yeasts, 10% sucrose, 5% cornmeal\",\"high-calorie food, 15% dextrose, \n",
       "15% yeast, 2% agar\",\"low-calorie food, 5% dextrose, 5% yeast, 2% agar\",\"ad libitum\",\"agar, corn meal, yeast and \n",
       "molasses\",\"E. coli HT115 L4440, NGM\"],\"tissue\":|\"None\",\"muscle\",\"neurons\",\"fat body\",\"dopaminergic \n",
       "neurons\",\"glia\",\"brain\",\"corpora cardiaca\",\"insulin-producing cells\",\"central nervous \n",
       "system\",\"intestine\",\"liver\",\"heart\",\"myeloid cells\",\"intestinal stem cells and enteroblasts\",\"adipose \n",
       "tissue\",\"melanocytes,Trp2 expressing neurons\",\"cardiomyocytes\",\"hepatocytes\",\"heart,skeletal \n",
       "muscles\",\"heart,brain,skeletal muscles\",\"skin\",\"eye\",\"connective tissue\",\"cholinergic \n",
       "neurons\",\"kidney,brain\",\"kidney,heart,brain\",\"neurolemma\",\"hypodermis\",\"mediobasal hypothalamus\",\"motor \n",
       "neurons\",\"median neurosecretory cells\",\"hypocretin expressing neurons in the hypothalamus\",\"body wall \n",
       "muscles\",\"pharynx\",\"digestive tract\",\"abdominal fat and the digestive tract\",\"skeletal muscles\",\"white adipose \n",
       "tissue\"],\"drug\":|\"None\",\"tamoxifen\",\"mifepristone RU486\",\"AAV9-mTERT\",\"MCMV-TERT\",\"interfering RNA expressing \n",
       "bacteries\",\"auxin\",\"heat shock\",\"heat \n",
       "pulse\",\"Ex8|Pcdc-48.1::cdc-48.1]\",\"tetracycline\",\"EUK-008\",\"EUK-134\",\"interfering RNA expressing bacteries \n",
       "1:1000\",\"interfering RNA expressing bacteries 1:50\",\"interfering RNA expressing bacteries \n",
       "1:10\",\"DL-beta-hydroxybutyrate\",\"DL-beta-hydroxybutyrate + sodium butirate\",\"lentiviruses, expressing \n",
       "DN-IkB-a\",\"rapamycin\",\"AP20187\",\"quinic acid\",\"Cdc42 activity-specific inhibitor\",\"Rosizlitazone\",\"lentiviruses \n",
       "expressing constitutively active IKK-betta\",\"Ex008|SKN-1 S393A::GFP]\",\"captopril\",\"Recombinant mouse serum albumin \n",
       "rMSA\",\"doxycycline\",\"Ethanol\",\"interferring RNA\",\"MCMV-FST\"]},\"gene_criteria\":{\"criteria\":|\"Age-related changes in \n",
       "gene expression, methylation or protein activity\",\"Age-related changes in gene expression, methylation or protein \n",
       "activity in humans\",\"Association of genetic variants and gene expression levels with longevity\",\"Regulation of \n",
       "genes associated with aging\",\"Changes in gene activity extend non-mammalian lifespan\",\"Changes in gene activity \n",
       "protect against age-related impairment\",\"Age-related changes in gene expression, methylation or protein activity in\n",
       "non-mammals\",\"Changes in gene activity extend mammalian lifespan\",\"Changes in gene activity reduce mammalian \n",
       "lifespan\",\"Changes in gene activity enhance age-related deterioration\",\"Changes in gene activity reduce \n",
       "non-mammalian lifespan\",\"Association of the gene with accelerated aging in \n",
       "humans\"]},\"gene_hallmarks\":{\"hallmarks_of_aging_note\":\"This is a multi-value field containing comma-separated \n",
       "values. Always use LIKE queries with wildcards.\",\"available_hallmarks\":|\"nuclear DNA instability\",\"telomere \n",
       "attrition\",\"alterations in histone modifications\",\"chromatin remodeling\",\"transcriptional alterations\",\"alterations\n",
       "in DNA methylation\",\"degradation of proteolytic systems\",\"TOR pathway dysregulation\",\"INS/IGF-1 pathway \n",
       "dysregulation\",\"AMPK pathway dysregulation\",\"SIRT pathway dysregulation\",\"impairment of the mitochondrial integrity\n",
       "and biogenesis\",\"mitochondrial DNA instability\",\"accumulation of reactive oxygen species\",\"senescent cells \n",
       "accumulation\",\"stem cell exhaustion\",\"sterile inflammation\",\"intercellular communication impairment\",\"changes in \n",
       "the extracellular matrix structure\",\"impairment of proteins folding and stability\",\"nuclear architecture \n",
       "impairment\",\"disabled \n",
       "macroautophagy\"]},\"longevity_associations\":{\"polymorphism_type\":|\"SNP\",\"In/Del\",\"n/a\",\"haplotype\",\"VNTR\",\"PCR-RFLP\"\n",
       "],\"ethnicity\":|\"Caucasian, American\",\"European\",\"Greek\",\"Ashkenazi \n",
       "Jewish\",\"Polish\",\"Chinese\",\"Caucasian\",\"Italian\",\"Japanese\",\"Danish\",\"Spanish\",\"German\",\"European, East Asian, \n",
       "African American\",\"n/a\",\"Chinese, Han\",\"Italian, Southern\",\"German, American\",\"Caucasian, African-American\",\"East \n",
       "Asian, Europeans, Caucasian American\",\"Japanese American\",\"Italian, \n",
       "Calabrian\",\"Korean\",\"Belarusian\",\"mixed\",\"Caucasian, Ashkenazi Jewish\",\"Dutch\",\"Amish\",\"French\",\"Ashkenazi Jewish, \n",
       "Amish, Caucasian\",\"Japanese, Okinawan\",\"North-eastern Italian\",\"Tatars\",\"American, Caucasians; Italian, Southern; \n",
       "French; Ashkenazi Jewish\",\"Chinese, Bama Yao, Guangxi Province\",\"Swiss\",\"German, Danes, French\",\"American, \n",
       "Caucasian\",\"Italian, Central\",\"Finnish\"],\"study type\":|\"GWAS\",\"iGWAS\",\"candidate genes study\",\"gene-based \n",
       "association approach\",\"family study\",\"single-variant association approach\",\"meta-analysis of GWAS, replication of \n",
       "previous findings\",\"meta-analysis of GWAS\",\"GWAS, discovery + replication\",\"GWAS, replication\",\"meta-analysis of \n",
       "GWAS, replication\",\"n/a\",\"meta-analysis of candidate gene studies\",\"immunochip, discovery + \n",
       "replication\",\"immunochip\"],\"sex\":|\"all\",\"male\",\"not \n",
       "specified\",\"female\"]},\"biological_processes_for_intervention_effects\":{\"note\":\"These tags are used in \n",
       "intervention_deteriorates and intervention_improves columns (multi-value fields)\",\"processes\":|\"cardiovascular \n",
       "system\",\"nervous system\",\"immune function\",\"muscle, bone, skin, liver\",\"renal function, reproductive \n",
       "function\",\"cognitive function, eyesight, hair/coat\",\"body composition\",\"glucose metabolism, lipid metabolism, \n",
       "cholesterol metabolism\",\"insulin sensitivity\",\"oxidation/antioxidant function, mitochondrial function\",\"DNA \n",
       "metabolism, carcinogenesis, apoptosis\",\"senescence, inflammation, stress responce\",\"autophagy, proliferation, \n",
       "locomotor function\",\"tissue regeneration, stem and progenitor cells\",\"blood, proteostasis, angiogenesis, \n",
       "metabolism\",\"endocrine system, intercellular matrix\",\"building and protection of telomeres\",\"cytoskeleton \n",
       "organization, nucleus structure\",\"skin and the intestine epithelial barriers function\",\"calcium homeostasis, \n",
       "proteolysis\"]}},\"biological_processes_tags\":|\"cardiovascular system\",\"nervous system\",\"immune function\",\"muscle, \n",
       "bone, skin, liver\",\"renal function, reproductive function\",\"cognitive function, eyesight, hair/coat\",\"body \n",
       "composition\",\"glucose metabolism, lipid metabolism, cholesterol metabolism\",\"insulin \n",
       "sensitivity\",\"oxidation/antioxidant function, mitochondrial function\",\"DNA metabolism, carcinogenesis, \n",
       "apoptosis\",\"senescence, inflammation, stress responce\",\"autophagy, proliferation, locomotor function\",\"tissue \n",
       "regeneration, stem and progenitor cells\",\"blood, proteostasis, angiogenesis, metabolism\",\"endocrine system, \n",
       "intercellular matrix\",\"building and protection of telomeres\",\"cytoskeleton organization, nucleus structure\",\"skin \n",
       "and the intestine epithelial barriers function\",\"calcium homeostasis, \n",
       "proteolysis\"],\"aging_hallmarks_tags\":|\"nuclear DNA instability\",\"telomere attrition\",\"alterations in histone \n",
       "modifications\",\"chromatin remodeling\",\"transcriptional alterations\",\"alterations in DNA methylation\",\"degradation \n",
       "of proteolytic systems\",\"TOR pathway dysregulation\",\"INS/IGF-1 pathway dysregulation\",\"AMPK pathway \n",
       "dysregulation\",\"SIRT pathway dysregulation\",\"impairment of the mitochondrial integrity and \n",
       "biogenesis\",\"mitochondrial DNA instability\",\"accumulation of reactive oxygen species\",\"senescent cells \n",
       "accumulation\",\"stem cell exhaustion\",\"sterile inflammation\",\"intercellular communication impairment\",\"changes in \n",
       "the extracellular matrix structure\",\"impairment of proteins folding and stability\",\"nuclear architecture \n",
       "impairment\",\"disabled macroautophagy\"]}\n",
       "</pre>\n"
      ],
      "text/plain": [
       "Observations: {\"database_overview\":{\"description\":\"OpenGenes database contains aging and lifespan research data \n",
       "with 4 main tables linked by HGNC gene symbols\",\"total_tables\":4,\"primary_key\":\"HGNC (gene symbol) - links all \n",
       "tables together\"},\"critical_query_guidelines\":{\"multi_value_fields\":{\"description\":\"Some columns contain \n",
       "comma-separated values. ALWAYS use LIKE queries with wildcards for these \n",
       "fields.\",\"fields\":|\"gene_hallmarks.'hallmarks of aging' - contains multiple aging hallmarks per \n",
       "gene\",\"lifespan_change.intervention_deteriorates - multiple biological processes that \n",
       "deteriorate\",\"lifespan_change.intervention_improves - multiple biological processes that \n",
       "improve\"],\"example_syntax\":\"WHERE \\\"hallmarks of aging\\\" LIKE '%stem cell \n",
       "exhaustion%'\"},\"lifespan_metrics\":{\"description\":\"Database contains both mean and maximum lifespan change metrics. \n",
       "When user asks about lifespan effects without specifying, show both.\",\"mean_vs_max\":\"lifespan_percent_change_mean \n",
       "shows average effect, lifespan_percent_change_max shows maximum observed effect\",\"when_to_show_both\":\"If user asks \n",
       "about 'lifespan effects' or 'lifespan changes' without specifying mean vs max, include both \n",
       "metrics\",\"ordering_both\":\"Use COALESCE(lifespan_percent_change_mean, lifespan_percent_change_max) for ordering when\n",
       "showing both\",\"significance\":\"Both mean and max have corresponding significance columns (significance_mean, \n",
       "significance_max)\"},\"result_ordering\":{\"lifespan_extension\":\"ORDER BY lifespan_percent_change_mean DESC (highest \n",
       "increase first)\",\"lifespan_reduction\":\"ORDER BY lifespan_percent_change_mean ASC (largest decrease \n",
       "first)\",\"importance\":\"Always order lifespan results by magnitude of effect for relevance\",\"both_metrics\":\"When \n",
       "showing both mean and max, use COALESCE for ordering or show \n",
       "comparison\"},\"comprehensive_aging_evidence\":{\"description\":\"For questions about aging evidence, link to aging, or \n",
       "longevity associations for a gene, query ALL 4 tables for complete evidence\",\"required_tables\":\"1) gene_criteria \n",
       "(aging-related criteria), 2) gene_hallmarks (aging pathways), 3) lifespan_change (experimental effects), 4) \n",
       "longevity_associations (human population studies)\",\"example_patterns\":\"Evidence of X and aging, Link between X and \n",
       "aging, X gene aging associations, What evidence links X to aging\",\"critical_note\":\"Do NOT omit \n",
       "longevity_associations table - it contains crucial human population genetics data\"},\"gene_queries\":\"Use HGNC column\n",
       "for gene symbols (TP53, FOXO3, etc.)\",\"safety\":\"Only SELECT queries allowed - no INSERT, UPDATE, DELETE, or DDL \n",
       "operations\"},\"tables\":{\"lifespan_change\":{\"description\":{\"purpose\":\"Experimental data on how gene modifications \n",
       "affect lifespan in various model organisms\",\"key_columns\":\"HGNC, model_organism, effect_on_lifespan, intervention \n",
       "methods, lifespan measurements\",\"use_cases\":\"Questions about gene effects on lifespan, experimental conditions, \n",
       "organism studies\",\"special_notes\":\"Contains multi-value fields for intervention effects. Use LIKE queries for \n",
       "intervention_deteriorates and intervention_improves \n",
       "columns.\"},\"columns\":|{\"name\":\"HGNC\",\"type\":\"TEXT\",\"nullable\":true,\"primary_key\":false,\"description\":\"Gene symbol \n",
       "(standard gene names like TP53, \n",
       "FOXO3)\"},{\"name\":\"model_organism\",\"type\":\"TEXT\",\"nullable\":true,\"primary_key\":false,\"description\":\"Organism used \n",
       "for experiment (mouse, C. elegans, fly, \n",
       "etc.)\"},{\"name\":\"sex\",\"type\":\"TEXT\",\"nullable\":true,\"primary_key\":false,\"description\":\"Sex of organism used (male, \n",
       "female, all, hermaphrodites, \n",
       "etc.)\"},{\"name\":\"line\",\"type\":\"TEXT\",\"nullable\":true,\"primary_key\":false,\"description\":\"\"},{\"name\":\"effect_on_lifes\n",
       "pan\",\"type\":\"TEXT\",\"nullable\":true,\"primary_key\":false,\"description\":\"Direction of lifespan change \n",
       "(increases/decreases/no \n",
       "change)\"},{\"name\":\"control_cohort_size\",\"type\":\"REAL\",\"nullable\":true,\"primary_key\":false,\"description\":\"\"},{\"name\"\n",
       ":\"experiment_cohort_size\",\"type\":\"REAL\",\"nullable\":true,\"primary_key\":false,\"description\":\"\"},{\"name\":\"quantity_of_\n",
       "animals_in_cage_or_container\",\"type\":\"REAL\",\"nullable\":true,\"primary_key\":false,\"description\":\"\"},{\"name\":\"containm\n",
       "ent_t_celsius_from\",\"type\":\"REAL\",\"nullable\":true,\"primary_key\":false,\"description\":\"\"},{\"name\":\"containment_t_cels\n",
       "ius_to\",\"type\":\"TEXT\",\"nullable\":true,\"primary_key\":false,\"description\":\"\"},{\"name\":\"diet\",\"type\":\"TEXT\",\"nullable\"\n",
       ":true,\"primary_key\":false,\"description\":\"\"},{\"name\":\"target_gene_expression_change\",\"type\":\"REAL\",\"nullable\":true,\"\n",
       "primary_key\":false,\"description\":\"\"},{\"name\":\"control_lifespan_min\",\"type\":\"REAL\",\"nullable\":true,\"primary_key\":fal\n",
       "se,\"description\":\"\"},{\"name\":\"control_lifespan_mean\",\"type\":\"REAL\",\"nullable\":true,\"primary_key\":false,\"description\n",
       "\":\"Mean lifespan of control \n",
       "group\"},{\"name\":\"control_lifespan_median\",\"type\":\"REAL\",\"nullable\":true,\"primary_key\":false,\"description\":\"\"},{\"nam\n",
       "e\":\"control_lifespan_max\",\"type\":\"REAL\",\"nullable\":true,\"primary_key\":false,\"description\":\"\"},{\"name\":\"experiment_l\n",
       "ifespan_min\",\"type\":\"REAL\",\"nullable\":true,\"primary_key\":false,\"description\":\"\"},{\"name\":\"experiment_lifespan_mean\"\n",
       ",\"type\":\"REAL\",\"nullable\":true,\"primary_key\":false,\"description\":\"Mean lifespan of experimental \n",
       "group\"},{\"name\":\"experiment_lifespan_median\",\"type\":\"REAL\",\"nullable\":true,\"primary_key\":false,\"description\":\"\"},{\"\n",
       "name\":\"experiment_lifespan_max\",\"type\":\"REAL\",\"nullable\":true,\"primary_key\":false,\"description\":\"\"},{\"name\":\"lifesp\n",
       "an_time_unit\",\"type\":\"TEXT\",\"nullable\":true,\"primary_key\":false,\"description\":\"\"},{\"name\":\"lifespan_percent_change_\n",
       "min\",\"type\":\"REAL\",\"nullable\":true,\"primary_key\":false,\"description\":\"\"},{\"name\":\"significance_min\",\"type\":\"INTEGER\n",
       "\",\"nullable\":true,\"primary_key\":false,\"description\":\"\"},{\"name\":\"lifespan_percent_change_mean\",\"type\":\"REAL\",\"nulla\n",
       "ble\":true,\"primary_key\":false,\"description\":\"Mean percent change in lifespan (average effect across cohort - use \n",
       "for ordering \n",
       "results)\"},{\"name\":\"significance_mean\",\"type\":\"INTEGER\",\"nullable\":true,\"primary_key\":false,\"description\":\"Statisti\n",
       "cal significance of mean lifespan change (1=significant, 0=not \n",
       "significant)\"},{\"name\":\"lifespan_percent_change_median\",\"type\":\"REAL\",\"nullable\":true,\"primary_key\":false,\"descript\n",
       "ion\":\"Median percent change in \n",
       "lifespan\"},{\"name\":\"significance_median\",\"type\":\"INTEGER\",\"nullable\":true,\"primary_key\":false,\"description\":\"\"},{\"n\n",
       "ame\":\"lifespan_percent_change_max\",\"type\":\"REAL\",\"nullable\":true,\"primary_key\":false,\"description\":\"Maximum percent\n",
       "change in lifespan (best individual response - show both mean and max when user asks about lifespan \n",
       "effects)\"},{\"name\":\"significance_max\",\"type\":\"INTEGER\",\"nullable\":true,\"primary_key\":false,\"description\":\"Statistic\n",
       "al significance of maximum lifespan change (1=significant, 0=not \n",
       "significant)\"},{\"name\":\"intervention_deteriorates\",\"type\":\"TEXT\",\"nullable\":true,\"primary_key\":false,\"description\":\n",
       "\"MULTI-VALUE: Biological processes that deteriorated (use LIKE \n",
       "queries)\"},{\"name\":\"intervention_improves\",\"type\":\"TEXT\",\"nullable\":true,\"primary_key\":false,\"description\":\"MULTI-V\n",
       "ALUE: Biological processes that improved (use LIKE \n",
       "queries)\"},{\"name\":\"main_effect_on_lifespan\",\"type\":\"TEXT\",\"nullable\":true,\"primary_key\":false,\"description\":\"Type \n",
       "of gene activity change (gain/loss/switch of \n",
       "function)\"},{\"name\":\"intervention_way\",\"type\":\"TEXT\",\"nullable\":true,\"primary_key\":false,\"description\":\"\"},{\"name\":\n",
       "\"intervention_method\",\"type\":\"TEXT\",\"nullable\":true,\"primary_key\":false,\"description\":\"Method used to modify gene \n",
       "(knockout, overexpression, \n",
       "etc.)\"},{\"name\":\"genotype\",\"type\":\"TEXT\",\"nullable\":true,\"primary_key\":false,\"description\":\"\"},{\"name\":\"tissue\",\"ty\n",
       "pe\":\"TEXT\",\"nullable\":true,\"primary_key\":false,\"description\":\"\"},{\"name\":\"tissue_specific_promoter\",\"type\":\"TEXT\",\"\n",
       "nullable\":true,\"primary_key\":false,\"description\":\"\"},{\"name\":\"induction_by_drug_withdrawal\",\"type\":\"INTEGER\",\"nulla\n",
       "ble\":true,\"primary_key\":false,\"description\":\"\"},{\"name\":\"drug\",\"type\":\"TEXT\",\"nullable\":true,\"primary_key\":false,\"d\n",
       "escription\":\"\"},{\"name\":\"treatment_start\",\"type\":\"TEXT\",\"nullable\":true,\"primary_key\":false,\"description\":\"\"},{\"nam\n",
       "e\":\"treatment_end\",\"type\":\"TEXT\",\"nullable\":true,\"primary_key\":false,\"description\":\"\"},{\"name\":\"doi\",\"type\":\"TEXT\",\n",
       "\"nullable\":true,\"primary_key\":false,\"description\":\"\"},{\"name\":\"pmid\",\"type\":\"REAL\",\"nullable\":true,\"primary_key\":fa\n",
       "lse,\"description\":\"\"}]},\"gene_criteria\":{\"description\":{\"purpose\":\"Aging-related criteria that genes meet (12 \n",
       "different categories)\",\"key_columns\":\"HGNC, criteria\",\"use_cases\":\"Questions about why genes are considered \n",
       "aging-related\",\"special_notes\":\"Links genes to specific aging research criteria \n",
       "classifications\"},\"columns\":|{\"name\":\"HGNC\",\"type\":\"TEXT\",\"nullable\":true,\"primary_key\":false,\"description\":\"Gene \n",
       "symbol (standard gene names like TP53, \n",
       "FOXO3)\"},{\"name\":\"criteria\",\"type\":\"TEXT\",\"nullable\":true,\"primary_key\":false,\"description\":\"Aging-related criteria\n",
       "the gene meets (12 different categories)\"}]},\"gene_hallmarks\":{\"description\":{\"purpose\":\"Links genes to hallmarks \n",
       "of aging\",\"key_columns\":\"HGNC, hallmarks of aging (multi-value field)\",\"use_cases\":\"Questions about which aging \n",
       "hallmarks genes are involved in\",\"special_notes\":\"CRITICAL: 'hallmarks of aging' column contains comma-separated \n",
       "values. Always use LIKE queries with \n",
       "wildcards.\"},\"columns\":|{\"name\":\"HGNC\",\"type\":\"TEXT\",\"nullable\":true,\"primary_key\":false,\"description\":\"Gene symbol\n",
       "(standard gene names like TP53, FOXO3)\"},{\"name\":\"hallmarks of \n",
       "aging\",\"type\":\"TEXT\",\"nullable\":true,\"primary_key\":false,\"description\":\"MULTI-VALUE: Comma-separated aging \n",
       "hallmarks (ALWAYS use LIKE queries with \n",
       "wildcards)\"}]},\"longevity_associations\":{\"description\":{\"purpose\":\"Population genetics data on gene variants \n",
       "associated with longevity\",\"key_columns\":\"HGNC, polymorphism data, ethnicity, study type\",\"use_cases\":\"Questions \n",
       "about genetic variants associated with longevity in human populations\",\"special_notes\":\"Contains SNPs, indels, and \n",
       "other genetic variations from population \n",
       "studies\"},\"columns\":|{\"name\":\"HGNC\",\"type\":\"TEXT\",\"nullable\":true,\"primary_key\":false,\"description\":\"Gene symbol \n",
       "(standard gene names like TP53, FOXO3)\"},{\"name\":\"polymorphism \n",
       "type\",\"type\":\"TEXT\",\"nullable\":true,\"primary_key\":false,\"description\":\"Type of genetic variant (SNP, In/Del, VNTR, \n",
       "etc.)\"},{\"name\":\"polymorphism id\",\"type\":\"TEXT\",\"nullable\":true,\"primary_key\":false,\"description\":\"Identifier for \n",
       "the genetic variant (e.g., rs numbers for SNPs)\"},{\"name\":\"nucleotide \n",
       "substitution\",\"type\":\"TEXT\",\"nullable\":true,\"primary_key\":false,\"description\":\"DNA sequence change for the \n",
       "variant\"},{\"name\":\"amino acid \n",
       "substitution\",\"type\":\"TEXT\",\"nullable\":true,\"primary_key\":false,\"description\":\"Protein sequence change caused by \n",
       "the variant\"},{\"name\":\"polymorphism — \n",
       "other\",\"type\":\"TEXT\",\"nullable\":true,\"primary_key\":false,\"description\":\"Additional polymorphism \n",
       "details\"},{\"name\":\"ethnicity\",\"type\":\"TEXT\",\"nullable\":true,\"primary_key\":false,\"description\":\"Ethnicity of study \n",
       "participants\"},{\"name\":\"study type\",\"type\":\"TEXT\",\"nullable\":true,\"primary_key\":false,\"description\":\"Type of \n",
       "population study (GWAS, candidate genes, meta-analysis, \n",
       "etc.)\"},{\"name\":\"sex\",\"type\":\"TEXT\",\"nullable\":true,\"primary_key\":false,\"description\":\"Sex of study \n",
       "participants\"},{\"name\":\"doi\",\"type\":\"TEXT\",\"nullable\":true,\"primary_key\":false,\"description\":\"DOI of the research \n",
       "publication\"},{\"name\":\"pmid\",\"type\":\"TEXT\",\"nullable\":true,\"primary_key\":false,\"description\":\"PubMed ID of the \n",
       "research publication\"}]}},\"enumerations\":{\"lifespan_change\":{\"model_organism\":|\"mouse\",\"roundworm Caenorhabditis \n",
       "elegans\",\"fly Drosophila melanogaster\",\"rabbit\",\"rat\",\"acyrthosiphon pisum\",\"yeasts\",\"fish Nothobranchius \n",
       "furzeri\",\"fungus Podospora anserina\",\"hamster\",\"zebrafish\",\"fish Nothobranchius \n",
       "guentheri\"],\"sex\":|\"male\",\"female\",\"all\",\"hermaphrodites\",\"not specified\",\"None\"],\"effect_on_lifespan\":|\"increases \n",
       "lifespan\",\"no change\",\"decreases lifespan\",\"increases lifespan in animals with decreased lifespans\",\"decreases \n",
       "survival under stress conditions\",\"improves survival under stress conditions\",\"decreases life span in animals with \n",
       "increased lifespans\",\"no change under stress conditions\"],\"main_effect_on_lifespan\":|\"loss of function\",\"switch of \n",
       "function\",\"gain of function\"],\"intervention_way\":|\"changes in genome level\",\"combined (inducible \n",
       "mutation)\",\"interventions by selective drug/RNAi\"],\"intervention_method\":|\"gene knockout\",\"gene modification to \n",
       "affect product activity/stability\",\"gene modification\",\"additional copies of a gene in the genome\",\"addition to the\n",
       "genome of a dominant-negative gene variant that reduces the activity of an endogenous protein\",\"treatment with \n",
       "vector with additional gene copies\",\"gene modification to reduce protein activity/stability\",\"interfering RNA \n",
       "transgene\",\"RNA interferention\",\"gene modification to increase protein activity/stability\",\"introduction into the \n",
       "genome of a construct under the control of a gene promoter, which causes death or a decrease in the viability of \n",
       "cells expressing the gene\",\"knockout of gene isoform\",\"tissue-specific gene knockout\",\"reduced expression of one of\n",
       "the isoforms in transgenic animals\",\"gene modification to reduce gene expression\",\"treatment with gene product \n",
       "inducer\",\"None\",\"tissue-specific gene overexpression\",\"additional copies of a gene in transgenic \n",
       "animals\",\"treatment with a gene product inhibitor\",\"treatment with protein\",\"gene modification to increase gene \n",
       "expression\",\"removal of cells expressing the gene\",\"splicing modification\"],\"diet\":|\"standard chow\",\"None\",\"Purina \n",
       "Lab Diet 5001, ad libitum\",\"Purina Lab Diet 5001, from birth to 12 weeks ad. lib., then 40% from ad. lib.\",\"Teklad \n",
       "LM485 Diet, ad libitum\",\"Teklad 2018S Diet, ad libitum\",\"E. coli OP50, NGM\",\"96W chow ad.lib.\",\"calorie-restricted \n",
       "diet\",\"2% yeast, 10% sucrose, 5% cornmeal\",\"2% yeasts, 10% sucrose, 5% cornmeal\",\"high-calorie food, 15% dextrose, \n",
       "15% yeast, 2% agar\",\"low-calorie food, 5% dextrose, 5% yeast, 2% agar\",\"ad libitum\",\"agar, corn meal, yeast and \n",
       "molasses\",\"E. coli HT115 L4440, NGM\"],\"tissue\":|\"None\",\"muscle\",\"neurons\",\"fat body\",\"dopaminergic \n",
       "neurons\",\"glia\",\"brain\",\"corpora cardiaca\",\"insulin-producing cells\",\"central nervous \n",
       "system\",\"intestine\",\"liver\",\"heart\",\"myeloid cells\",\"intestinal stem cells and enteroblasts\",\"adipose \n",
       "tissue\",\"melanocytes,Trp2 expressing neurons\",\"cardiomyocytes\",\"hepatocytes\",\"heart,skeletal \n",
       "muscles\",\"heart,brain,skeletal muscles\",\"skin\",\"eye\",\"connective tissue\",\"cholinergic \n",
       "neurons\",\"kidney,brain\",\"kidney,heart,brain\",\"neurolemma\",\"hypodermis\",\"mediobasal hypothalamus\",\"motor \n",
       "neurons\",\"median neurosecretory cells\",\"hypocretin expressing neurons in the hypothalamus\",\"body wall \n",
       "muscles\",\"pharynx\",\"digestive tract\",\"abdominal fat and the digestive tract\",\"skeletal muscles\",\"white adipose \n",
       "tissue\"],\"drug\":|\"None\",\"tamoxifen\",\"mifepristone RU486\",\"AAV9-mTERT\",\"MCMV-TERT\",\"interfering RNA expressing \n",
       "bacteries\",\"auxin\",\"heat shock\",\"heat \n",
       "pulse\",\"Ex8|Pcdc-48.1::cdc-48.1]\",\"tetracycline\",\"EUK-008\",\"EUK-134\",\"interfering RNA expressing bacteries \n",
       "1:1000\",\"interfering RNA expressing bacteries 1:50\",\"interfering RNA expressing bacteries \n",
       "1:10\",\"DL-beta-hydroxybutyrate\",\"DL-beta-hydroxybutyrate + sodium butirate\",\"lentiviruses, expressing \n",
       "DN-IkB-a\",\"rapamycin\",\"AP20187\",\"quinic acid\",\"Cdc42 activity-specific inhibitor\",\"Rosizlitazone\",\"lentiviruses \n",
       "expressing constitutively active IKK-betta\",\"Ex008|SKN-1 S393A::GFP]\",\"captopril\",\"Recombinant mouse serum albumin \n",
       "rMSA\",\"doxycycline\",\"Ethanol\",\"interferring RNA\",\"MCMV-FST\"]},\"gene_criteria\":{\"criteria\":|\"Age-related changes in \n",
       "gene expression, methylation or protein activity\",\"Age-related changes in gene expression, methylation or protein \n",
       "activity in humans\",\"Association of genetic variants and gene expression levels with longevity\",\"Regulation of \n",
       "genes associated with aging\",\"Changes in gene activity extend non-mammalian lifespan\",\"Changes in gene activity \n",
       "protect against age-related impairment\",\"Age-related changes in gene expression, methylation or protein activity in\n",
       "non-mammals\",\"Changes in gene activity extend mammalian lifespan\",\"Changes in gene activity reduce mammalian \n",
       "lifespan\",\"Changes in gene activity enhance age-related deterioration\",\"Changes in gene activity reduce \n",
       "non-mammalian lifespan\",\"Association of the gene with accelerated aging in \n",
       "humans\"]},\"gene_hallmarks\":{\"hallmarks_of_aging_note\":\"This is a multi-value field containing comma-separated \n",
       "values. Always use LIKE queries with wildcards.\",\"available_hallmarks\":|\"nuclear DNA instability\",\"telomere \n",
       "attrition\",\"alterations in histone modifications\",\"chromatin remodeling\",\"transcriptional alterations\",\"alterations\n",
       "in DNA methylation\",\"degradation of proteolytic systems\",\"TOR pathway dysregulation\",\"INS/IGF-1 pathway \n",
       "dysregulation\",\"AMPK pathway dysregulation\",\"SIRT pathway dysregulation\",\"impairment of the mitochondrial integrity\n",
       "and biogenesis\",\"mitochondrial DNA instability\",\"accumulation of reactive oxygen species\",\"senescent cells \n",
       "accumulation\",\"stem cell exhaustion\",\"sterile inflammation\",\"intercellular communication impairment\",\"changes in \n",
       "the extracellular matrix structure\",\"impairment of proteins folding and stability\",\"nuclear architecture \n",
       "impairment\",\"disabled \n",
       "macroautophagy\"]},\"longevity_associations\":{\"polymorphism_type\":|\"SNP\",\"In/Del\",\"n/a\",\"haplotype\",\"VNTR\",\"PCR-RFLP\"\n",
       "],\"ethnicity\":|\"Caucasian, American\",\"European\",\"Greek\",\"Ashkenazi \n",
       "Jewish\",\"Polish\",\"Chinese\",\"Caucasian\",\"Italian\",\"Japanese\",\"Danish\",\"Spanish\",\"German\",\"European, East Asian, \n",
       "African American\",\"n/a\",\"Chinese, Han\",\"Italian, Southern\",\"German, American\",\"Caucasian, African-American\",\"East \n",
       "Asian, Europeans, Caucasian American\",\"Japanese American\",\"Italian, \n",
       "Calabrian\",\"Korean\",\"Belarusian\",\"mixed\",\"Caucasian, Ashkenazi Jewish\",\"Dutch\",\"Amish\",\"French\",\"Ashkenazi Jewish, \n",
       "Amish, Caucasian\",\"Japanese, Okinawan\",\"North-eastern Italian\",\"Tatars\",\"American, Caucasians; Italian, Southern; \n",
       "French; Ashkenazi Jewish\",\"Chinese, Bama Yao, Guangxi Province\",\"Swiss\",\"German, Danes, French\",\"American, \n",
       "Caucasian\",\"Italian, Central\",\"Finnish\"],\"study type\":|\"GWAS\",\"iGWAS\",\"candidate genes study\",\"gene-based \n",
       "association approach\",\"family study\",\"single-variant association approach\",\"meta-analysis of GWAS, replication of \n",
       "previous findings\",\"meta-analysis of GWAS\",\"GWAS, discovery + replication\",\"GWAS, replication\",\"meta-analysis of \n",
       "GWAS, replication\",\"n/a\",\"meta-analysis of candidate gene studies\",\"immunochip, discovery + \n",
       "replication\",\"immunochip\"],\"sex\":|\"all\",\"male\",\"not \n",
       "specified\",\"female\"]},\"biological_processes_for_intervention_effects\":{\"note\":\"These tags are used in \n",
       "intervention_deteriorates and intervention_improves columns (multi-value fields)\",\"processes\":|\"cardiovascular \n",
       "system\",\"nervous system\",\"immune function\",\"muscle, bone, skin, liver\",\"renal function, reproductive \n",
       "function\",\"cognitive function, eyesight, hair/coat\",\"body composition\",\"glucose metabolism, lipid metabolism, \n",
       "cholesterol metabolism\",\"insulin sensitivity\",\"oxidation/antioxidant function, mitochondrial function\",\"DNA \n",
       "metabolism, carcinogenesis, apoptosis\",\"senescence, inflammation, stress responce\",\"autophagy, proliferation, \n",
       "locomotor function\",\"tissue regeneration, stem and progenitor cells\",\"blood, proteostasis, angiogenesis, \n",
       "metabolism\",\"endocrine system, intercellular matrix\",\"building and protection of telomeres\",\"cytoskeleton \n",
       "organization, nucleus structure\",\"skin and the intestine epithelial barriers function\",\"calcium homeostasis, \n",
       "proteolysis\"]}},\"biological_processes_tags\":|\"cardiovascular system\",\"nervous system\",\"immune function\",\"muscle, \n",
       "bone, skin, liver\",\"renal function, reproductive function\",\"cognitive function, eyesight, hair/coat\",\"body \n",
       "composition\",\"glucose metabolism, lipid metabolism, cholesterol metabolism\",\"insulin \n",
       "sensitivity\",\"oxidation/antioxidant function, mitochondrial function\",\"DNA metabolism, carcinogenesis, \n",
       "apoptosis\",\"senescence, inflammation, stress responce\",\"autophagy, proliferation, locomotor function\",\"tissue \n",
       "regeneration, stem and progenitor cells\",\"blood, proteostasis, angiogenesis, metabolism\",\"endocrine system, \n",
       "intercellular matrix\",\"building and protection of telomeres\",\"cytoskeleton organization, nucleus structure\",\"skin \n",
       "and the intestine epithelial barriers function\",\"calcium homeostasis, \n",
       "proteolysis\"],\"aging_hallmarks_tags\":|\"nuclear DNA instability\",\"telomere attrition\",\"alterations in histone \n",
       "modifications\",\"chromatin remodeling\",\"transcriptional alterations\",\"alterations in DNA methylation\",\"degradation \n",
       "of proteolytic systems\",\"TOR pathway dysregulation\",\"INS/IGF-1 pathway dysregulation\",\"AMPK pathway \n",
       "dysregulation\",\"SIRT pathway dysregulation\",\"impairment of the mitochondrial integrity and \n",
       "biogenesis\",\"mitochondrial DNA instability\",\"accumulation of reactive oxygen species\",\"senescent cells \n",
       "accumulation\",\"stem cell exhaustion\",\"sterile inflammation\",\"intercellular communication impairment\",\"changes in \n",
       "the extracellular matrix structure\",\"impairment of proteins folding and stability\",\"nuclear architecture \n",
       "impairment\",\"disabled macroautophagy\"]}\n"
      ]
     },
     "metadata": {},
     "output_type": "display_data"
    },
    {
     "data": {
      "text/html": [
       "<pre style=\"white-space:pre;overflow-x:auto;line-height:normal;font-family:Menlo,'DejaVu Sans Mono',consolas,'Courier New',monospace\"><span style=\"color: #7f7f7f; text-decoration-color: #7f7f7f\">[Step 1: Duration 1.93 seconds| Input tokens: 9,474 | Output tokens: 34]</span>\n",
       "</pre>\n"
      ],
      "text/plain": [
       "\u001B[2m[Step 1: Duration 1.93 seconds| Input tokens: 9,474 | Output tokens: 34]\u001B[0m\n"
      ]
     },
     "metadata": {},
     "output_type": "display_data"
    },
    {
     "data": {
      "text/html": [
       "<pre style=\"white-space:pre;overflow-x:auto;line-height:normal;font-family:Menlo,'DejaVu Sans Mono',consolas,'Courier New',monospace\"><span style=\"color: #d4b702; text-decoration-color: #d4b702\">━━━━━━━━━━━━━━━━━━━━━━━━━━━━━━━━━━━━━━━━━━━━━━━━━━━━━ </span><span style=\"font-weight: bold\">Step 2</span><span style=\"color: #d4b702; text-decoration-color: #d4b702\"> ━━━━━━━━━━━━━━━━━━━━━━━━━━━━━━━━━━━━━━━━━━━━━━━━━━━━━━</span>\n",
       "</pre>\n"
      ],
      "text/plain": [
       "\u001B[38;2;212;183;2m━━━━━━━━━━━━━━━━━━━━━━━━━━━━━━━━━━━━━━━━━━━━━━━━━━━━━ \u001B[0m\u001B[1mStep 2\u001B[0m\u001B[38;2;212;183;2m ━━━━━━━━━━━━━━━━━━━━━━━━━━━━━━━━━━━━━━━━━━━━━━━━━━━━━━\u001B[0m\n"
      ]
     },
     "metadata": {},
     "output_type": "display_data"
    }
   ],
   "source": [
    "output = run_query(\"NRF2\")"
   ]
  },
  {
   "cell_type": "code",
   "execution_count": null,
   "id": "b6524e09-f196-4dc8-8fd7-1212d470a4e1",
   "metadata": {},
   "outputs": [],
   "source": [
    "output"
   ]
  }
 ],
 "metadata": {
  "kernelspec": {
   "display_name": "Python 3 (ipykernel)",
   "language": "python",
   "name": "python3"
  },
  "language_info": {
   "codemirror_mode": {
    "name": "ipython",
    "version": 3
   },
   "file_extension": ".py",
   "mimetype": "text/x-python",
   "name": "python",
   "nbconvert_exporter": "python",
   "pygments_lexer": "ipython3",
   "version": "3.11.9"
  }
 },
 "nbformat": 4,
 "nbformat_minor": 5
}
